{
 "cells": [
  {
   "cell_type": "code",
   "execution_count": 2,
   "id": "0c9309f8",
   "metadata": {},
   "outputs": [],
   "source": [
    "import numpy as np\n",
    "import pandas as pd\n",
    "import matplotlib.pyplot as plt\n",
    "import re\n",
    "from datetime import datetime, time\n",
    "import scipy.cluster.hierarchy as sch\n",
    "from sklearn.cluster import AgglomerativeClustering\n",
    "from sklearn.metrics import silhouette_score\n",
    "from difflib import SequenceMatcher\n",
    "from sklearn.preprocessing import normalize\n",
    "from sklearn.linear_model import LogisticRegression\n",
    "import seaborn as sns\n",
    "from sklearn.metrics import confusion_matrix\n",
    "from sklearn.metrics import accuracy_score\n",
    "from sklearn.metrics import recall_score\n",
    "from sklearn.metrics import precision_score\n",
    "from sklearn.preprocessing import MinMaxScaler\n",
    "import statsmodels.api as sm\n",
    "import statsmodels.formula.api as smf\n",
    "from sklearn.model_selection import train_test_split\n",
    "from sklearn.metrics import roc_curve\n",
    "from sklearn.metrics import auc\n",
    "from statsmodels.regression.linear_model import OLSResults"
   ]
  },
  {
   "cell_type": "code",
   "execution_count": 3,
   "id": "0b69b88d",
   "metadata": {},
   "outputs": [],
   "source": [
    "df = pd.read_csv(\"between-patch.csv\")\n",
    "pd.set_option('display.max_columns', None)"
   ]
  },
  {
   "cell_type": "code",
   "execution_count": 4,
   "id": "88cc5418",
   "metadata": {},
   "outputs": [],
   "source": [
    "p = re.compile(r'<.*?>')\n",
    "\n",
    "for ind, row in df.iterrows():\n",
    "    title_count = p.sub('',  df.loc[ind, \"Title\"])\n",
    "    description_count = p.sub('',  df.loc[ind, \"Body\"])\n",
    "    df.loc[ind, \"Words_in_Title\"] = len(re.findall(r'\\w+',title_count))\n",
    "    df.loc[ind, \"Words_in_Title_Description\"] = len(re.findall(r'\\w+',description_count))"
   ]
  },
  {
   "cell_type": "code",
   "execution_count": 5,
   "id": "da732c63",
   "metadata": {},
   "outputs": [],
   "source": [
    "pattern = \"<\"\n",
    "\n",
    "for ind, row in df.iterrows():\n",
    "    df.loc[ind,\"Tags_Count\"] = len(re.findall(pattern, df.loc[ind,\"Tags\"]))"
   ]
  },
  {
   "cell_type": "code",
   "execution_count": 6,
   "id": "3f2a26bf",
   "metadata": {},
   "outputs": [],
   "source": [
    "for ind , row in df.iterrows():\n",
    "    title = df.loc[ind,\"Title\"]\n",
    "    tag = re.sub(r'[^\\w]', ' ', df.loc[ind, \"Tags\"])\n",
    "#     print(format((SequenceMatcher(None, title,tag).ratio()*100),\".2f\"),\"%\")\n",
    "    df.loc[ind, \"title_tag_ratio\"] = format((SequenceMatcher(None, title,tag).ratio()*100),\".2f\")"
   ]
  },
  {
   "cell_type": "code",
   "execution_count": 7,
   "id": "ca453128",
   "metadata": {},
   "outputs": [],
   "source": [
    "df['Tags_Count'] = df['Tags_Count'].astype(int)\n",
    "df['Words_in_Title_Description'] = df['Words_in_Title_Description'].astype(int)"
   ]
  },
  {
   "cell_type": "code",
   "execution_count": 8,
   "id": "cd315e85",
   "metadata": {},
   "outputs": [],
   "source": [
    "df.drop(['Id','Score','Title','ViewCount','FavoriteCount','Body','Tags','CreationDate','LastActivityDate','LastEditDate','Auth_reputation','Editor_reputation','AcceptedAnswerId','Words_in_Title','title_tag_ratio','ClosedDate'], axis=1, inplace=True)"
   ]
  },
  {
   "cell_type": "code",
   "execution_count": 11,
   "id": "ae402db3",
   "metadata": {},
   "outputs": [],
   "source": [
    "data_scaled = normalize(df)"
   ]
  },
  {
   "cell_type": "code",
   "execution_count": 12,
   "id": "47a8b43f",
   "metadata": {},
   "outputs": [
    {
     "data": {
      "text/plain": [
       "AgglomerativeClustering()"
      ]
     },
     "execution_count": 12,
     "metadata": {},
     "output_type": "execute_result"
    }
   ],
   "source": [
    "hc = AgglomerativeClustering(n_clusters=2,affinity=\"euclidean\",linkage=\"ward\")\n",
    "hc.fit(data_scaled)"
   ]
  },
  {
   "cell_type": "code",
   "execution_count": 13,
   "id": "fec2ba9f",
   "metadata": {},
   "outputs": [
    {
     "data": {
      "text/plain": [
       "array([1, 1, 1, ..., 0, 1, 1], dtype=int64)"
      ]
     },
     "execution_count": 13,
     "metadata": {},
     "output_type": "execute_result"
    }
   ],
   "source": [
    "membership = hc.labels_\n",
    "membership"
   ]
  },
  {
   "cell_type": "code",
   "execution_count": 14,
   "id": "a6188f55",
   "metadata": {},
   "outputs": [],
   "source": [
    "df_0 = df[hc.labels_==0]"
   ]
  },
  {
   "cell_type": "code",
   "execution_count": 15,
   "id": "45e749b4",
   "metadata": {},
   "outputs": [],
   "source": [
    "df_1 = df[hc.labels_==1]"
   ]
  },
  {
   "cell_type": "code",
   "execution_count": 26,
   "id": "9d8576fd",
   "metadata": {},
   "outputs": [],
   "source": [
    "cost0 = df_0.sort_values(['AnswerCount'], ascending=[False])"
   ]
  },
  {
   "cell_type": "code",
   "execution_count": 27,
   "id": "dd09a32a",
   "metadata": {},
   "outputs": [
    {
     "data": {
      "text/html": [
       "<div>\n",
       "<style scoped>\n",
       "    .dataframe tbody tr th:only-of-type {\n",
       "        vertical-align: middle;\n",
       "    }\n",
       "\n",
       "    .dataframe tbody tr th {\n",
       "        vertical-align: top;\n",
       "    }\n",
       "\n",
       "    .dataframe thead th {\n",
       "        text-align: right;\n",
       "    }\n",
       "</style>\n",
       "<table border=\"1\" class=\"dataframe\">\n",
       "  <thead>\n",
       "    <tr style=\"text-align: right;\">\n",
       "      <th></th>\n",
       "      <th>AnswerCount</th>\n",
       "      <th>CommentCount</th>\n",
       "      <th>Words_in_Title_Description</th>\n",
       "      <th>Tags_Count</th>\n",
       "    </tr>\n",
       "  </thead>\n",
       "  <tbody>\n",
       "    <tr>\n",
       "      <th>137</th>\n",
       "      <td>97</td>\n",
       "      <td>7</td>\n",
       "      <td>131</td>\n",
       "      <td>3</td>\n",
       "    </tr>\n",
       "    <tr>\n",
       "      <th>459</th>\n",
       "      <td>86</td>\n",
       "      <td>0</td>\n",
       "      <td>45</td>\n",
       "      <td>5</td>\n",
       "    </tr>\n",
       "    <tr>\n",
       "      <th>21</th>\n",
       "      <td>50</td>\n",
       "      <td>2</td>\n",
       "      <td>36</td>\n",
       "      <td>2</td>\n",
       "    </tr>\n",
       "    <tr>\n",
       "      <th>1865</th>\n",
       "      <td>44</td>\n",
       "      <td>13</td>\n",
       "      <td>264</td>\n",
       "      <td>3</td>\n",
       "    </tr>\n",
       "    <tr>\n",
       "      <th>92</th>\n",
       "      <td>41</td>\n",
       "      <td>2</td>\n",
       "      <td>56</td>\n",
       "      <td>1</td>\n",
       "    </tr>\n",
       "  </tbody>\n",
       "</table>\n",
       "</div>"
      ],
      "text/plain": [
       "      AnswerCount  CommentCount  Words_in_Title_Description  Tags_Count\n",
       "137            97             7                         131           3\n",
       "459            86             0                          45           5\n",
       "21             50             2                          36           2\n",
       "1865           44            13                         264           3\n",
       "92             41             2                          56           1"
      ]
     },
     "execution_count": 27,
     "metadata": {},
     "output_type": "execute_result"
    }
   ],
   "source": [
    "cost0.head(5)"
   ]
  },
  {
   "cell_type": "code",
   "execution_count": 28,
   "id": "6f5f131a",
   "metadata": {},
   "outputs": [],
   "source": [
    "cost1 = df_1.sort_values(['AnswerCount'], ascending=[False])"
   ]
  },
  {
   "cell_type": "code",
   "execution_count": 29,
   "id": "40f8f4f3",
   "metadata": {},
   "outputs": [
    {
     "data": {
      "text/html": [
       "<div>\n",
       "<style scoped>\n",
       "    .dataframe tbody tr th:only-of-type {\n",
       "        vertical-align: middle;\n",
       "    }\n",
       "\n",
       "    .dataframe tbody tr th {\n",
       "        vertical-align: top;\n",
       "    }\n",
       "\n",
       "    .dataframe thead th {\n",
       "        text-align: right;\n",
       "    }\n",
       "</style>\n",
       "<table border=\"1\" class=\"dataframe\">\n",
       "  <thead>\n",
       "    <tr style=\"text-align: right;\">\n",
       "      <th></th>\n",
       "      <th>AnswerCount</th>\n",
       "      <th>CommentCount</th>\n",
       "      <th>Words_in_Title_Description</th>\n",
       "      <th>Tags_Count</th>\n",
       "    </tr>\n",
       "  </thead>\n",
       "  <tbody>\n",
       "    <tr>\n",
       "      <th>4345</th>\n",
       "      <td>18</td>\n",
       "      <td>4</td>\n",
       "      <td>202</td>\n",
       "      <td>3</td>\n",
       "    </tr>\n",
       "    <tr>\n",
       "      <th>325</th>\n",
       "      <td>14</td>\n",
       "      <td>3</td>\n",
       "      <td>400</td>\n",
       "      <td>3</td>\n",
       "    </tr>\n",
       "    <tr>\n",
       "      <th>2063</th>\n",
       "      <td>13</td>\n",
       "      <td>0</td>\n",
       "      <td>204</td>\n",
       "      <td>2</td>\n",
       "    </tr>\n",
       "    <tr>\n",
       "      <th>2771</th>\n",
       "      <td>12</td>\n",
       "      <td>2</td>\n",
       "      <td>176</td>\n",
       "      <td>4</td>\n",
       "    </tr>\n",
       "    <tr>\n",
       "      <th>2767</th>\n",
       "      <td>11</td>\n",
       "      <td>1</td>\n",
       "      <td>143</td>\n",
       "      <td>3</td>\n",
       "    </tr>\n",
       "  </tbody>\n",
       "</table>\n",
       "</div>"
      ],
      "text/plain": [
       "      AnswerCount  CommentCount  Words_in_Title_Description  Tags_Count\n",
       "4345           18             4                         202           3\n",
       "325            14             3                         400           3\n",
       "2063           13             0                         204           2\n",
       "2771           12             2                         176           4\n",
       "2767           11             1                         143           3"
      ]
     },
     "execution_count": 29,
     "metadata": {},
     "output_type": "execute_result"
    }
   ],
   "source": [
    "cost1.head(5)"
   ]
  },
  {
   "cell_type": "code",
   "execution_count": 9,
   "id": "8a507142",
   "metadata": {},
   "outputs": [],
   "source": [
    "df_first = pd.read_csv(\"between_cost_low.csv\")"
   ]
  },
  {
   "cell_type": "code",
   "execution_count": 10,
   "id": "d75c92dd",
   "metadata": {},
   "outputs": [],
   "source": [
    "df_second = pd.read_csv(\"between_cost_high.csv\")"
   ]
  },
  {
   "cell_type": "code",
   "execution_count": 11,
   "id": "0bb33f21",
   "metadata": {},
   "outputs": [
    {
     "data": {
      "text/html": [
       "<div>\n",
       "<style scoped>\n",
       "    .dataframe tbody tr th:only-of-type {\n",
       "        vertical-align: middle;\n",
       "    }\n",
       "\n",
       "    .dataframe tbody tr th {\n",
       "        vertical-align: top;\n",
       "    }\n",
       "\n",
       "    .dataframe thead th {\n",
       "        text-align: right;\n",
       "    }\n",
       "</style>\n",
       "<table border=\"1\" class=\"dataframe\">\n",
       "  <thead>\n",
       "    <tr style=\"text-align: right;\">\n",
       "      <th></th>\n",
       "      <th>Unnamed: 0</th>\n",
       "      <th>AnswerCount</th>\n",
       "      <th>CommentCount</th>\n",
       "      <th>Words_in_Title_Description</th>\n",
       "      <th>Tags_Count</th>\n",
       "    </tr>\n",
       "  </thead>\n",
       "  <tbody>\n",
       "    <tr>\n",
       "      <th>0</th>\n",
       "      <td>0</td>\n",
       "      <td>1</td>\n",
       "      <td>0</td>\n",
       "      <td>162</td>\n",
       "      <td>4</td>\n",
       "    </tr>\n",
       "  </tbody>\n",
       "</table>\n",
       "</div>"
      ],
      "text/plain": [
       "   Unnamed: 0  AnswerCount  CommentCount  Words_in_Title_Description  \\\n",
       "0           0            1             0                         162   \n",
       "\n",
       "   Tags_Count  \n",
       "0           4  "
      ]
     },
     "execution_count": 11,
     "metadata": {},
     "output_type": "execute_result"
    }
   ],
   "source": [
    "df_first.head(1)"
   ]
  },
  {
   "cell_type": "code",
   "execution_count": 12,
   "id": "2c4f00d8",
   "metadata": {},
   "outputs": [],
   "source": [
    "feature_names = [\"AnswerCount\", \"CommentCount\", \"Words_in_Title_Description\", \"Tags_Count\"]\n",
    "nrm_feature_names = [f\"Nrm_{i}\" for i in feature_names]"
   ]
  },
  {
   "cell_type": "code",
   "execution_count": 13,
   "id": "57e684a8",
   "metadata": {},
   "outputs": [],
   "source": [
    "scaler = MinMaxScaler()\n",
    "features = df_first[feature_names]\n",
    "nrm_feature_names = [f\"Nrm_{i}\" for i in feature_names]\n",
    "scaler.fit(features)\n",
    "for i in nrm_feature_names:\n",
    "    df_first[i] = 0\n",
    "df_first[nrm_feature_names] = scaler.transform(features)\n",
    "df_first[\"Sum_of_features\"] = df_first[nrm_feature_names].sum(axis=1)"
   ]
  },
  {
   "cell_type": "code",
   "execution_count": 14,
   "id": "7e352936",
   "metadata": {},
   "outputs": [],
   "source": [
    "scaler = MinMaxScaler()\n",
    "features = df_second[feature_names]\n",
    "nrm_feature_names = [f\"Nrm_{i}\" for i in feature_names]\n",
    "scaler.fit(features)\n",
    "for i in nrm_feature_names:\n",
    "    df_second[i] = 0\n",
    "df_second[nrm_feature_names] = scaler.transform(features)\n",
    "df_second[\"Sum_of_features\"] = df_second[nrm_feature_names].sum(axis=1)"
   ]
  },
  {
   "cell_type": "code",
   "execution_count": 23,
   "id": "40716cd9",
   "metadata": {},
   "outputs": [],
   "source": [
    "lower_quantile, upper_quantile = df_first[\"Sum_of_features\"].quantile([.25, .75])\n",
    "\n",
    "df_one_adjusted = df_first.loc[(df_first[\"Sum_of_features\"] < lower_quantile) | (df_first[\"Sum_of_features\"] > upper_quantile)]"
   ]
  },
  {
   "cell_type": "code",
   "execution_count": 22,
   "id": "2e22851a",
   "metadata": {},
   "outputs": [],
   "source": [
    "lower_quantile, upper_quantile = df_second[\"Sum_of_features\"].quantile([.25, .75])\n",
    "\n",
    "df_two_adjusted = df_second.loc[(df_second[\"Sum_of_features\"] < lower_quantile) | (df_second[\"Sum_of_features\"] > upper_quantile)]"
   ]
  },
  {
   "cell_type": "code",
   "execution_count": 32,
   "id": "69fa96b6",
   "metadata": {},
   "outputs": [
    {
     "name": "stderr",
     "output_type": "stream",
     "text": [
      "c:\\users\\abim\\appdata\\local\\programs\\python\\python39\\lib\\site-packages\\seaborn\\distributions.py:2557: FutureWarning: `distplot` is a deprecated function and will be removed in a future version. Please adapt your code to use either `displot` (a figure-level function with similar flexibility) or `histplot` (an axes-level function for histograms).\n",
      "  warnings.warn(msg, FutureWarning)\n",
      "c:\\users\\abim\\appdata\\local\\programs\\python\\python39\\lib\\site-packages\\seaborn\\distributions.py:2557: FutureWarning: `distplot` is a deprecated function and will be removed in a future version. Please adapt your code to use either `displot` (a figure-level function with similar flexibility) or `histplot` (an axes-level function for histograms).\n",
      "  warnings.warn(msg, FutureWarning)\n"
     ]
    },
    {
     "data": {
      "text/plain": [
       "<AxesSubplot:xlabel='Sum_of_features', ylabel='Density'>"
      ]
     },
     "execution_count": 32,
     "metadata": {},
     "output_type": "execute_result"
    },
    {
     "data": {
      "image/png": "[encoded data removed]",
      "text/plain": [
       "<Figure size 432x288 with 1 Axes>"
      ]
     },
     "metadata": {
      "needs_background": "light"
     },
     "output_type": "display_data"
    }
   ],
   "source": [
    "plt.xlim(-0.1,3)\n",
    "# plt.ylim(0,1.6)\n",
    "\n",
    "kwargs = dict(hist_kws={'alpha':.5}, kde_kws={'linewidth':0.3})\n",
    "\n",
    "sns.distplot(df_first[\"Sum_of_features\"],color=\"red\", **kwargs)\n",
    "sns.distplot(df_second[\"Sum_of_features\"],color=\"green\", **kwargs)"
   ]
  },
  {
   "cell_type": "code",
   "execution_count": 34,
   "id": "34f96016",
   "metadata": {},
   "outputs": [
    {
     "name": "stderr",
     "output_type": "stream",
     "text": [
      "c:\\users\\abim\\appdata\\local\\programs\\python\\python39\\lib\\site-packages\\seaborn\\distributions.py:2557: FutureWarning: `distplot` is a deprecated function and will be removed in a future version. Please adapt your code to use either `displot` (a figure-level function with similar flexibility) or `histplot` (an axes-level function for histograms).\n",
      "  warnings.warn(msg, FutureWarning)\n",
      "c:\\users\\abim\\appdata\\local\\programs\\python\\python39\\lib\\site-packages\\seaborn\\distributions.py:2557: FutureWarning: `distplot` is a deprecated function and will be removed in a future version. Please adapt your code to use either `displot` (a figure-level function with similar flexibility) or `histplot` (an axes-level function for histograms).\n",
      "  warnings.warn(msg, FutureWarning)\n"
     ]
    },
    {
     "data": {
      "text/plain": [
       "<AxesSubplot:xlabel='Sum_of_features', ylabel='Density'>"
      ]
     },
     "execution_count": 34,
     "metadata": {},
     "output_type": "execute_result"
    },
    {
     "data": {
      "image/png": "[encoded data removed]",
      "text/plain": [
       "<Figure size 432x288 with 1 Axes>"
      ]
     },
     "metadata": {
      "needs_background": "light"
     },
     "output_type": "display_data"
    }
   ],
   "source": [
    "plt.xlim(-0.1,2.8)\n",
    "# plt.ylim(0,1.6)\n",
    "# plt.hist(df_first[\"Sum_of_features\"],bins = 50, color='green', alpha=0.2, density= True)\n",
    "# plt.hist(df_second[\"Sum_of_features\"],bins = 50, color='red', alpha=0.2, density= True)\n",
    "\n",
    "kwargs = dict(hist_kws={'alpha':.5}, kde_kws={'linewidth':0.3})\n",
    "\n",
    "sns.distplot(df_one_adjusted[\"Sum_of_features\"],color=\"red\", **kwargs)\n",
    "sns.distplot(df_two_adjusted[\"Sum_of_features\"],color=\"green\", **kwargs)"
   ]
  },
  {
   "cell_type": "code",
   "execution_count": 30,
   "id": "920b05e5",
   "metadata": {},
   "outputs": [],
   "source": [
    "df_0.to_csv('between_cost_high.csv')"
   ]
  },
  {
   "cell_type": "code",
   "execution_count": 31,
   "id": "ec0e460c",
   "metadata": {},
   "outputs": [],
   "source": [
    "df_1.to_csv('between_cost_low.csv')"
   ]
  },
  {
   "cell_type": "code",
   "execution_count": 16,
   "id": "6c84dfa1",
   "metadata": {},
   "outputs": [
    {
     "data": {
      "text/plain": [
       "0.583498760541941"
      ]
     },
     "execution_count": 16,
     "metadata": {},
     "output_type": "execute_result"
    }
   ],
   "source": [
    "silhouette_score(data_scaled,membership)"
   ]
  },
  {
   "cell_type": "code",
   "execution_count": 17,
   "id": "adeac7f7",
   "metadata": {},
   "outputs": [],
   "source": [
    "df.loc[:,\"Category\"]=0\n",
    "df.loc[hc.labels_==1, \"Category\"] = 1"
   ]
  },
  {
   "cell_type": "code",
   "execution_count": null,
   "id": "992cd377",
   "metadata": {},
   "outputs": [],
   "source": [
    "df.head(2)"
   ]
  },
  {
   "cell_type": "code",
   "execution_count": 18,
   "id": "7e9486fd",
   "metadata": {},
   "outputs": [],
   "source": [
    "from sklearn.linear_model import LogisticRegression\n",
    "import matplotlib.pyplot as plt\n",
    "import seaborn as sns\n",
    "from sklearn.metrics import confusion_matrix\n",
    "from sklearn.metrics import accuracy_score\n",
    "from sklearn.metrics import recall_score\n",
    "from sklearn.metrics import precision_score\n",
    "from sklearn.preprocessing import MinMaxScaler\n",
    "import statsmodels.api as sm\n",
    "import statsmodels.formula.api as smf\n",
    "from sklearn.model_selection import train_test_split\n",
    "from sklearn.metrics import roc_curve\n",
    "from sklearn.metrics import auc\n",
    "from statsmodels.regression.linear_model import OLSResults"
   ]
  },
  {
   "cell_type": "code",
   "execution_count": 19,
   "id": "f0c94bbc",
   "metadata": {},
   "outputs": [],
   "source": [
    "feature_names = ['AnswerCount','CommentCount','Words_in_Title_Description','Tags_Count']\n",
    "nrm_feature_names = [f\"Nrm_{i}\" for i in feature_names]"
   ]
  },
  {
   "cell_type": "code",
   "execution_count": 20,
   "id": "983a0566",
   "metadata": {},
   "outputs": [],
   "source": [
    "scaler = MinMaxScaler()\n",
    "features = df[feature_names]\n",
    "nrm_feature_names = [f\"Nrm_{i}\" for i in feature_names]\n",
    "scaler.fit(features)\n",
    "for i in nrm_feature_names:\n",
    "    df[i] = 0\n",
    "df[nrm_feature_names] = scaler.transform(features)"
   ]
  },
  {
   "cell_type": "code",
   "execution_count": 21,
   "id": "928ee53a",
   "metadata": {},
   "outputs": [],
   "source": [
    "X_train, X_test, y_train, y_test = train_test_split(df[nrm_feature_names], df[\"Category\"], test_size=0.3, random_state=62)"
   ]
  },
  {
   "cell_type": "code",
   "execution_count": 22,
   "id": "fd5edb04",
   "metadata": {},
   "outputs": [
    {
     "name": "stdout",
     "output_type": "stream",
     "text": [
      "Optimization terminated successfully.\n",
      "         Current function value: 0.383199\n",
      "         Iterations 8\n"
     ]
    }
   ],
   "source": [
    "lm_cluster_cost = sm.Logit(y_train, X_train).fit()"
   ]
  },
  {
   "cell_type": "code",
   "execution_count": 23,
   "id": "2e07d658",
   "metadata": {},
   "outputs": [
    {
     "name": "stdout",
     "output_type": "stream",
     "text": [
      "                           Logit Regression Results                           \n",
      "==============================================================================\n",
      "Dep. Variable:               Category   No. Observations:                 3407\n",
      "Model:                          Logit   Df Residuals:                     3403\n",
      "Method:                           MLE   Df Model:                            3\n",
      "Date:                Sat, 04 Dec 2021   Pseudo R-squ.:                  0.3602\n",
      "Time:                        12:28:30   Log-Likelihood:                -1305.6\n",
      "converged:                       True   LL-Null:                       -2040.7\n",
      "Covariance Type:            nonrobust   LLR p-value:                     0.000\n",
      "==================================================================================================\n",
      "                                     coef    std err          z      P>|z|      [0.025      0.975]\n",
      "--------------------------------------------------------------------------------------------------\n",
      "Nrm_AnswerCount                   83.3144      3.954     21.071      0.000      75.565      91.064\n",
      "Nrm_CommentCount                   5.1986      0.456     11.405      0.000       4.305       6.092\n",
      "Nrm_Words_in_Title_Description   -62.1441      2.426    -25.613      0.000     -66.899     -57.389\n",
      "Nrm_Tags_Count                     3.1559      0.187     16.861      0.000       2.789       3.523\n",
      "==================================================================================================\n"
     ]
    }
   ],
   "source": [
    "print(lm_cluster_cost.summary())"
   ]
  },
  {
   "cell_type": "code",
   "execution_count": 32,
   "id": "343e4907",
   "metadata": {},
   "outputs": [],
   "source": [
    "df_python.drop(['Unnamed: 0', 'Score','ViewCount','FavoriteCount', 'Ans_Score','Auth_reputation','Editor_reputation', 'Accepted_Ans','Words_in_Title','title_tag_ratio','Creation_Days','Last_Edit_Days','Last_Activity_Days','Closed_Days'], axis=1, inplace=True)"
   ]
  },
  {
   "cell_type": "code",
   "execution_count": 33,
   "id": "5075c7b1",
   "metadata": {},
   "outputs": [
    {
     "data": {
      "text/html": [
       "<div>\n",
       "<style scoped>\n",
       "    .dataframe tbody tr th:only-of-type {\n",
       "        vertical-align: middle;\n",
       "    }\n",
       "\n",
       "    .dataframe tbody tr th {\n",
       "        vertical-align: top;\n",
       "    }\n",
       "\n",
       "    .dataframe thead th {\n",
       "        text-align: right;\n",
       "    }\n",
       "</style>\n",
       "<table border=\"1\" class=\"dataframe\">\n",
       "  <thead>\n",
       "    <tr style=\"text-align: right;\">\n",
       "      <th></th>\n",
       "      <th>AnswerCount</th>\n",
       "      <th>CommentCount</th>\n",
       "      <th>Words_in_Title_Description</th>\n",
       "      <th>Tags_Count</th>\n",
       "      <th>Category</th>\n",
       "    </tr>\n",
       "  </thead>\n",
       "  <tbody>\n",
       "    <tr>\n",
       "      <th>0</th>\n",
       "      <td>2</td>\n",
       "      <td>1</td>\n",
       "      <td>295</td>\n",
       "      <td>4</td>\n",
       "      <td>0</td>\n",
       "    </tr>\n",
       "  </tbody>\n",
       "</table>\n",
       "</div>"
      ],
      "text/plain": [
       "   AnswerCount  CommentCount  Words_in_Title_Description  Tags_Count  Category\n",
       "0            2             1                         295           4         0"
      ]
     },
     "execution_count": 33,
     "metadata": {},
     "output_type": "execute_result"
    }
   ],
   "source": [
    "df_python.head(1)"
   ]
  },
  {
   "cell_type": "code",
   "execution_count": 24,
   "id": "4e29d235",
   "metadata": {},
   "outputs": [],
   "source": [
    "y_pred = [1 if i else 0 for i in lm_cluster_cost.predict(X_test)>0.5]"
   ]
  },
  {
   "cell_type": "code",
   "execution_count": 25,
   "id": "fa4d91ae",
   "metadata": {},
   "outputs": [],
   "source": [
    "data_summary = {}"
   ]
  },
  {
   "cell_type": "code",
   "execution_count": 26,
   "id": "4a6a546b",
   "metadata": {},
   "outputs": [
    {
     "name": "stdout",
     "output_type": "stream",
     "text": [
      "Confusion Matrix: \n",
      "[[320  85]\n",
      " [133 923]]\n",
      "Accuracy: 0.8507871321013005\n",
      "Precision: 0.9156746031746031\n",
      "Recall: 0.8740530303030303\n"
     ]
    },
    {
     "data": {
      "image/png": "[encoded data removed]",
      "text/plain": [
       "<Figure size 432x288 with 1 Axes>"
      ]
     },
     "metadata": {
      "needs_background": "light"
     },
     "output_type": "display_data"
    }
   ],
   "source": [
    "print(f\"Confusion Matrix: \\n{confusion_matrix(y_test, y_pred)}\")\n",
    "print(f\"Accuracy: {accuracy_score(y_test, y_pred)}\")\n",
    "print(f\"Precision: {precision_score(y_test, y_pred)}\")\n",
    "print(f\"Recall: {recall_score(y_test, y_pred)}\")\n",
    "fpr, tpr, thresholds = roc_curve(y_test, lm_cluster_cost.predict(X_test), pos_label=1)\n",
    "roc_auc = auc(fpr, tpr)\n",
    "plt.title('Receiver Operating Characteristic')\n",
    "plt.plot(fpr, tpr, 'b', label = f'AUC(greater is better) = {round(roc_auc, 5)}')\n",
    "plt.legend(loc = 'lower right')\n",
    "plt.plot([0, 1], [0, 1],'r--')\n",
    "plt.xlim([0, 1])\n",
    "plt.ylim([0, 1])\n",
    "plt.ylabel('True Positive Rate')\n",
    "plt.xlabel('False Positive Rate')\n",
    "plt.show()\n",
    "\n",
    "data_summary[\"Exetrems_Model_Testing_Dataset\"] = {}\n",
    "data_summary[\"Exetrems_Model_Testing_Dataset\"][\"Accuracy\"] = accuracy_score(y_test, y_pred)\n",
    "data_summary[\"Exetrems_Model_Testing_Dataset\"][\"Precision\"] = precision_score(y_test, y_pred)\n",
    "data_summary[\"Exetrems_Model_Testing_Dataset\"][\"Recall\"] = recall_score(y_test, y_pred)\n",
    "data_summary[\"Exetrems_Model_Testing_Dataset\"][\"AUC\"] = auc(fpr, tpr)"
   ]
  },
  {
   "cell_type": "code",
   "execution_count": 27,
   "id": "dec67302",
   "metadata": {},
   "outputs": [
    {
     "name": "stdout",
     "output_type": "stream",
     "text": [
      "Confusion Matrix: \n",
      "[[ 735  241]\n",
      " [ 313 2118]]\n",
      "Accuracy: 0.8373936014088641\n",
      "Precision: 0.8978380669775329\n",
      "Recall: 0.8712464006581654\n"
     ]
    },
    {
     "data": {
      "image/png": "[encoded data removed]",
      "text/plain": [
       "<Figure size 432x288 with 1 Axes>"
      ]
     },
     "metadata": {
      "needs_background": "light"
     },
     "output_type": "display_data"
    }
   ],
   "source": [
    "y_pred = [1 if i else 0 for i in lm_cluster_cost.predict(X_train)>0.5]\n",
    "print(f\"Confusion Matrix: \\n{confusion_matrix(y_train, y_pred)}\")\n",
    "print(f\"Accuracy: {accuracy_score(y_train, y_pred)}\")\n",
    "print(f\"Precision: {precision_score(y_train, y_pred)}\")\n",
    "print(f\"Recall: {recall_score(y_train, y_pred)}\")\n",
    "fpr, tpr, thresholds = roc_curve(y_train, lm_cluster_cost.predict(X_train), pos_label=1)\n",
    "roc_auc = auc(fpr, tpr)\n",
    "plt.title('Receiver Operating Characteristic')\n",
    "plt.plot(fpr, tpr, 'b', label = f'AUC(greater is better) = {round(roc_auc, 5)}')\n",
    "plt.legend(loc = 'lower right')\n",
    "plt.plot([0, 1], [0, 1],'r--')\n",
    "plt.xlim([0, 1])\n",
    "plt.ylim([0, 1])\n",
    "plt.ylabel('True Positive Rate')\n",
    "plt.xlabel('False Positive Rate')\n",
    "plt.show()\n",
    "\n",
    "data_summary[\"Exetrems_Model_Training_Dataset\"] = {}\n",
    "data_summary[\"Exetrems_Model_Training_Dataset\"][\"Accuracy\"] = accuracy_score(y_train, y_pred)\n",
    "data_summary[\"Exetrems_Model_Training_Dataset\"][\"Precision\"] = precision_score(y_train, y_pred)\n",
    "data_summary[\"Exetrems_Model_Training_Dataset\"][\"Recall\"] = recall_score(y_train, y_train)\n",
    "data_summary[\"Exetrems_Model_Training_Dataset\"][\"AUC\"] = auc(fpr, tpr)"
   ]
  },
  {
   "cell_type": "code",
   "execution_count": 28,
   "id": "15f971c6",
   "metadata": {},
   "outputs": [],
   "source": [
    "df_python = pd.read_csv('pythons.csv')"
   ]
  },
  {
   "cell_type": "code",
   "execution_count": 34,
   "id": "23f33181",
   "metadata": {},
   "outputs": [
    {
     "data": {
      "text/html": [
       "<div>\n",
       "<style scoped>\n",
       "    .dataframe tbody tr th:only-of-type {\n",
       "        vertical-align: middle;\n",
       "    }\n",
       "\n",
       "    .dataframe tbody tr th {\n",
       "        vertical-align: top;\n",
       "    }\n",
       "\n",
       "    .dataframe thead th {\n",
       "        text-align: right;\n",
       "    }\n",
       "</style>\n",
       "<table border=\"1\" class=\"dataframe\">\n",
       "  <thead>\n",
       "    <tr style=\"text-align: right;\">\n",
       "      <th></th>\n",
       "      <th>AnswerCount</th>\n",
       "      <th>CommentCount</th>\n",
       "      <th>Words_in_Title_Description</th>\n",
       "      <th>Tags_Count</th>\n",
       "      <th>Category</th>\n",
       "    </tr>\n",
       "  </thead>\n",
       "  <tbody>\n",
       "    <tr>\n",
       "      <th>0</th>\n",
       "      <td>2</td>\n",
       "      <td>1</td>\n",
       "      <td>295</td>\n",
       "      <td>4</td>\n",
       "      <td>0</td>\n",
       "    </tr>\n",
       "  </tbody>\n",
       "</table>\n",
       "</div>"
      ],
      "text/plain": [
       "   AnswerCount  CommentCount  Words_in_Title_Description  Tags_Count  Category\n",
       "0            2             1                         295           4         0"
      ]
     },
     "execution_count": 34,
     "metadata": {},
     "output_type": "execute_result"
    }
   ],
   "source": [
    "df_python.head(1)"
   ]
  },
  {
   "cell_type": "code",
   "execution_count": 35,
   "id": "f4e930cb",
   "metadata": {},
   "outputs": [
    {
     "name": "stdout",
     "output_type": "stream",
     "text": [
      "Confusion Matrix: \n",
      "[[ 8272    10]\n",
      " [11718     0]]\n",
      "Accuracy: 0.4136\n",
      "Precision: 0.0\n",
      "Recall: 0.0\n"
     ]
    },
    {
     "name": "stderr",
     "output_type": "stream",
     "text": [
      "c:\\users\\abim\\appdata\\local\\programs\\python\\python39\\lib\\site-packages\\statsmodels\\discrete\\discrete_model.py:1810: RuntimeWarning: overflow encountered in exp\n",
      "  return 1/(1+np.exp(-X))\n",
      "c:\\users\\abim\\appdata\\local\\programs\\python\\python39\\lib\\site-packages\\statsmodels\\discrete\\discrete_model.py:1810: RuntimeWarning: overflow encountered in exp\n",
      "  return 1/(1+np.exp(-X))\n"
     ]
    },
    {
     "data": {
      "image/png": "[encoded data removed]",
      "text/plain": [
       "<Figure size 432x288 with 1 Axes>"
      ]
     },
     "metadata": {
      "needs_background": "light"
     },
     "output_type": "display_data"
    }
   ],
   "source": [
    "X_train, y_train = df_python[feature_names], df_python[\"Category\"]\n",
    "y_pred = [1 if i else 0 for i in lm_cluster_cost.predict(X_train)>0.5]\n",
    "print(f\"Confusion Matrix: \\n{confusion_matrix(y_train, y_pred)}\")\n",
    "print(f\"Accuracy: {accuracy_score(y_train, y_pred)}\")\n",
    "print(f\"Precision: {precision_score(y_train, y_pred)}\")\n",
    "print(f\"Recall: {recall_score(y_train, y_pred)}\")\n",
    "fpr, tpr, thresholds = roc_curve(y_train, lm_cluster_cost.predict(X_train), pos_label=1)\n",
    "roc_auc = auc(fpr, tpr)\n",
    "plt.title('Receiver Operating Characteristic')\n",
    "plt.plot(fpr, tpr, 'b', label = f'AUC(greater is better) = {round(roc_auc, 5)}')\n",
    "plt.legend(loc = 'lower right')\n",
    "plt.plot([0, 1], [0, 1],'r--')\n",
    "plt.xlim([0, 1])\n",
    "plt.ylim([0, 1])\n",
    "plt.ylabel('True Positive Rate')\n",
    "plt.xlabel('False Positive Rate')\n",
    "plt.show()\n",
    "\n",
    "\n",
    "data_summary[\"Exetrems_Model_Python_Dataset\"] = {}\n",
    "data_summary[\"Exetrems_Model_Python_Dataset\"][\"Accuracy\"] = accuracy_score(y_train, y_pred)\n",
    "data_summary[\"Exetrems_Model_Python_Dataset\"][\"Precision\"] = precision_score(y_train, y_pred)\n",
    "data_summary[\"Exetrems_Model_Python_Dataset\"][\"Recall\"] = recall_score(y_train, y_pred)\n",
    "data_summary[\"Exetrems_Model_Python_Dataset\"][\"AUC\"] = auc(fpr, tpr)"
   ]
  }
 ],
 "metadata": {
  "kernelspec": {
   "display_name": "Python 3",
   "language": "python",
   "name": "python3"
  },
  "language_info": {
   "codemirror_mode": {
    "name": "ipython",
    "version": 3
   },
   "file_extension": ".py",
   "mimetype": "text/x-python",
   "name": "python",
   "nbconvert_exporter": "python",
   "pygments_lexer": "ipython3",
   "version": "3.9.4"
  }
 },
 "nbformat": 4,
 "nbformat_minor": 5
}
