{
 "cells": [
  {
   "cell_type": "code",
   "execution_count": 1,
   "id": "7c4ddc3b",
   "metadata": {},
   "outputs": [],
   "source": [
    "import numpy as np\n",
    "import pandas as pd\n",
    "import matplotlib.pyplot as plt\n",
    "import re\n",
    "from datetime import datetime, time\n",
    "import scipy.cluster.hierarchy as sch\n",
    "from sklearn.cluster import AgglomerativeClustering\n",
    "from sklearn.metrics import silhouette_score\n",
    "from difflib import SequenceMatcher\n",
    "from sklearn.preprocessing import normalize\n",
    "from sklearn.linear_model import LogisticRegression\n",
    "import seaborn as sns\n",
    "from sklearn.metrics import confusion_matrix\n",
    "from sklearn.metrics import accuracy_score\n",
    "from sklearn.metrics import recall_score\n",
    "from sklearn.metrics import precision_score\n",
    "from sklearn.preprocessing import MinMaxScaler\n",
    "import statsmodels.api as sm\n",
    "import statsmodels.formula.api as smf\n",
    "from sklearn.model_selection import train_test_split\n",
    "from sklearn.metrics import roc_curve\n",
    "from sklearn.metrics import auc\n",
    "from statsmodels.regression.linear_model import OLSResults"
   ]
  },
  {
   "cell_type": "code",
   "execution_count": 2,
   "id": "cb0c7a26",
   "metadata": {},
   "outputs": [],
   "source": [
    "df = pd.read_csv(\"between-patch.csv\")\n",
    "pd.set_option('display.max_columns', None)"
   ]
  },
  {
   "cell_type": "code",
   "execution_count": 3,
   "id": "899fd262",
   "metadata": {},
   "outputs": [],
   "source": [
    "df['FavoriteCount'] = df['FavoriteCount'].replace(np.nan, 0)\n",
    "df['ClosedDate'] = df['ClosedDate'].replace(np.nan, 0)\n",
    "df['AcceptedAnswerId'] = df['AcceptedAnswerId'].replace(np.nan, 0)"
   ]
  },
  {
   "cell_type": "code",
   "execution_count": 4,
   "id": "5f3446d7",
   "metadata": {},
   "outputs": [],
   "source": [
    "p = re.compile(r'<.*?>')\n",
    "\n",
    "for ind, row in df.iterrows():\n",
    "    title_count = p.sub('',  df.loc[ind, \"Title\"])\n",
    "    description_count = p.sub('',  df.loc[ind, \"Body\"])\n",
    "    df.loc[ind, \"Words_in_Title\"] = len(re.findall(r'\\w+',title_count))\n",
    "    df.loc[ind, \"Words_in_Title_Description\"] = len(re.findall(r'\\w+',description_count))"
   ]
  },
  {
   "cell_type": "code",
   "execution_count": 5,
   "id": "db0b4dac",
   "metadata": {},
   "outputs": [],
   "source": [
    "for ind, row in df.iterrows():\n",
    "    if(df.loc[ind,\"AcceptedAnswerId\"]):\n",
    "        df.loc[ind, \"Accepted_Ans\"] = 1\n",
    "    else:\n",
    "        df.loc[ind, \"Accepted_Ans\"] = 0"
   ]
  },
  {
   "cell_type": "code",
   "execution_count": 6,
   "id": "9b49776b",
   "metadata": {},
   "outputs": [],
   "source": [
    "pattern = \"<\"\n",
    "\n",
    "for ind, row in df.iterrows():\n",
    "    df.loc[ind,\"Tags_Count\"] = len(re.findall(pattern, df.loc[ind,\"Tags\"]))"
   ]
  },
  {
   "cell_type": "code",
   "execution_count": 9,
   "id": "4787fbc4",
   "metadata": {},
   "outputs": [],
   "source": [
    "for ind , row in df.iterrows():\n",
    "    title = df.loc[ind,\"Title\"]\n",
    "    tag = re.sub(r'[^\\w]', ' ', df.loc[ind, \"Tags\"])\n",
    "#     print(format((SequenceMatcher(None, title,tag).ratio()*100),\".2f\"),\"%\")\n",
    "    df.loc[ind, \"title_tag_ratio\"] = math.ceil(SequenceMatcher(None, title,tag).ratio()*100)"
   ]
  },
  {
   "cell_type": "markdown",
   "id": "6e69985c",
   "metadata": {},
   "source": [
    "## Creation Days"
   ]
  },
  {
   "cell_type": "code",
   "execution_count": 10,
   "id": "74889f03",
   "metadata": {},
   "outputs": [],
   "source": [
    "for ind, row in df.iterrows():\n",
    "    def date_diff_in_seconds(dt2, dt1):\n",
    "        timedelta = dt2 - dt1\n",
    "        return timedelta.days * 24 * 3600 + timedelta.seconds\n",
    "\n",
    "    def dhms_from_seconds(seconds):\n",
    "        minutes, seconds = divmod(seconds, 60)\n",
    "        hours, minutes = divmod(minutes, 60)\n",
    "        days, hours = divmod(hours, 24)\n",
    "        return (days)\n",
    "    \n",
    "    #Dates\n",
    "    creation_date = datetime.strptime(df.loc[ind,\"CreationDate\"], '%Y-%m-%dT%H:%M:%S')    \n",
    "\n",
    "    #Data dump date\n",
    "    dump_date = datetime.strptime('2020-12-21 01:00:00', '%Y-%m-%d %H:%M:%S')\n",
    "    \n",
    "    ##Difference\n",
    "    creation_days = dhms_from_seconds(date_diff_in_seconds(dump_date, creation_date))\n",
    "    \n",
    "    ##New Colunmns\n",
    "    df.loc[ind,\"Creation_Days\"] = 4527 - creation_days               "
   ]
  },
  {
   "cell_type": "markdown",
   "id": "98fea04f",
   "metadata": {},
   "source": [
    "## Last Edit Days"
   ]
  },
  {
   "cell_type": "code",
   "execution_count": 11,
   "id": "180eb705",
   "metadata": {},
   "outputs": [],
   "source": [
    "for ind, row in df.iterrows():\n",
    "    def date_diff_in_seconds(dt2, dt1):\n",
    "        timedelta = dt2 - dt1\n",
    "        return timedelta.days * 24 * 3600 + timedelta.seconds\n",
    "\n",
    "    def dhms_from_seconds(seconds):\n",
    "        minutes, seconds = divmod(seconds, 60)\n",
    "        hours, minutes = divmod(minutes, 60)\n",
    "        days, hours = divmod(hours, 24)\n",
    "        return (days)        \n",
    "        \n",
    "    #Dates\n",
    "    creation_date = datetime.strptime(df.loc[ind,\"CreationDate\"], '%Y-%m-%dT%H:%M:%S')    \n",
    "\n",
    "    #Data dump date\n",
    "    dump_date = datetime.strptime('2020-12-21 01:00:00', '%Y-%m-%d %H:%M:%S')\n",
    "    \n",
    "    ##Difference\n",
    "    creation_days = dhms_from_seconds(date_diff_in_seconds(dump_date, creation_date))\n",
    "    \n",
    "    #Dates\n",
    "    if(df.loc[ind,\"LastEditDate\"]==0):\n",
    "        df.loc[ind,\"Last_Edit_Days\"] = creation_days\n",
    "        \n",
    "    else:\n",
    "        last_edit_date = datetime.strptime(df.loc[ind,\"LastEditDate\"], '%Y-%m-%dT%H:%M:%S')\n",
    "        ##Difference\n",
    "        last_edit_days = dhms_from_seconds(date_diff_in_seconds(dump_date, last_edit_date))\n",
    "        ##New Colunmns\n",
    "        df.loc[ind,\"Last_Edit_Days\"] = 4527 - last_edit_days"
   ]
  },
  {
   "cell_type": "markdown",
   "id": "737ea83b",
   "metadata": {},
   "source": [
    "## Last Activity Days"
   ]
  },
  {
   "cell_type": "code",
   "execution_count": 12,
   "id": "a139d99b",
   "metadata": {},
   "outputs": [],
   "source": [
    "for ind, row in df.iterrows():\n",
    "    def date_diff_in_seconds(dt2, dt1):\n",
    "        timedelta = dt2 - dt1\n",
    "        return timedelta.days * 24 * 3600 + timedelta.seconds\n",
    "\n",
    "    def dhms_from_seconds(seconds):\n",
    "        minutes, seconds = divmod(seconds, 60)\n",
    "        hours, minutes = divmod(minutes, 60)\n",
    "        days, hours = divmod(hours, 24)\n",
    "        return (days)        \n",
    "        \n",
    "    #Dates\n",
    "    creation_date = datetime.strptime(df.loc[ind,\"CreationDate\"], '%Y-%m-%dT%H:%M:%S')    \n",
    "\n",
    "    #Data dump date\n",
    "    dump_date = datetime.strptime('2020-12-21 01:00:00', '%Y-%m-%d %H:%M:%S')\n",
    "    \n",
    "    ##Difference\n",
    "    creation_days = dhms_from_seconds(date_diff_in_seconds(dump_date, creation_date))\n",
    "    \n",
    "    #Dates\n",
    "    if(df.loc[ind,\"LastActivityDate\"]==0):\n",
    "        df.loc[ind,\"Last_Activity_Days\"] = creation_days\n",
    "        \n",
    "    else:\n",
    "        last_activity_date = datetime.strptime(df.loc[ind,\"LastActivityDate\"], '%Y-%m-%dT%H:%M:%S')\n",
    "        ##Difference\n",
    "        last_activity_days = dhms_from_seconds(date_diff_in_seconds(dump_date, last_activity_date))\n",
    "        ##New Colunmns\n",
    "        df.loc[ind,\"Last_Activity_Days\"] = 4527 - last_activity_days"
   ]
  },
  {
   "cell_type": "markdown",
   "id": "115cda63",
   "metadata": {},
   "source": [
    "## Closed Days"
   ]
  },
  {
   "cell_type": "code",
   "execution_count": 13,
   "id": "f95306bc",
   "metadata": {},
   "outputs": [],
   "source": [
    "for ind, row in df.iterrows():\n",
    "    def date_diff_in_seconds(dt2, dt1):\n",
    "        timedelta = dt2 - dt1\n",
    "        return timedelta.days * 24 * 3600 + timedelta.seconds\n",
    "\n",
    "    def dhms_from_seconds(seconds):\n",
    "        minutes, seconds = divmod(seconds, 60)\n",
    "        hours, minutes = divmod(minutes, 60)\n",
    "        days, hours = divmod(hours, 24)\n",
    "        return (days)\n",
    "    \n",
    "    #Dates\n",
    "    creation_date = datetime.strptime(df.loc[ind,\"CreationDate\"], '%Y-%m-%dT%H:%M:%S')    \n",
    "\n",
    "    #Data dump date\n",
    "    dump_date = datetime.strptime('2020-12-21 01:00:00', '%Y-%m-%d %H:%M:%S')\n",
    "    \n",
    "    ##Difference\n",
    "    creation_days = dhms_from_seconds(date_diff_in_seconds(dump_date, creation_date))\n",
    "    \n",
    "    #Dates\n",
    "    if(df.loc[ind,\"ClosedDate\"]==0):\n",
    "        df.loc[ind,\"Closed_Days\"] = creation_days\n",
    "        \n",
    "    else:\n",
    "        closed_date = datetime.strptime(df.loc[ind,\"ClosedDate\"], '%Y-%m-%dT%H:%M:%S')\n",
    "        ##Difference\n",
    "        closed_days = dhms_from_seconds(date_diff_in_seconds(dump_date, closed_date))\n",
    "        ##New Colunmns\n",
    "        df.loc[ind,\"Closed_Days\"] = closed_days                "
   ]
  },
  {
   "cell_type": "code",
   "execution_count": 14,
   "id": "668bd3b2",
   "metadata": {},
   "outputs": [],
   "source": [
    "df['FavoriteCount'] = df['FavoriteCount'].astype(int)\n",
    "df['Tags_Count'] = df['Tags_Count'].astype(int)\n",
    "df['Words_in_Title'] = df['Words_in_Title'].astype(int)\n",
    "df['Words_in_Title_Description'] = df['Words_in_Title_Description'].astype(int)\n",
    "df['Accepted_Ans'] = df['Accepted_Ans'].astype(int)\n",
    "df['Creation_Days'] = df['Creation_Days'].astype(int)\n",
    "df['Last_Edit_Days'] = df['Last_Edit_Days'].astype(int)\n",
    "df['Last_Activity_Days'] = df['Last_Activity_Days'].astype(int)\n",
    "df['Closed_Days'] = df['Closed_Days'].astype(int)"
   ]
  },
  {
   "cell_type": "code",
   "execution_count": 15,
   "id": "2fc7d417",
   "metadata": {},
   "outputs": [],
   "source": [
    "df.drop(['Id', 'Title', 'Body', 'Tags', 'CreationDate','LastActivityDate','LastEditDate','ClosedDate', 'AcceptedAnswerId'], axis=1, inplace=True)"
   ]
  },
  {
   "cell_type": "code",
   "execution_count": 16,
   "id": "aa912bba",
   "metadata": {},
   "outputs": [],
   "source": [
    "data_scaled = normalize(df)"
   ]
  },
  {
   "cell_type": "code",
   "execution_count": 197,
   "id": "dd4e3804",
   "metadata": {},
   "outputs": [
    {
     "data": {
      "text/plain": [
       "AgglomerativeClustering()"
      ]
     },
     "execution_count": 197,
     "metadata": {},
     "output_type": "execute_result"
    }
   ],
   "source": [
    "hc = AgglomerativeClustering(n_clusters=2,affinity=\"euclidean\",linkage=\"ward\")\n",
    "hc.fit(data_scaled)"
   ]
  },
  {
   "cell_type": "code",
   "execution_count": 18,
   "id": "53aa53c1",
   "metadata": {},
   "outputs": [
    {
     "data": {
      "text/plain": [
       "array([0, 1, 0, ..., 0, 1, 0], dtype=int64)"
      ]
     },
     "execution_count": 18,
     "metadata": {},
     "output_type": "execute_result"
    }
   ],
   "source": [
    "membership = hc.labels_\n",
    "membership"
   ]
  },
  {
   "cell_type": "code",
   "execution_count": 208,
   "id": "9c9a713a",
   "metadata": {},
   "outputs": [
    {
     "data": {
      "image/png": "[encoded data removed]",
      "text/plain": [
       "<Figure size 432x288 with 1 Axes>"
      ]
     },
     "metadata": {
      "needs_background": "light"
     },
     "output_type": "display_data"
    }
   ],
   "source": [
    "dendrogram = sch.dendrogram(sch.linkage(data_scaled,method='ward'))"
   ]
  },
  {
   "cell_type": "code",
   "execution_count": null,
   "id": "23d2e416",
   "metadata": {},
   "outputs": [],
   "source": [
    "df_0 = df[hc.labels_==0]"
   ]
  },
  {
   "cell_type": "code",
   "execution_count": null,
   "id": "7a690151",
   "metadata": {},
   "outputs": [],
   "source": [
    "df_1 = df[hc.labels_==1]"
   ]
  },
  {
   "cell_type": "code",
   "execution_count": 252,
   "id": "ecc2aa43",
   "metadata": {},
   "outputs": [],
   "source": [
    "df_0.to_csv('between_value_low.csv')"
   ]
  },
  {
   "cell_type": "code",
   "execution_count": 253,
   "id": "ebb7796a",
   "metadata": {},
   "outputs": [],
   "source": [
    "df_1.to_csv('between_value_high.csv')"
   ]
  },
  {
   "cell_type": "code",
   "execution_count": 146,
   "id": "761385a2",
   "metadata": {},
   "outputs": [
    {
     "data": {
      "text/plain": [
       "0.45322196268436815"
      ]
     },
     "execution_count": 146,
     "metadata": {},
     "output_type": "execute_result"
    }
   ],
   "source": [
    "silhouette_score(data_scaled,membership)"
   ]
  },
  {
   "cell_type": "code",
   "execution_count": 147,
   "id": "95f8a014",
   "metadata": {},
   "outputs": [],
   "source": [
    "df.loc[:,\"Category\"]=0\n",
    "df.loc[hc.labels_==1, \"Category\"] = 1"
   ]
  },
  {
   "cell_type": "code",
   "execution_count": 148,
   "id": "ecbf8002",
   "metadata": {},
   "outputs": [],
   "source": [
    "from sklearn.linear_model import LogisticRegression\n",
    "import matplotlib.pyplot as plt\n",
    "import seaborn as sns\n",
    "from sklearn.metrics import confusion_matrix\n",
    "from sklearn.metrics import accuracy_score\n",
    "from sklearn.metrics import recall_score\n",
    "from sklearn.metrics import precision_score\n",
    "from sklearn.preprocessing import MinMaxScaler\n",
    "import statsmodels.api as sm\n",
    "import statsmodels.formula.api as smf\n",
    "from sklearn.model_selection import train_test_split\n",
    "from sklearn.metrics import roc_curve\n",
    "from sklearn.metrics import auc\n",
    "from statsmodels.regression.linear_model import OLSResults"
   ]
  },
  {
   "cell_type": "code",
   "execution_count": 214,
   "id": "706e7986",
   "metadata": {},
   "outputs": [],
   "source": [
    "feature_names = ['Score','AnswerCount','ViewCount','CommentCount','FavoriteCount','Words_in_Title_Description','title_tag_ratio','Auth_reputation','Accepted_Ans','Creation_Days','Last_Activity_Days','Last_Edit_Days','Closed_Days']\n",
    "nrm_feature_names = [f\"Nrm_{i}\" for i in feature_names]"
   ]
  },
  {
   "cell_type": "code",
   "execution_count": 215,
   "id": "8c81754d",
   "metadata": {},
   "outputs": [],
   "source": [
    "scaler = MinMaxScaler()\n",
    "features = df[feature_names]\n",
    "nrm_feature_names = [f\"Nrm_{i}\" for i in feature_names]\n",
    "scaler.fit(features)\n",
    "for i in nrm_feature_names:\n",
    "    df[i] = 0\n",
    "df[nrm_feature_names] = scaler.transform(features)"
   ]
  },
  {
   "cell_type": "code",
   "execution_count": 216,
   "id": "8fac3e7d",
   "metadata": {},
   "outputs": [],
   "source": [
    "X_train, X_test, y_train, y_test = train_test_split(df[nrm_feature_names], df[\"Category\"], test_size=0.3, random_state=62)"
   ]
  },
  {
   "cell_type": "code",
   "execution_count": 217,
   "id": "d9b66814",
   "metadata": {},
   "outputs": [
    {
     "name": "stdout",
     "output_type": "stream",
     "text": [
      "Optimization terminated successfully.\n",
      "         Current function value: 0.554092\n",
      "         Iterations 11\n"
     ]
    }
   ],
   "source": [
    "lm_cluster_value = sm.Logit(y_train, X_train).fit()"
   ]
  },
  {
   "cell_type": "code",
   "execution_count": 218,
   "id": "b25e8d57",
   "metadata": {},
   "outputs": [
    {
     "name": "stdout",
     "output_type": "stream",
     "text": [
      "                           Logit Regression Results                           \n",
      "==============================================================================\n",
      "Dep. Variable:               Category   No. Observations:                 3407\n",
      "Model:                          Logit   Df Residuals:                     3394\n",
      "Method:                           MLE   Df Model:                           12\n",
      "Date:                Sun, 05 Dec 2021   Pseudo R-squ.:                  0.1998\n",
      "Time:                        12:51:42   Log-Likelihood:                -1887.8\n",
      "converged:                       True   LL-Null:                       -2359.3\n",
      "Covariance Type:            nonrobust   LLR p-value:                3.440e-194\n",
      "==================================================================================================\n",
      "                                     coef    std err          z      P>|z|      [0.025      0.975]\n",
      "--------------------------------------------------------------------------------------------------\n",
      "Nrm_Score                        505.2866     68.875      7.336      0.000     370.295     640.279\n",
      "Nrm_AnswerCount                   -2.7516      2.653     -1.037      0.300      -7.952       2.449\n",
      "Nrm_ViewCount                     64.6963     14.412      4.489      0.000      36.449      92.944\n",
      "Nrm_CommentCount                   1.7036      0.362      4.702      0.000       0.994       2.414\n",
      "Nrm_FavoriteCount               -710.6364    147.285     -4.825      0.000    -999.310    -421.963\n",
      "Nrm_Words_in_Title_Description     4.7268      0.960      4.926      0.000       2.846       6.607\n",
      "Nrm_title_tag_ratio               -0.2615      0.253     -1.036      0.300      -0.756       0.233\n",
      "Nrm_Auth_reputation              -93.8226      6.837    -13.722      0.000    -107.223     -80.422\n",
      "Nrm_Accepted_Ans                   0.0405      0.084      0.481      0.631      -0.125       0.206\n",
      "Nrm_Creation_Days                 -2.2866      0.458     -4.995      0.000      -3.184      -1.389\n",
      "Nrm_Last_Activity_Days            -3.0216      0.464     -6.506      0.000      -3.932      -2.111\n",
      "Nrm_Last_Edit_Days                 5.0837      0.480     10.583      0.000       4.142       6.025\n",
      "Nrm_Closed_Days                   -2.8092      0.241    -11.651      0.000      -3.282      -2.337\n",
      "==================================================================================================\n"
     ]
    }
   ],
   "source": [
    "print(lm_cluster_value.summary())"
   ]
  },
  {
   "cell_type": "code",
   "execution_count": 200,
   "id": "9ac1a531",
   "metadata": {},
   "outputs": [],
   "source": [
    "y_pred = [1 if i else 0 for i in lm_cluster_value.predict(X_test)>0.5]"
   ]
  },
  {
   "cell_type": "code",
   "execution_count": 201,
   "id": "aa03705e",
   "metadata": {},
   "outputs": [],
   "source": [
    "data_summary = {}"
   ]
  },
  {
   "cell_type": "code",
   "execution_count": 202,
   "id": "73234d17",
   "metadata": {},
   "outputs": [
    {
     "name": "stdout",
     "output_type": "stream",
     "text": [
      "Confusion Matrix: \n",
      "[[514 271]\n",
      " [156 520]]\n",
      "Accuracy: 0.7077344284736482\n",
      "Precision: 0.6573957016434893\n",
      "Recall: 0.7692307692307693\n"
     ]
    },
    {
     "data": {
      "image/png": "[encoded data removed]",
      "text/plain": [
       "<Figure size 432x288 with 1 Axes>"
      ]
     },
     "metadata": {
      "needs_background": "light"
     },
     "output_type": "display_data"
    }
   ],
   "source": [
    "print(f\"Confusion Matrix: \\n{confusion_matrix(y_test, y_pred)}\")\n",
    "print(f\"Accuracy: {accuracy_score(y_test, y_pred)}\")\n",
    "print(f\"Precision: {precision_score(y_test, y_pred)}\")\n",
    "print(f\"Recall: {recall_score(y_test, y_pred)}\")\n",
    "fpr, tpr, thresholds = roc_curve(y_test, lm_cluster_value.predict(X_test), pos_label=1)\n",
    "roc_auc = auc(fpr, tpr)\n",
    "plt.title('Receiver Operating Characteristic')\n",
    "plt.plot(fpr, tpr, 'b', label = f'AUC(greater is better) = {round(roc_auc, 5)}')\n",
    "plt.legend(loc = 'lower right')\n",
    "plt.plot([0, 1], [0, 1],'r--')\n",
    "plt.xlim([0, 1])\n",
    "plt.ylim([0, 1])\n",
    "plt.ylabel('True Positive Rate')\n",
    "plt.xlabel('False Positive Rate')\n",
    "plt.show()\n",
    "\n",
    "data_summary[\"Exetrems_Model_Testing_Dataset\"] = {}\n",
    "data_summary[\"Exetrems_Model_Testing_Dataset\"][\"Accuracy\"] = accuracy_score(y_test, y_pred)\n",
    "data_summary[\"Exetrems_Model_Testing_Dataset\"][\"Precision\"] = precision_score(y_test, y_pred)\n",
    "data_summary[\"Exetrems_Model_Testing_Dataset\"][\"Recall\"] = recall_score(y_test, y_pred)\n",
    "data_summary[\"Exetrems_Model_Testing_Dataset\"][\"AUC\"] = auc(fpr, tpr)"
   ]
  },
  {
   "cell_type": "code",
   "execution_count": 203,
   "id": "81870f3d",
   "metadata": {},
   "outputs": [
    {
     "name": "stdout",
     "output_type": "stream",
     "text": [
      "Confusion Matrix: \n",
      "[[1201  565]\n",
      " [ 403 1238]]\n",
      "Accuracy: 0.7158790724977987\n",
      "Precision: 0.6866333887964503\n",
      "Recall: 0.7544180377818404\n"
     ]
    },
    {
     "data": {
      "image/png": "[encoded data removed]",
      "text/plain": [
       "<Figure size 432x288 with 1 Axes>"
      ]
     },
     "metadata": {
      "needs_background": "light"
     },
     "output_type": "display_data"
    }
   ],
   "source": [
    "y_pred = [1 if i else 0 for i in lm_cluster_value.predict(X_train)>0.5]\n",
    "print(f\"Confusion Matrix: \\n{confusion_matrix(y_train, y_pred)}\")\n",
    "print(f\"Accuracy: {accuracy_score(y_train, y_pred)}\")\n",
    "print(f\"Precision: {precision_score(y_train, y_pred)}\")\n",
    "print(f\"Recall: {recall_score(y_train, y_pred)}\")\n",
    "fpr, tpr, thresholds = roc_curve(y_train, lm_cluster_value.predict(X_train), pos_label=1)\n",
    "roc_auc = auc(fpr, tpr)\n",
    "plt.title('Receiver Operating Characteristic')\n",
    "plt.plot(fpr, tpr, 'b', label = f'AUC(greater is better) = {round(roc_auc, 5)}')\n",
    "plt.legend(loc = 'lower right')\n",
    "plt.plot([0, 1], [0, 1],'r--')\n",
    "plt.xlim([0, 1])\n",
    "plt.ylim([0, 1])\n",
    "plt.ylabel('True Positive Rate')\n",
    "plt.xlabel('False Positive Rate')\n",
    "plt.show()\n",
    "\n",
    "data_summary[\"Exetrems_Model_Training_Dataset\"] = {}\n",
    "data_summary[\"Exetrems_Model_Training_Dataset\"][\"Accuracy\"] = accuracy_score(y_train, y_pred)\n",
    "data_summary[\"Exetrems_Model_Training_Dataset\"][\"Precision\"] = precision_score(y_train, y_pred)\n",
    "data_summary[\"Exetrems_Model_Training_Dataset\"][\"Recall\"] = recall_score(y_train, y_train)\n",
    "data_summary[\"Exetrems_Model_Training_Dataset\"][\"AUC\"] = auc(fpr, tpr)"
   ]
  },
  {
   "cell_type": "code",
   "execution_count": 164,
   "id": "25aae3a9",
   "metadata": {},
   "outputs": [],
   "source": [
    "df_python = pd.read_csv('pythons.csv')"
   ]
  },
  {
   "cell_type": "code",
   "execution_count": 166,
   "id": "d137168f",
   "metadata": {},
   "outputs": [],
   "source": [
    "df_python.drop(['Unnamed: 0', 'Ans_Score', 'Editor_reputation', 'Tags_Count','Words_in_Title','title_tag_ratio'], axis=1, inplace=True)"
   ]
  },
  {
   "cell_type": "code",
   "execution_count": 167,
   "id": "34d48d3a",
   "metadata": {},
   "outputs": [
    {
     "name": "stdout",
     "output_type": "stream",
     "text": [
      "Confusion Matrix: \n",
      "[[5247 4745]\n",
      " [5434 4574]]\n",
      "Accuracy: 0.49105\n",
      "Precision: 0.4908251958364631\n",
      "Recall: 0.4570343725019984\n"
     ]
    },
    {
     "name": "stderr",
     "output_type": "stream",
     "text": [
      "c:\\users\\abim\\appdata\\local\\programs\\python\\python39\\lib\\site-packages\\statsmodels\\discrete\\discrete_model.py:1810: RuntimeWarning: overflow encountered in exp\n",
      "  return 1/(1+np.exp(-X))\n",
      "c:\\users\\abim\\appdata\\local\\programs\\python\\python39\\lib\\site-packages\\statsmodels\\discrete\\discrete_model.py:1810: RuntimeWarning: overflow encountered in exp\n",
      "  return 1/(1+np.exp(-X))\n"
     ]
    },
    {
     "data": {
      "image/png": "[encoded data removed]",
      "text/plain": [
       "<Figure size 432x288 with 1 Axes>"
      ]
     },
     "metadata": {
      "needs_background": "light"
     },
     "output_type": "display_data"
    }
   ],
   "source": [
    "X_train, y_train = df_python[feature_names], df_python[\"Category\"]\n",
    "y_pred = [1 if i else 0 for i in lm_cluster_value.predict(X_train)>0.5]\n",
    "print(f\"Confusion Matrix: \\n{confusion_matrix(y_train, y_pred)}\")\n",
    "print(f\"Accuracy: {accuracy_score(y_train, y_pred)}\")\n",
    "print(f\"Precision: {precision_score(y_train, y_pred)}\")\n",
    "print(f\"Recall: {recall_score(y_train, y_pred)}\")\n",
    "fpr, tpr, thresholds = roc_curve(y_train, lm_cluster_value.predict(X_train), pos_label=1)\n",
    "roc_auc = auc(fpr, tpr)\n",
    "plt.title('Receiver Operating Characteristic')\n",
    "plt.plot(fpr, tpr, 'b', label = f'AUC(greater is better) = {round(roc_auc, 5)}')\n",
    "plt.legend(loc = 'lower right')\n",
    "plt.plot([0, 1], [0, 1],'r--')\n",
    "plt.xlim([0, 1])\n",
    "plt.ylim([0, 1])\n",
    "plt.ylabel('True Positive Rate')\n",
    "plt.xlabel('False Positive Rate')\n",
    "plt.show()\n",
    "\n",
    "\n",
    "data_summary[\"Exetrems_Model_Python_Dataset\"] = {}\n",
    "data_summary[\"Exetrems_Model_Python_Dataset\"][\"Accuracy\"] = accuracy_score(y_train, y_pred)\n",
    "data_summary[\"Exetrems_Model_Python_Dataset\"][\"Precision\"] = precision_score(y_train, y_pred)\n",
    "data_summary[\"Exetrems_Model_Python_Dataset\"][\"Recall\"] = recall_score(y_train, y_pred)\n",
    "data_summary[\"Exetrems_Model_Python_Dataset\"][\"AUC\"] = auc(fpr, tpr)"
   ]
  }
 ],
 "metadata": {
  "kernelspec": {
   "display_name": "Python 3",
   "language": "python",
   "name": "python3"
  },
  "language_info": {
   "codemirror_mode": {
    "name": "ipython",
    "version": 3
   },
   "file_extension": ".py",
   "mimetype": "text/x-python",
   "name": "python",
   "nbconvert_exporter": "python",
   "pygments_lexer": "ipython3",
   "version": "3.9.4"
  }
 },
 "nbformat": 4,
 "nbformat_minor": 5
}
