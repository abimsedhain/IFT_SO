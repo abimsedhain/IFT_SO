{
 "cells": [
  {
   "cell_type": "code",
   "execution_count": 13,
   "id": "16b279e9",
   "metadata": {},
   "outputs": [],
   "source": [
    "import numpy as np\n",
    "import pandas as pd\n",
    "import matplotlib.pyplot as plt\n",
    "from sklearn.preprocessing import MinMaxScaler\n",
    "import seaborn as sns"
   ]
  },
  {
   "cell_type": "code",
   "execution_count": 20,
   "id": "2ea65a8d",
   "metadata": {},
   "outputs": [],
   "source": [
    "df_first = pd.read_csv(\"between_value_high.csv\")"
   ]
  },
  {
   "cell_type": "code",
   "execution_count": 21,
   "id": "c7c4d74f",
   "metadata": {},
   "outputs": [],
   "source": [
    "df_second = pd.read_csv(\"between_value_low.csv\")"
   ]
  },
  {
   "cell_type": "code",
   "execution_count": 22,
   "id": "afd1f04a",
   "metadata": {},
   "outputs": [],
   "source": [
    "feature_names = [\"Score\", \"AnswerCount\", \"ViewCount\", \"FavoriteCount\", \"CommentCount\",\"Auth_reputation\",\"Editor_reputation\",\"Words_in_Title\",\"Words_in_Title_Description\",\"Accepted_Ans\",\"title_tag_ratio\",\"Creation_Days\",\"Last_Edit_Days\",\"Last_Activity_Days\",\"Closed_Days\"]\n",
    "nrm_feature_names = [f\"Nrm_{i}\" for i in feature_names]"
   ]
  },
  {
   "cell_type": "code",
   "execution_count": 23,
   "id": "379fa02f",
   "metadata": {},
   "outputs": [],
   "source": [
    "scaler = MinMaxScaler()\n",
    "features = df_first[feature_names]\n",
    "nrm_feature_names = [f\"Nrm_{i}\" for i in feature_names]\n",
    "scaler.fit(features)\n",
    "for i in nrm_feature_names:\n",
    "    df_first[i] = 0\n",
    "df_first[nrm_feature_names] = scaler.transform(features)\n",
    "df_first[\"Sum_of_features\"] = df_first[nrm_feature_names].sum(axis=1)"
   ]
  },
  {
   "cell_type": "code",
   "execution_count": 24,
   "id": "1229656f",
   "metadata": {},
   "outputs": [],
   "source": [
    "scaler = MinMaxScaler()\n",
    "features = df_second[feature_names]\n",
    "nrm_feature_names = [f\"Nrm_{i}\" for i in feature_names]\n",
    "scaler.fit(features)\n",
    "for i in nrm_feature_names:\n",
    "    df_second[i] = 0\n",
    "df_second[nrm_feature_names] = scaler.transform(features)\n",
    "df_second[\"Sum_of_features\"] = df_second[nrm_feature_names].sum(axis=1)"
   ]
  },
  {
   "cell_type": "code",
   "execution_count": 25,
   "id": "d037e333",
   "metadata": {},
   "outputs": [],
   "source": [
    "lower_quantile, upper_quantile = df_first[\"Sum_of_features\"].quantile([.25, .75])\n",
    "\n",
    "df_first_adjusted = df_first.loc[(df_first[\"Sum_of_features\"] < lower_quantile)]"
   ]
  },
  {
   "cell_type": "code",
   "execution_count": 26,
   "id": "70d05613",
   "metadata": {},
   "outputs": [],
   "source": [
    "lower_quantile, upper_quantile = df_second[\"Sum_of_features\"].quantile([.25, .75])\n",
    "\n",
    "df_second_adjusted = df_second.loc[(df_second[\"Sum_of_features\"] > upper_quantile)]"
   ]
  },
  {
   "cell_type": "code",
   "execution_count": 27,
   "id": "c39bb61a",
   "metadata": {},
   "outputs": [],
   "source": [
    "lower_quantile, upper_quantile = df_first[\"Sum_of_features\"].quantile([.25, .75])\n",
    "\n",
    "df_first_adjusted_new = df_first.loc[(df_first[\"Sum_of_features\"] > upper_quantile)]"
   ]
  },
  {
   "cell_type": "code",
   "execution_count": 28,
   "id": "12262713",
   "metadata": {},
   "outputs": [],
   "source": [
    "lower_quantile, upper_quantile = df_second[\"Sum_of_features\"].quantile([.25, .75])\n",
    "\n",
    "df_second_adjusted_new = df_second.loc[(df_second[\"Sum_of_features\"] < lower_quantile)]"
   ]
  },
  {
   "cell_type": "code",
   "execution_count": 34,
   "id": "596929e0",
   "metadata": {},
   "outputs": [
    {
     "name": "stderr",
     "output_type": "stream",
     "text": [
      "c:\\users\\abim\\appdata\\local\\programs\\python\\python39\\lib\\site-packages\\seaborn\\distributions.py:2557: FutureWarning: `distplot` is a deprecated function and will be removed in a future version. Please adapt your code to use either `displot` (a figure-level function with similar flexibility) or `histplot` (an axes-level function for histograms).\n",
      "  warnings.warn(msg, FutureWarning)\n",
      "c:\\users\\abim\\appdata\\local\\programs\\python\\python39\\lib\\site-packages\\seaborn\\distributions.py:2557: FutureWarning: `distplot` is a deprecated function and will be removed in a future version. Please adapt your code to use either `displot` (a figure-level function with similar flexibility) or `histplot` (an axes-level function for histograms).\n",
      "  warnings.warn(msg, FutureWarning)\n"
     ]
    },
    {
     "data": {
      "text/plain": [
       "<AxesSubplot:xlabel='Sum_of_features', ylabel='Density'>"
      ]
     },
     "execution_count": 34,
     "metadata": {},
     "output_type": "execute_result"
    },
    {
     "data": {
      "image/png": "[encoded data removed]",
      "text/plain": [
       "<Figure size 432x288 with 1 Axes>"
      ]
     },
     "metadata": {
      "needs_background": "light"
     },
     "output_type": "display_data"
    }
   ],
   "source": [
    "plt.xlim(1.5,6)\n",
    "plt.ylim(0,2.3)\n",
    "\n",
    "kwargs = dict(hist_kws={'alpha':.5}, kde_kws={'linewidth':0.3})\n",
    "\n",
    "sns.distplot(df_first_adjusted[\"Sum_of_features\"],color=\"red\", **kwargs)\n",
    "sns.distplot(df_second_adjusted[\"Sum_of_features\"],color=\"green\", **kwargs)"
   ]
  },
  {
   "cell_type": "code",
   "execution_count": 37,
   "id": "02cdc507",
   "metadata": {},
   "outputs": [
    {
     "name": "stderr",
     "output_type": "stream",
     "text": [
      "c:\\users\\abim\\appdata\\local\\programs\\python\\python39\\lib\\site-packages\\seaborn\\distributions.py:2557: FutureWarning: `distplot` is a deprecated function and will be removed in a future version. Please adapt your code to use either `displot` (a figure-level function with similar flexibility) or `histplot` (an axes-level function for histograms).\n",
      "  warnings.warn(msg, FutureWarning)\n",
      "c:\\users\\abim\\appdata\\local\\programs\\python\\python39\\lib\\site-packages\\seaborn\\distributions.py:2557: FutureWarning: `distplot` is a deprecated function and will be removed in a future version. Please adapt your code to use either `displot` (a figure-level function with similar flexibility) or `histplot` (an axes-level function for histograms).\n",
      "  warnings.warn(msg, FutureWarning)\n"
     ]
    },
    {
     "data": {
      "text/plain": [
       "<AxesSubplot:xlabel='Sum_of_features', ylabel='Density'>"
      ]
     },
     "execution_count": 37,
     "metadata": {},
     "output_type": "execute_result"
    },
    {
     "data": {
      "image/png": "[encoded data removed]",
      "text/plain": [
       "<Figure size 432x288 with 1 Axes>"
      ]
     },
     "metadata": {
      "needs_background": "light"
     },
     "output_type": "display_data"
    }
   ],
   "source": [
    "plt.xlim(1.2,6)\n",
    "plt.ylim(0,2.3)\n",
    "\n",
    "kwargs = dict(hist_kws={'alpha':.5}, kde_kws={'linewidth':0.3})\n",
    "\n",
    "sns.distplot(df_first_adjusted_new[\"Sum_of_features\"],color=\"red\", **kwargs)\n",
    "sns.distplot(df_second_adjusted_new[\"Sum_of_features\"],color=\"green\", **kwargs)"
   ]
  }
 ],
 "metadata": {
  "kernelspec": {
   "display_name": "Python 3",
   "language": "python",
   "name": "python3"
  },
  "language_info": {
   "codemirror_mode": {
    "name": "ipython",
    "version": 3
   },
   "file_extension": ".py",
   "mimetype": "text/x-python",
   "name": "python",
   "nbconvert_exporter": "python",
   "pygments_lexer": "ipython3",
   "version": "3.9.4"
  }
 },
 "nbformat": 4,
 "nbformat_minor": 5
}
