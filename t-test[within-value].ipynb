{
 "cells": [
  {
   "cell_type": "code",
   "execution_count": 1,
   "id": "345b24d2",
   "metadata": {},
   "outputs": [],
   "source": [
    "import numpy as np\n",
    "import pandas as pd\n",
    "\n",
    "from statsmodels.stats.weightstats import ttest_ind"
   ]
  },
  {
   "cell_type": "markdown",
   "id": "399bb271",
   "metadata": {},
   "source": [
    "## Within Value"
   ]
  },
  {
   "cell_type": "code",
   "execution_count": 12,
   "id": "860d14f6",
   "metadata": {},
   "outputs": [],
   "source": [
    "df_value_high = pd.read_csv(\"within_value_high.csv\")\n",
    "df_value_low = pd.read_csv(\"within_value_low.csv\")"
   ]
  },
  {
   "cell_type": "code",
   "execution_count": 13,
   "id": "947f42fa",
   "metadata": {},
   "outputs": [
    {
     "data": {
      "text/html": [
       "<div>\n",
       "<style scoped>\n",
       "    .dataframe tbody tr th:only-of-type {\n",
       "        vertical-align: middle;\n",
       "    }\n",
       "\n",
       "    .dataframe tbody tr th {\n",
       "        vertical-align: top;\n",
       "    }\n",
       "\n",
       "    .dataframe thead th {\n",
       "        text-align: right;\n",
       "    }\n",
       "</style>\n",
       "<table border=\"1\" class=\"dataframe\">\n",
       "  <thead>\n",
       "    <tr style=\"text-align: right;\">\n",
       "      <th></th>\n",
       "      <th>Unnamed: 0</th>\n",
       "      <th>Ans_Score</th>\n",
       "      <th>Ans_CommentCount</th>\n",
       "      <th>Ans_Auth_reputation</th>\n",
       "      <th>Words_in_Answer_Text</th>\n",
       "      <th>Accepted_Ans</th>\n",
       "      <th>Code_Snippet</th>\n",
       "      <th>description_answer_ratio</th>\n",
       "      <th>que_answer_ratio</th>\n",
       "      <th>Answer_Creation_Days</th>\n",
       "      <th>Answer_Last_Edit_Days</th>\n",
       "    </tr>\n",
       "  </thead>\n",
       "  <tbody>\n",
       "    <tr>\n",
       "      <th>count</th>\n",
       "      <td>1383.000000</td>\n",
       "      <td>1383.000000</td>\n",
       "      <td>1383.000000</td>\n",
       "      <td>1383.000000</td>\n",
       "      <td>1383.000000</td>\n",
       "      <td>1383.000000</td>\n",
       "      <td>1383.000000</td>\n",
       "      <td>1383.0</td>\n",
       "      <td>1383.000000</td>\n",
       "      <td>1383.000000</td>\n",
       "      <td>1383.000000</td>\n",
       "    </tr>\n",
       "    <tr>\n",
       "      <th>mean</th>\n",
       "      <td>2105.594360</td>\n",
       "      <td>192.843818</td>\n",
       "      <td>3.035430</td>\n",
       "      <td>52576.516992</td>\n",
       "      <td>147.207520</td>\n",
       "      <td>330.159798</td>\n",
       "      <td>0.941432</td>\n",
       "      <td>1.0</td>\n",
       "      <td>5.171367</td>\n",
       "      <td>1380.242227</td>\n",
       "      <td>2842.947216</td>\n",
       "    </tr>\n",
       "    <tr>\n",
       "      <th>std</th>\n",
       "      <td>1287.573069</td>\n",
       "      <td>738.473700</td>\n",
       "      <td>5.259769</td>\n",
       "      <td>99263.730945</td>\n",
       "      <td>205.931879</td>\n",
       "      <td>1389.151060</td>\n",
       "      <td>0.234900</td>\n",
       "      <td>0.0</td>\n",
       "      <td>6.983254</td>\n",
       "      <td>1160.727551</td>\n",
       "      <td>1250.937545</td>\n",
       "    </tr>\n",
       "    <tr>\n",
       "      <th>min</th>\n",
       "      <td>2.000000</td>\n",
       "      <td>-42.000000</td>\n",
       "      <td>0.000000</td>\n",
       "      <td>922.000000</td>\n",
       "      <td>6.000000</td>\n",
       "      <td>-63.000000</td>\n",
       "      <td>0.000000</td>\n",
       "      <td>1.0</td>\n",
       "      <td>0.000000</td>\n",
       "      <td>-72.000000</td>\n",
       "      <td>15.000000</td>\n",
       "    </tr>\n",
       "    <tr>\n",
       "      <th>25%</th>\n",
       "      <td>976.000000</td>\n",
       "      <td>3.000000</td>\n",
       "      <td>0.000000</td>\n",
       "      <td>9913.000000</td>\n",
       "      <td>49.000000</td>\n",
       "      <td>4.000000</td>\n",
       "      <td>1.000000</td>\n",
       "      <td>1.0</td>\n",
       "      <td>1.000000</td>\n",
       "      <td>181.000000</td>\n",
       "      <td>1905.500000</td>\n",
       "    </tr>\n",
       "    <tr>\n",
       "      <th>50%</th>\n",
       "      <td>2067.000000</td>\n",
       "      <td>12.000000</td>\n",
       "      <td>1.000000</td>\n",
       "      <td>18215.000000</td>\n",
       "      <td>85.000000</td>\n",
       "      <td>18.000000</td>\n",
       "      <td>1.000000</td>\n",
       "      <td>1.0</td>\n",
       "      <td>2.000000</td>\n",
       "      <td>1278.000000</td>\n",
       "      <td>3006.000000</td>\n",
       "    </tr>\n",
       "    <tr>\n",
       "      <th>75%</th>\n",
       "      <td>3251.500000</td>\n",
       "      <td>60.000000</td>\n",
       "      <td>4.000000</td>\n",
       "      <td>50254.500000</td>\n",
       "      <td>163.000000</td>\n",
       "      <td>90.000000</td>\n",
       "      <td>1.000000</td>\n",
       "      <td>1.0</td>\n",
       "      <td>5.000000</td>\n",
       "      <td>2237.000000</td>\n",
       "      <td>4036.000000</td>\n",
       "    </tr>\n",
       "    <tr>\n",
       "      <th>max</th>\n",
       "      <td>4332.000000</td>\n",
       "      <td>12806.000000</td>\n",
       "      <td>44.000000</td>\n",
       "      <td>840090.000000</td>\n",
       "      <td>2580.000000</td>\n",
       "      <td>25612.000000</td>\n",
       "      <td>1.000000</td>\n",
       "      <td>1.0</td>\n",
       "      <td>44.000000</td>\n",
       "      <td>4448.000000</td>\n",
       "      <td>4503.000000</td>\n",
       "    </tr>\n",
       "  </tbody>\n",
       "</table>\n",
       "</div>"
      ],
      "text/plain": [
       "        Unnamed: 0     Ans_Score  Ans_CommentCount  Ans_Auth_reputation  \\\n",
       "count  1383.000000   1383.000000       1383.000000          1383.000000   \n",
       "mean   2105.594360    192.843818          3.035430         52576.516992   \n",
       "std    1287.573069    738.473700          5.259769         99263.730945   \n",
       "min       2.000000    -42.000000          0.000000           922.000000   \n",
       "25%     976.000000      3.000000          0.000000          9913.000000   \n",
       "50%    2067.000000     12.000000          1.000000         18215.000000   \n",
       "75%    3251.500000     60.000000          4.000000         50254.500000   \n",
       "max    4332.000000  12806.000000         44.000000        840090.000000   \n",
       "\n",
       "       Words_in_Answer_Text  Accepted_Ans  Code_Snippet  \\\n",
       "count           1383.000000   1383.000000   1383.000000   \n",
       "mean             147.207520    330.159798      0.941432   \n",
       "std              205.931879   1389.151060      0.234900   \n",
       "min                6.000000    -63.000000      0.000000   \n",
       "25%               49.000000      4.000000      1.000000   \n",
       "50%               85.000000     18.000000      1.000000   \n",
       "75%              163.000000     90.000000      1.000000   \n",
       "max             2580.000000  25612.000000      1.000000   \n",
       "\n",
       "       description_answer_ratio  que_answer_ratio  Answer_Creation_Days  \\\n",
       "count                    1383.0       1383.000000           1383.000000   \n",
       "mean                        1.0          5.171367           1380.242227   \n",
       "std                         0.0          6.983254           1160.727551   \n",
       "min                         1.0          0.000000            -72.000000   \n",
       "25%                         1.0          1.000000            181.000000   \n",
       "50%                         1.0          2.000000           1278.000000   \n",
       "75%                         1.0          5.000000           2237.000000   \n",
       "max                         1.0         44.000000           4448.000000   \n",
       "\n",
       "       Answer_Last_Edit_Days  \n",
       "count            1383.000000  \n",
       "mean             2842.947216  \n",
       "std              1250.937545  \n",
       "min                15.000000  \n",
       "25%              1905.500000  \n",
       "50%              3006.000000  \n",
       "75%              4036.000000  \n",
       "max              4503.000000  "
      ]
     },
     "execution_count": 13,
     "metadata": {},
     "output_type": "execute_result"
    }
   ],
   "source": [
    "df_value_high.describe()"
   ]
  },
  {
   "cell_type": "code",
   "execution_count": 14,
   "id": "ca8f2dbd",
   "metadata": {},
   "outputs": [
    {
     "data": {
      "text/html": [
       "<div>\n",
       "<style scoped>\n",
       "    .dataframe tbody tr th:only-of-type {\n",
       "        vertical-align: middle;\n",
       "    }\n",
       "\n",
       "    .dataframe tbody tr th {\n",
       "        vertical-align: top;\n",
       "    }\n",
       "\n",
       "    .dataframe thead th {\n",
       "        text-align: right;\n",
       "    }\n",
       "</style>\n",
       "<table border=\"1\" class=\"dataframe\">\n",
       "  <thead>\n",
       "    <tr style=\"text-align: right;\">\n",
       "      <th></th>\n",
       "      <th>Unnamed: 0</th>\n",
       "      <th>Ans_Score</th>\n",
       "      <th>Ans_CommentCount</th>\n",
       "      <th>Ans_Auth_reputation</th>\n",
       "      <th>Words_in_Answer_Text</th>\n",
       "      <th>Accepted_Ans</th>\n",
       "      <th>Code_Snippet</th>\n",
       "      <th>description_answer_ratio</th>\n",
       "      <th>que_answer_ratio</th>\n",
       "      <th>Answer_Creation_Days</th>\n",
       "      <th>Answer_Last_Edit_Days</th>\n",
       "    </tr>\n",
       "  </thead>\n",
       "  <tbody>\n",
       "    <tr>\n",
       "      <th>count</th>\n",
       "      <td>2951.000000</td>\n",
       "      <td>2951.000000</td>\n",
       "      <td>2951.000000</td>\n",
       "      <td>2951.000000</td>\n",
       "      <td>2951.000000</td>\n",
       "      <td>2951.000000</td>\n",
       "      <td>2951.000000</td>\n",
       "      <td>2951.0</td>\n",
       "      <td>2951.000000</td>\n",
       "      <td>2951.000000</td>\n",
       "      <td>2951.000000</td>\n",
       "    </tr>\n",
       "    <tr>\n",
       "      <th>mean</th>\n",
       "      <td>2195.043714</td>\n",
       "      <td>22.786513</td>\n",
       "      <td>1.004744</td>\n",
       "      <td>1388.053541</td>\n",
       "      <td>102.773975</td>\n",
       "      <td>37.033209</td>\n",
       "      <td>0.947475</td>\n",
       "      <td>1.0</td>\n",
       "      <td>6.427313</td>\n",
       "      <td>2320.171467</td>\n",
       "      <td>2520.854964</td>\n",
       "    </tr>\n",
       "    <tr>\n",
       "      <th>std</th>\n",
       "      <td>1233.064040</td>\n",
       "      <td>211.729754</td>\n",
       "      <td>2.198454</td>\n",
       "      <td>1599.147346</td>\n",
       "      <td>141.037452</td>\n",
       "      <td>400.996939</td>\n",
       "      <td>0.223120</td>\n",
       "      <td>0.0</td>\n",
       "      <td>8.129089</td>\n",
       "      <td>1076.275814</td>\n",
       "      <td>1354.139845</td>\n",
       "    </tr>\n",
       "    <tr>\n",
       "      <th>min</th>\n",
       "      <td>0.000000</td>\n",
       "      <td>-23.000000</td>\n",
       "      <td>0.000000</td>\n",
       "      <td>1.000000</td>\n",
       "      <td>5.000000</td>\n",
       "      <td>-34.000000</td>\n",
       "      <td>0.000000</td>\n",
       "      <td>1.0</td>\n",
       "      <td>0.000000</td>\n",
       "      <td>0.000000</td>\n",
       "      <td>16.000000</td>\n",
       "    </tr>\n",
       "    <tr>\n",
       "      <th>25%</th>\n",
       "      <td>1148.500000</td>\n",
       "      <td>1.000000</td>\n",
       "      <td>0.000000</td>\n",
       "      <td>182.500000</td>\n",
       "      <td>37.000000</td>\n",
       "      <td>1.000000</td>\n",
       "      <td>1.000000</td>\n",
       "      <td>1.0</td>\n",
       "      <td>2.000000</td>\n",
       "      <td>1503.000000</td>\n",
       "      <td>1362.500000</td>\n",
       "    </tr>\n",
       "    <tr>\n",
       "      <th>50%</th>\n",
       "      <td>2200.000000</td>\n",
       "      <td>3.000000</td>\n",
       "      <td>0.000000</td>\n",
       "      <td>765.000000</td>\n",
       "      <td>65.000000</td>\n",
       "      <td>4.000000</td>\n",
       "      <td>1.000000</td>\n",
       "      <td>1.0</td>\n",
       "      <td>3.000000</td>\n",
       "      <td>2330.000000</td>\n",
       "      <td>2711.000000</td>\n",
       "    </tr>\n",
       "    <tr>\n",
       "      <th>75%</th>\n",
       "      <td>3248.500000</td>\n",
       "      <td>10.000000</td>\n",
       "      <td>1.000000</td>\n",
       "      <td>2065.000000</td>\n",
       "      <td>115.000000</td>\n",
       "      <td>15.000000</td>\n",
       "      <td>1.000000</td>\n",
       "      <td>1.0</td>\n",
       "      <td>6.000000</td>\n",
       "      <td>3163.000000</td>\n",
       "      <td>3740.500000</td>\n",
       "    </tr>\n",
       "    <tr>\n",
       "      <th>max</th>\n",
       "      <td>4333.000000</td>\n",
       "      <td>7588.000000</td>\n",
       "      <td>44.000000</td>\n",
       "      <td>13040.000000</td>\n",
       "      <td>3362.000000</td>\n",
       "      <td>15176.000000</td>\n",
       "      <td>1.000000</td>\n",
       "      <td>1.0</td>\n",
       "      <td>53.000000</td>\n",
       "      <td>4448.000000</td>\n",
       "      <td>4502.000000</td>\n",
       "    </tr>\n",
       "  </tbody>\n",
       "</table>\n",
       "</div>"
      ],
      "text/plain": [
       "        Unnamed: 0    Ans_Score  Ans_CommentCount  Ans_Auth_reputation  \\\n",
       "count  2951.000000  2951.000000       2951.000000          2951.000000   \n",
       "mean   2195.043714    22.786513          1.004744          1388.053541   \n",
       "std    1233.064040   211.729754          2.198454          1599.147346   \n",
       "min       0.000000   -23.000000          0.000000             1.000000   \n",
       "25%    1148.500000     1.000000          0.000000           182.500000   \n",
       "50%    2200.000000     3.000000          0.000000           765.000000   \n",
       "75%    3248.500000    10.000000          1.000000          2065.000000   \n",
       "max    4333.000000  7588.000000         44.000000         13040.000000   \n",
       "\n",
       "       Words_in_Answer_Text  Accepted_Ans  Code_Snippet  \\\n",
       "count           2951.000000   2951.000000   2951.000000   \n",
       "mean             102.773975     37.033209      0.947475   \n",
       "std              141.037452    400.996939      0.223120   \n",
       "min                5.000000    -34.000000      0.000000   \n",
       "25%               37.000000      1.000000      1.000000   \n",
       "50%               65.000000      4.000000      1.000000   \n",
       "75%              115.000000     15.000000      1.000000   \n",
       "max             3362.000000  15176.000000      1.000000   \n",
       "\n",
       "       description_answer_ratio  que_answer_ratio  Answer_Creation_Days  \\\n",
       "count                    2951.0       2951.000000           2951.000000   \n",
       "mean                        1.0          6.427313           2320.171467   \n",
       "std                         0.0          8.129089           1076.275814   \n",
       "min                         1.0          0.000000              0.000000   \n",
       "25%                         1.0          2.000000           1503.000000   \n",
       "50%                         1.0          3.000000           2330.000000   \n",
       "75%                         1.0          6.000000           3163.000000   \n",
       "max                         1.0         53.000000           4448.000000   \n",
       "\n",
       "       Answer_Last_Edit_Days  \n",
       "count            2951.000000  \n",
       "mean             2520.854964  \n",
       "std              1354.139845  \n",
       "min                16.000000  \n",
       "25%              1362.500000  \n",
       "50%              2711.000000  \n",
       "75%              3740.500000  \n",
       "max              4502.000000  "
      ]
     },
     "execution_count": 14,
     "metadata": {},
     "output_type": "execute_result"
    }
   ],
   "source": [
    "df_value_low.describe()"
   ]
  },
  {
   "cell_type": "code",
   "execution_count": 41,
   "id": "ae05f7d3",
   "metadata": {},
   "outputs": [
    {
     "data": {
      "text/plain": [
       "(11.539727890956927, 2.302254371842759e-30, 4332.0)"
      ]
     },
     "execution_count": 41,
     "metadata": {},
     "output_type": "execute_result"
    }
   ],
   "source": [
    "high_score  = df_value_high[\"Ans_Score\"]\n",
    "low_score  = df_value_low[\"Ans_Score\"]\n",
    "\n",
    "ttest = ttest_ind(high_score,low_score)\n",
    "ttest"
   ]
  },
  {
   "cell_type": "code",
   "execution_count": 42,
   "id": "187240f3",
   "metadata": {},
   "outputs": [
    {
     "data": {
      "text/plain": [
       "(17.901730491376533, 3.3675903097898985e-69, 4332.0)"
      ]
     },
     "execution_count": 42,
     "metadata": {},
     "output_type": "execute_result"
    }
   ],
   "source": [
    "high_score  = df_value_high[\"Ans_CommentCount\"]\n",
    "low_score  = df_value_low[\"Ans_CommentCount\"]\n",
    "\n",
    "ttest = ttest_ind(high_score,low_score)\n",
    "ttest"
   ]
  },
  {
   "cell_type": "code",
   "execution_count": 43,
   "id": "f9847733",
   "metadata": {},
   "outputs": [
    {
     "data": {
      "text/plain": [
       "(28.009327151079553, 8.275442430596981e-159, 4332.0)"
      ]
     },
     "execution_count": 43,
     "metadata": {},
     "output_type": "execute_result"
    }
   ],
   "source": [
    "high_score  = df_value_high[\"Ans_Auth_reputation\"]\n",
    "low_score  = df_value_low[\"Ans_Auth_reputation\"]\n",
    "\n",
    "ttest = ttest_ind(high_score,low_score)\n",
    "ttest"
   ]
  },
  {
   "cell_type": "code",
   "execution_count": 44,
   "id": "da7a5050",
   "metadata": {},
   "outputs": [
    {
     "data": {
      "text/plain": [
       "(8.286666428810861, 1.5365376434481355e-16, 4332.0)"
      ]
     },
     "execution_count": 44,
     "metadata": {},
     "output_type": "execute_result"
    }
   ],
   "source": [
    "high_score  = df_value_high[\"Words_in_Answer_Text\"]\n",
    "low_score  = df_value_low[\"Words_in_Answer_Text\"]\n",
    "\n",
    "ttest = ttest_ind(high_score,low_score)\n",
    "ttest"
   ]
  },
  {
   "cell_type": "code",
   "execution_count": 45,
   "id": "8efdf439",
   "metadata": {},
   "outputs": [
    {
     "data": {
      "text/plain": [
       "(10.563283183948805, 9.051065273782327e-26, 4332.0)"
      ]
     },
     "execution_count": 45,
     "metadata": {},
     "output_type": "execute_result"
    }
   ],
   "source": [
    "high_score  = df_value_high[\"Accepted_Ans\"]\n",
    "low_score  = df_value_low[\"Accepted_Ans\"]\n",
    "\n",
    "ttest = ttest_ind(high_score,low_score)\n",
    "ttest"
   ]
  },
  {
   "cell_type": "code",
   "execution_count": 47,
   "id": "e7ff4f14",
   "metadata": {},
   "outputs": [
    {
     "data": {
      "text/plain": [
       "(-4.952643843440074, 7.59996598391339e-07, 4332.0)"
      ]
     },
     "execution_count": 47,
     "metadata": {},
     "output_type": "execute_result"
    }
   ],
   "source": [
    "high_score  = df_value_high[\"que_answer_ratio\"]\n",
    "low_score  = df_value_low[\"que_answer_ratio\"]\n",
    "\n",
    "ttest = ttest_ind(high_score,low_score)\n",
    "ttest"
   ]
  },
  {
   "cell_type": "code",
   "execution_count": 48,
   "id": "5b00c770",
   "metadata": {},
   "outputs": [
    {
     "data": {
      "text/plain": [
       "(-26.128165067279205, 7.179826951525215e-140, 4332.0)"
      ]
     },
     "execution_count": 48,
     "metadata": {},
     "output_type": "execute_result"
    }
   ],
   "source": [
    "high_score  = df_value_high[\"Answer_Creation_Days\"]\n",
    "low_score  = df_value_low[\"Answer_Creation_Days\"]\n",
    "\n",
    "ttest = ttest_ind(high_score,low_score)\n",
    "ttest"
   ]
  },
  {
   "cell_type": "code",
   "execution_count": null,
   "id": "4d852184",
   "metadata": {},
   "outputs": [],
   "source": [
    "high_score  = df_value_high[\"Answer_Last_Edit_Days\"]\n",
    "low_score  = df_value_low[\"Answer_Last_Edit_Days\"]\n",
    "\n",
    "ttest = ttest_ind(high_score,low_score)\n",
    "ttest"
   ]
  }
 ],
 "metadata": {
  "kernelspec": {
   "display_name": "Python 3",
   "language": "python",
   "name": "python3"
  },
  "language_info": {
   "codemirror_mode": {
    "name": "ipython",
    "version": 3
   },
   "file_extension": ".py",
   "mimetype": "text/x-python",
   "name": "python",
   "nbconvert_exporter": "python",
   "pygments_lexer": "ipython3",
   "version": "3.9.4"
  }
 },
 "nbformat": 4,
 "nbformat_minor": 5
}
