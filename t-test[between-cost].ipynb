{
 "cells": [
  {
   "cell_type": "code",
   "execution_count": 1,
   "id": "345b24d2",
   "metadata": {},
   "outputs": [],
   "source": [
    "import numpy as np\n",
    "import pandas as pd\n",
    "\n",
    "from statsmodels.stats.weightstats import ttest_ind"
   ]
  },
  {
   "cell_type": "markdown",
   "id": "7914c517",
   "metadata": {},
   "source": [
    "## Between Cost"
   ]
  },
  {
   "cell_type": "code",
   "execution_count": 8,
   "id": "08d603e3",
   "metadata": {},
   "outputs": [],
   "source": [
    "df_cost_high = pd.read_csv(\"between_cost_high.csv\")\n",
    "df_cost_low = pd.read_csv(\"between_cost_low.csv\")"
   ]
  },
  {
   "cell_type": "code",
   "execution_count": 9,
   "id": "23170e2d",
   "metadata": {},
   "outputs": [
    {
     "data": {
      "text/html": [
       "<div>\n",
       "<style scoped>\n",
       "    .dataframe tbody tr th:only-of-type {\n",
       "        vertical-align: middle;\n",
       "    }\n",
       "\n",
       "    .dataframe tbody tr th {\n",
       "        vertical-align: top;\n",
       "    }\n",
       "\n",
       "    .dataframe thead th {\n",
       "        text-align: right;\n",
       "    }\n",
       "</style>\n",
       "<table border=\"1\" class=\"dataframe\">\n",
       "  <thead>\n",
       "    <tr style=\"text-align: right;\">\n",
       "      <th></th>\n",
       "      <th>Unnamed: 0</th>\n",
       "      <th>AnswerCount</th>\n",
       "      <th>CommentCount</th>\n",
       "      <th>Words_in_Title_Description</th>\n",
       "      <th>Tags_Count</th>\n",
       "    </tr>\n",
       "  </thead>\n",
       "  <tbody>\n",
       "    <tr>\n",
       "      <th>count</th>\n",
       "      <td>916.000000</td>\n",
       "      <td>916.000000</td>\n",
       "      <td>916.000000</td>\n",
       "      <td>916.000000</td>\n",
       "      <td>916.000000</td>\n",
       "    </tr>\n",
       "    <tr>\n",
       "      <th>mean</th>\n",
       "      <td>3073.674672</td>\n",
       "      <td>2.814410</td>\n",
       "      <td>6.034934</td>\n",
       "      <td>68.373362</td>\n",
       "      <td>2.606987</td>\n",
       "    </tr>\n",
       "    <tr>\n",
       "      <th>std</th>\n",
       "      <td>1442.033756</td>\n",
       "      <td>5.651486</td>\n",
       "      <td>4.062205</td>\n",
       "      <td>40.758013</td>\n",
       "      <td>1.034126</td>\n",
       "    </tr>\n",
       "    <tr>\n",
       "      <th>min</th>\n",
       "      <td>21.000000</td>\n",
       "      <td>0.000000</td>\n",
       "      <td>0.000000</td>\n",
       "      <td>7.000000</td>\n",
       "      <td>1.000000</td>\n",
       "    </tr>\n",
       "    <tr>\n",
       "      <th>25%</th>\n",
       "      <td>1861.750000</td>\n",
       "      <td>1.000000</td>\n",
       "      <td>3.000000</td>\n",
       "      <td>39.000000</td>\n",
       "      <td>2.000000</td>\n",
       "    </tr>\n",
       "    <tr>\n",
       "      <th>50%</th>\n",
       "      <td>3110.000000</td>\n",
       "      <td>2.000000</td>\n",
       "      <td>5.000000</td>\n",
       "      <td>59.500000</td>\n",
       "      <td>2.000000</td>\n",
       "    </tr>\n",
       "    <tr>\n",
       "      <th>75%</th>\n",
       "      <td>4449.250000</td>\n",
       "      <td>3.000000</td>\n",
       "      <td>8.000000</td>\n",
       "      <td>87.000000</td>\n",
       "      <td>3.000000</td>\n",
       "    </tr>\n",
       "    <tr>\n",
       "      <th>max</th>\n",
       "      <td>4865.000000</td>\n",
       "      <td>97.000000</td>\n",
       "      <td>28.000000</td>\n",
       "      <td>330.000000</td>\n",
       "      <td>5.000000</td>\n",
       "    </tr>\n",
       "  </tbody>\n",
       "</table>\n",
       "</div>"
      ],
      "text/plain": [
       "        Unnamed: 0  AnswerCount  CommentCount  Words_in_Title_Description  \\\n",
       "count   916.000000   916.000000    916.000000                  916.000000   \n",
       "mean   3073.674672     2.814410      6.034934                   68.373362   \n",
       "std    1442.033756     5.651486      4.062205                   40.758013   \n",
       "min      21.000000     0.000000      0.000000                    7.000000   \n",
       "25%    1861.750000     1.000000      3.000000                   39.000000   \n",
       "50%    3110.000000     2.000000      5.000000                   59.500000   \n",
       "75%    4449.250000     3.000000      8.000000                   87.000000   \n",
       "max    4865.000000    97.000000     28.000000                  330.000000   \n",
       "\n",
       "       Tags_Count  \n",
       "count  916.000000  \n",
       "mean     2.606987  \n",
       "std      1.034126  \n",
       "min      1.000000  \n",
       "25%      2.000000  \n",
       "50%      2.000000  \n",
       "75%      3.000000  \n",
       "max      5.000000  "
      ]
     },
     "execution_count": 9,
     "metadata": {},
     "output_type": "execute_result"
    }
   ],
   "source": [
    "df_cost_high.describe()"
   ]
  },
  {
   "cell_type": "code",
   "execution_count": 10,
   "id": "f9fbb317",
   "metadata": {},
   "outputs": [
    {
     "data": {
      "text/html": [
       "<div>\n",
       "<style scoped>\n",
       "    .dataframe tbody tr th:only-of-type {\n",
       "        vertical-align: middle;\n",
       "    }\n",
       "\n",
       "    .dataframe tbody tr th {\n",
       "        vertical-align: top;\n",
       "    }\n",
       "\n",
       "    .dataframe thead th {\n",
       "        text-align: right;\n",
       "    }\n",
       "</style>\n",
       "<table border=\"1\" class=\"dataframe\">\n",
       "  <thead>\n",
       "    <tr style=\"text-align: right;\">\n",
       "      <th></th>\n",
       "      <th>Unnamed: 0</th>\n",
       "      <th>AnswerCount</th>\n",
       "      <th>CommentCount</th>\n",
       "      <th>Words_in_Title_Description</th>\n",
       "      <th>Tags_Count</th>\n",
       "    </tr>\n",
       "  </thead>\n",
       "  <tbody>\n",
       "    <tr>\n",
       "      <th>count</th>\n",
       "      <td>3952.000000</td>\n",
       "      <td>3952.000000</td>\n",
       "      <td>3952.000000</td>\n",
       "      <td>3952.000000</td>\n",
       "      <td>3952.000000</td>\n",
       "    </tr>\n",
       "    <tr>\n",
       "      <th>mean</th>\n",
       "      <td>2285.119433</td>\n",
       "      <td>2.038968</td>\n",
       "      <td>2.417763</td>\n",
       "      <td>182.339828</td>\n",
       "      <td>2.757844</td>\n",
       "    </tr>\n",
       "    <tr>\n",
       "      <th>std</th>\n",
       "      <td>1354.439878</td>\n",
       "      <td>1.450613</td>\n",
       "      <td>2.555349</td>\n",
       "      <td>169.843518</td>\n",
       "      <td>1.115372</td>\n",
       "    </tr>\n",
       "    <tr>\n",
       "      <th>min</th>\n",
       "      <td>0.000000</td>\n",
       "      <td>0.000000</td>\n",
       "      <td>0.000000</td>\n",
       "      <td>21.000000</td>\n",
       "      <td>1.000000</td>\n",
       "    </tr>\n",
       "    <tr>\n",
       "      <th>25%</th>\n",
       "      <td>1079.750000</td>\n",
       "      <td>1.000000</td>\n",
       "      <td>0.000000</td>\n",
       "      <td>91.000000</td>\n",
       "      <td>2.000000</td>\n",
       "    </tr>\n",
       "    <tr>\n",
       "      <th>50%</th>\n",
       "      <td>2269.500000</td>\n",
       "      <td>2.000000</td>\n",
       "      <td>2.000000</td>\n",
       "      <td>139.000000</td>\n",
       "      <td>3.000000</td>\n",
       "    </tr>\n",
       "    <tr>\n",
       "      <th>75%</th>\n",
       "      <td>3445.250000</td>\n",
       "      <td>3.000000</td>\n",
       "      <td>4.000000</td>\n",
       "      <td>216.000000</td>\n",
       "      <td>3.000000</td>\n",
       "    </tr>\n",
       "    <tr>\n",
       "      <th>max</th>\n",
       "      <td>4867.000000</td>\n",
       "      <td>18.000000</td>\n",
       "      <td>28.000000</td>\n",
       "      <td>3179.000000</td>\n",
       "      <td>5.000000</td>\n",
       "    </tr>\n",
       "  </tbody>\n",
       "</table>\n",
       "</div>"
      ],
      "text/plain": [
       "        Unnamed: 0  AnswerCount  CommentCount  Words_in_Title_Description  \\\n",
       "count  3952.000000  3952.000000   3952.000000                 3952.000000   \n",
       "mean   2285.119433     2.038968      2.417763                  182.339828   \n",
       "std    1354.439878     1.450613      2.555349                  169.843518   \n",
       "min       0.000000     0.000000      0.000000                   21.000000   \n",
       "25%    1079.750000     1.000000      0.000000                   91.000000   \n",
       "50%    2269.500000     2.000000      2.000000                  139.000000   \n",
       "75%    3445.250000     3.000000      4.000000                  216.000000   \n",
       "max    4867.000000    18.000000     28.000000                 3179.000000   \n",
       "\n",
       "        Tags_Count  \n",
       "count  3952.000000  \n",
       "mean      2.757844  \n",
       "std       1.115372  \n",
       "min       1.000000  \n",
       "25%       2.000000  \n",
       "50%       3.000000  \n",
       "75%       3.000000  \n",
       "max       5.000000  "
      ]
     },
     "execution_count": 10,
     "metadata": {},
     "output_type": "execute_result"
    }
   ],
   "source": [
    "df_cost_low.describe()"
   ]
  },
  {
   "cell_type": "code",
   "execution_count": 33,
   "id": "a04c3583",
   "metadata": {},
   "outputs": [
    {
     "data": {
      "text/plain": [
       "(7.6133994760382775, 3.187169782512283e-14, 4866.0)"
      ]
     },
     "execution_count": 33,
     "metadata": {},
     "output_type": "execute_result"
    }
   ],
   "source": [
    "high_score  = df_cost_high[\"AnswerCount\"]\n",
    "low_score  = df_cost_low[\"AnswerCount\"]\n",
    "\n",
    "ttest = ttest_ind(high_score,low_score)\n",
    "ttest"
   ]
  },
  {
   "cell_type": "code",
   "execution_count": 34,
   "id": "5252d3e8",
   "metadata": {},
   "outputs": [
    {
     "data": {
      "text/plain": [
       "(34.0239079319486, 8.152038577629137e-228, 4866.0)"
      ]
     },
     "execution_count": 34,
     "metadata": {},
     "output_type": "execute_result"
    }
   ],
   "source": [
    "high_score  = df_cost_high[\"CommentCount\"]\n",
    "low_score  = df_cost_low[\"CommentCount\"]\n",
    "\n",
    "ttest = ttest_ind(high_score,low_score)\n",
    "ttest"
   ]
  },
  {
   "cell_type": "code",
   "execution_count": 35,
   "id": "1af21332",
   "metadata": {},
   "outputs": [
    {
     "data": {
      "text/plain": [
       "(-20.17273180342851, 5.609288835762339e-87, 4866.0)"
      ]
     },
     "execution_count": 35,
     "metadata": {},
     "output_type": "execute_result"
    }
   ],
   "source": [
    "high_score  = df_cost_high[\"Words_in_Title_Description\"]\n",
    "low_score  = df_cost_low[\"Words_in_Title_Description\"]\n",
    "\n",
    "ttest = ttest_ind(high_score,low_score)\n",
    "ttest"
   ]
  },
  {
   "cell_type": "code",
   "execution_count": 36,
   "id": "dc13ee92",
   "metadata": {},
   "outputs": [
    {
     "data": {
      "text/plain": [
       "(-3.737975335938031, 0.000187637407469991, 4866.0)"
      ]
     },
     "execution_count": 36,
     "metadata": {},
     "output_type": "execute_result"
    }
   ],
   "source": [
    "high_score  = df_cost_high[\"Tags_Count\"]\n",
    "low_score  = df_cost_low[\"Tags_Count\"]\n",
    "\n",
    "ttest = ttest_ind(high_score,low_score)\n",
    "ttest"
   ]
  }
 ],
 "metadata": {
  "kernelspec": {
   "display_name": "Python 3",
   "language": "python",
   "name": "python3"
  },
  "language_info": {
   "codemirror_mode": {
    "name": "ipython",
    "version": 3
   },
   "file_extension": ".py",
   "mimetype": "text/x-python",
   "name": "python",
   "nbconvert_exporter": "python",
   "pygments_lexer": "ipython3",
   "version": "3.9.4"
  }
 },
 "nbformat": 4,
 "nbformat_minor": 5
}
