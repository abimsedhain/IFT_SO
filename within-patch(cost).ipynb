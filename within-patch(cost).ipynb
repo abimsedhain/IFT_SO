{
 "cells": [
  {
   "cell_type": "code",
   "execution_count": 80,
   "id": "d4d5ae61",
   "metadata": {},
   "outputs": [],
   "source": [
    "import numpy as np\n",
    "import pandas as pd\n",
    "import matplotlib.pyplot as plt\n",
    "import re\n",
    "from datetime import datetime, time\n",
    "import scipy.cluster.hierarchy as sch\n",
    "from sklearn.cluster import AgglomerativeClustering\n",
    "from sklearn.metrics import silhouette_score\n",
    "from difflib import SequenceMatcher\n",
    "from sklearn.preprocessing import normalize\n",
    "import math"
   ]
  },
  {
   "cell_type": "code",
   "execution_count": 81,
   "id": "4edcdd83",
   "metadata": {},
   "outputs": [],
   "source": [
    "df = pd.read_csv(\"within-patch.csv\")\n",
    "pd.set_option('display.max_columns', None)"
   ]
  },
  {
   "cell_type": "code",
   "execution_count": 82,
   "id": "3342aaa5",
   "metadata": {},
   "outputs": [],
   "source": [
    "df['AcceptedAnswerId'] = df['AcceptedAnswerId'].replace(np.nan, 0)\n",
    "df['Ans_lastEditDate'] = df['Ans_lastEditDate'].replace(np.nan, 0)"
   ]
  },
  {
   "cell_type": "code",
   "execution_count": 83,
   "id": "e5cb0213",
   "metadata": {},
   "outputs": [],
   "source": [
    "p = re.compile(r'<.*?>')\n",
    "\n",
    "for ind, row in df.iterrows():\n",
    "    title_count = p.sub('',  df.loc[ind, \"Ans_Body\"])\n",
    "    df.loc[ind, \"Words_in_Answer_Text\"] = len(re.findall(r'\\w+',title_count))"
   ]
  },
  {
   "cell_type": "code",
   "execution_count": 84,
   "id": "341391ad",
   "metadata": {},
   "outputs": [],
   "source": [
    "for ind, row in df.iterrows():\n",
    "    if(df.loc[ind,\"AcceptedAnswerId\"]==df.loc[ind,\"Ans_Id\"]):\n",
    "        df.loc[ind, \"Accepted_Ans\"] = df.loc[ind, \"Ans_Score\"]*2\n",
    "    else:\n",
    "        df.loc[ind, \"Accepted_Ans\"] = df.loc[ind, \"Ans_Score\"]*1.5"
   ]
  },
  {
   "cell_type": "code",
   "execution_count": 85,
   "id": "999044db",
   "metadata": {},
   "outputs": [],
   "source": [
    "substring = \"<code>\"\n",
    "\n",
    "for ind, row in df.iterrows():\n",
    "    if(substring in df.loc[ind,\"Ans_Body\"]):\n",
    "        df.loc[ind, \"Code_Snippet\"] = 1\n",
    "    else:\n",
    "        df.loc[ind, \"Code_Snippet\"] = 0"
   ]
  },
  {
   "cell_type": "code",
   "execution_count": 86,
   "id": "d147c4f0",
   "metadata": {},
   "outputs": [],
   "source": [
    "p = re.compile(r'<.*?>')\n",
    "\n",
    "for ind, row in df.iterrows():\n",
    "    title_text = p.sub('',  df.loc[ind, \"Title_Body\"])\n",
    "    answer_text = p.sub('',  df.loc[ind, \"Ans_Body\"])\n",
    "    question = re.findall(r'\\w+',title_text)\n",
    "    answer = re.findall(r'\\w+',answer_text)\n",
    "    df.loc[ind, \"description_answer_ratio\"] = math.ceil(SequenceMatcher(None, title_text,answer_text).ratio())"
   ]
  },
  {
   "cell_type": "code",
   "execution_count": 87,
   "id": "b15370da",
   "metadata": {},
   "outputs": [],
   "source": [
    "p = re.compile(r'<.*?>')\n",
    "\n",
    "for ind, row in df.iterrows():\n",
    "    title_text = p.sub('',  df.loc[ind, \"Title\"])\n",
    "    answer_text = p.sub('',  df.loc[ind, \"Ans_Body\"])\n",
    "    question = re.findall(r'\\w+',title_text)\n",
    "    answer = re.findall(r'\\w+',answer_text)\n",
    "    df.loc[ind, \"que_answer_ratio\"] = math.ceil(SequenceMatcher(None, title_text,answer_text).ratio()*100)"
   ]
  },
  {
   "cell_type": "code",
   "execution_count": 88,
   "id": "27e85b28",
   "metadata": {},
   "outputs": [],
   "source": [
    "df['Words_in_Answer_Text'] = df['Words_in_Answer_Text'].astype(int)\n",
    "df['Accepted_Ans'] = df['Accepted_Ans'].astype(int)\n",
    "df['Code_Snippet'] = df['Code_Snippet'].astype(int)\n",
    "df['description_answer_ratio'] = df['description_answer_ratio'].astype(int)\n",
    "df['que_answer_ratio'] = df['que_answer_ratio'].astype(int)"
   ]
  },
  {
   "cell_type": "code",
   "execution_count": 90,
   "id": "7e69bca2",
   "metadata": {},
   "outputs": [],
   "source": [
    "df.drop(['Id', 'Score','Title', 'Title_Body', 'CreationDate','AcceptedAnswerId', 'Ans_Id','Ans_Score','Ans_Body','Ans_creationDate','Ans_lastEditDate','Ans_Auth_reputation','Accepted_Ans','Code_Snippet','description_answer_ratio'], axis=1, inplace=True)"
   ]
  },
  {
   "cell_type": "code",
   "execution_count": 92,
   "id": "38e58048",
   "metadata": {},
   "outputs": [],
   "source": [
    "data_scaled = normalize(df)"
   ]
  },
  {
   "cell_type": "code",
   "execution_count": 93,
   "id": "15bf1961",
   "metadata": {},
   "outputs": [
    {
     "data": {
      "text/plain": [
       "AgglomerativeClustering()"
      ]
     },
     "execution_count": 93,
     "metadata": {},
     "output_type": "execute_result"
    }
   ],
   "source": [
    "hc = AgglomerativeClustering(n_clusters=2,affinity=\"euclidean\",linkage=\"ward\")\n",
    "hc.fit(data_scaled)"
   ]
  },
  {
   "cell_type": "code",
   "execution_count": 94,
   "id": "6fc791f0",
   "metadata": {},
   "outputs": [
    {
     "data": {
      "text/plain": [
       "array([1, 1, 1, ..., 1, 1, 1], dtype=int64)"
      ]
     },
     "execution_count": 94,
     "metadata": {},
     "output_type": "execute_result"
    }
   ],
   "source": [
    "membership = hc.labels_\n",
    "membership"
   ]
  },
  {
   "cell_type": "code",
   "execution_count": 95,
   "id": "979c161a",
   "metadata": {},
   "outputs": [],
   "source": [
    "df_0 = df[hc.labels_==0]"
   ]
  },
  {
   "cell_type": "code",
   "execution_count": 96,
   "id": "d3748c92",
   "metadata": {},
   "outputs": [],
   "source": [
    "df_1 = df[hc.labels_==1]"
   ]
  },
  {
   "cell_type": "code",
   "execution_count": 101,
   "id": "3caf2340",
   "metadata": {},
   "outputs": [],
   "source": [
    "df_0.to_csv('within_cost_low.csv')"
   ]
  },
  {
   "cell_type": "code",
   "execution_count": 102,
   "id": "44fa0081",
   "metadata": {},
   "outputs": [],
   "source": [
    "df_1.to_csv('within_cost_high.csv')"
   ]
  },
  {
   "cell_type": "code",
   "execution_count": 103,
   "id": "20b1d482",
   "metadata": {},
   "outputs": [
    {
     "data": {
      "text/plain": [
       "0.8467855535164945"
      ]
     },
     "execution_count": 103,
     "metadata": {},
     "output_type": "execute_result"
    }
   ],
   "source": [
    "silhouette_score(data_scaled,membership)"
   ]
  },
  {
   "cell_type": "code",
   "execution_count": 104,
   "id": "bc252ed0",
   "metadata": {},
   "outputs": [],
   "source": [
    "df.loc[:,\"Category\"]=0\n",
    "df.loc[hc.labels_==1, \"Category\"] = 1"
   ]
  },
  {
   "cell_type": "code",
   "execution_count": 105,
   "id": "ba35c20d",
   "metadata": {},
   "outputs": [],
   "source": [
    "from sklearn.linear_model import LogisticRegression\n",
    "import matplotlib.pyplot as plt\n",
    "import seaborn as sns\n",
    "from sklearn.metrics import confusion_matrix\n",
    "from sklearn.metrics import accuracy_score\n",
    "from sklearn.metrics import recall_score\n",
    "from sklearn.metrics import precision_score\n",
    "from sklearn.preprocessing import MinMaxScaler\n",
    "import statsmodels.api as sm\n",
    "import statsmodels.formula.api as smf\n",
    "from sklearn.model_selection import train_test_split\n",
    "from sklearn.metrics import roc_curve\n",
    "from sklearn.metrics import auc\n",
    "from statsmodels.regression.linear_model import OLSResults"
   ]
  },
  {
   "cell_type": "code",
   "execution_count": 106,
   "id": "411d6f91",
   "metadata": {},
   "outputs": [],
   "source": [
    "feature_names = ['Ans_CommentCount','Words_in_Answer_Text','que_answer_ratio']\n",
    "nrm_feature_names = [f\"Nrm_{i}\" for i in feature_names]"
   ]
  },
  {
   "cell_type": "code",
   "execution_count": 107,
   "id": "9b8273f6",
   "metadata": {},
   "outputs": [],
   "source": [
    "scaler = MinMaxScaler()\n",
    "features = df[feature_names]\n",
    "nrm_feature_names = [f\"Nrm_{i}\" for i in feature_names]\n",
    "scaler.fit(features)\n",
    "for i in nrm_feature_names:\n",
    "    df[i] = 0\n",
    "df[nrm_feature_names] = scaler.transform(features)"
   ]
  },
  {
   "cell_type": "code",
   "execution_count": 117,
   "id": "666bbb24",
   "metadata": {},
   "outputs": [],
   "source": [
    "X_train, X_test, y_train, y_test = train_test_split(df[nrm_feature_names], df[\"Category\"], test_size=0.3, random_state=62)"
   ]
  },
  {
   "cell_type": "code",
   "execution_count": 118,
   "id": "f2f7b4e4",
   "metadata": {},
   "outputs": [
    {
     "name": "stdout",
     "output_type": "stream",
     "text": [
      "Optimization terminated successfully.\n",
      "         Current function value: 0.007528\n",
      "         Iterations 24\n"
     ]
    }
   ],
   "source": [
    "lm_cluster_cost = sm.Logit(y_train, X_train).fit()"
   ]
  },
  {
   "cell_type": "code",
   "execution_count": 119,
   "id": "36a66b13",
   "metadata": {},
   "outputs": [
    {
     "name": "stdout",
     "output_type": "stream",
     "text": [
      "                           Logit Regression Results                           \n",
      "==============================================================================\n",
      "Dep. Variable:               Category   No. Observations:                 3033\n",
      "Model:                          Logit   Df Residuals:                     3030\n",
      "Method:                           MLE   Df Model:                            2\n",
      "Date:                Sun, 05 Dec 2021   Pseudo R-squ.:                  0.9819\n",
      "Time:                        15:21:36   Log-Likelihood:                -22.833\n",
      "converged:                       True   LL-Null:                       -1264.7\n",
      "Covariance Type:            nonrobust   LLR p-value:                     0.000\n",
      "============================================================================================\n",
      "                               coef    std err          z      P>|z|      [0.025      0.975]\n",
      "--------------------------------------------------------------------------------------------\n",
      "Nrm_Ans_CommentCount        20.9536      7.672      2.731      0.006       5.916      35.991\n",
      "Nrm_Words_in_Answer_Text  2652.1889    567.804      4.671      0.000    1539.314    3765.064\n",
      "Nrm_que_answer_ratio       -76.6585     16.255     -4.716      0.000    -108.517     -44.800\n",
      "============================================================================================\n",
      "\n",
      "Possibly complete quasi-separation: A fraction 0.95 of observations can be\n",
      "perfectly predicted. This might indicate that there is complete\n",
      "quasi-separation. In this case some parameters will not be identified.\n"
     ]
    }
   ],
   "source": [
    "print(lm_cluster_cost.summary())"
   ]
  },
  {
   "cell_type": "code",
   "execution_count": 120,
   "id": "dc0c9884",
   "metadata": {},
   "outputs": [],
   "source": [
    "y_pred = [1 if i else 0 for i in lm_cluster_cost.predict(X_test)>0.5]"
   ]
  },
  {
   "cell_type": "code",
   "execution_count": 121,
   "id": "e8298e53",
   "metadata": {},
   "outputs": [],
   "source": [
    "data_summary = {}"
   ]
  },
  {
   "cell_type": "code",
   "execution_count": 122,
   "id": "9fbf45ba",
   "metadata": {},
   "outputs": [
    {
     "name": "stdout",
     "output_type": "stream",
     "text": [
      "Confusion Matrix: \n",
      "[[ 188    0]\n",
      " [   0 1113]]\n",
      "Accuracy: 1.0\n",
      "Precision: 1.0\n",
      "Recall: 1.0\n"
     ]
    },
    {
     "data": {
      "image/png": "[encoded data removed]",
      "text/plain": [
       "<Figure size 432x288 with 1 Axes>"
      ]
     },
     "metadata": {
      "needs_background": "light"
     },
     "output_type": "display_data"
    }
   ],
   "source": [
    "print(f\"Confusion Matrix: \\n{confusion_matrix(y_test, y_pred)}\")\n",
    "print(f\"Accuracy: {accuracy_score(y_test, y_pred)}\")\n",
    "print(f\"Precision: {precision_score(y_test, y_pred)}\")\n",
    "print(f\"Recall: {recall_score(y_test, y_pred)}\")\n",
    "fpr, tpr, thresholds = roc_curve(y_test, lm_cluster_cost.predict(X_test), pos_label=1)\n",
    "roc_auc = auc(fpr, tpr)\n",
    "plt.title('Receiver Operating Characteristic')\n",
    "plt.plot(fpr, tpr, 'b', label = f'AUC(greater is better) = {round(roc_auc, 5)}')\n",
    "plt.legend(loc = 'lower right')\n",
    "plt.plot([0, 1], [0, 1],'r--')\n",
    "plt.xlim([0, 1])\n",
    "plt.ylim([0, 1])\n",
    "plt.ylabel('True Positive Rate')\n",
    "plt.xlabel('False Positive Rate')\n",
    "plt.show()\n",
    "\n",
    "data_summary[\"Exetrems_Model_Testing_Dataset\"] = {}\n",
    "data_summary[\"Exetrems_Model_Testing_Dataset\"][\"Accuracy\"] = accuracy_score(y_test, y_pred)\n",
    "data_summary[\"Exetrems_Model_Testing_Dataset\"][\"Precision\"] = precision_score(y_test, y_pred)\n",
    "data_summary[\"Exetrems_Model_Testing_Dataset\"][\"Recall\"] = recall_score(y_test, y_pred)\n",
    "data_summary[\"Exetrems_Model_Testing_Dataset\"][\"AUC\"] = auc(fpr, tpr)"
   ]
  },
  {
   "cell_type": "code",
   "execution_count": 123,
   "id": "18abd5ec",
   "metadata": {},
   "outputs": [
    {
     "name": "stdout",
     "output_type": "stream",
     "text": [
      "Confusion Matrix: \n",
      "[[ 442    3]\n",
      " [   4 2584]]\n",
      "Accuracy: 0.997692054071876\n",
      "Precision: 0.9988403556242752\n",
      "Recall: 0.9984544049459042\n"
     ]
    },
    {
     "data": {
      "image/png": "[encoded data removed]",
      "text/plain": [
       "<Figure size 432x288 with 1 Axes>"
      ]
     },
     "metadata": {
      "needs_background": "light"
     },
     "output_type": "display_data"
    }
   ],
   "source": [
    "y_pred = [1 if i else 0 for i in lm_cluster_cost.predict(X_train)>0.5]\n",
    "print(f\"Confusion Matrix: \\n{confusion_matrix(y_train, y_pred)}\")\n",
    "print(f\"Accuracy: {accuracy_score(y_train, y_pred)}\")\n",
    "print(f\"Precision: {precision_score(y_train, y_pred)}\")\n",
    "print(f\"Recall: {recall_score(y_train, y_pred)}\")\n",
    "fpr, tpr, thresholds = roc_curve(y_train, lm_cluster_cost.predict(X_train), pos_label=1)\n",
    "roc_auc = auc(fpr, tpr)\n",
    "plt.title('Receiver Operating Characteristic')\n",
    "plt.plot(fpr, tpr, 'b', label = f'AUC(greater is better) = {round(roc_auc, 5)}')\n",
    "plt.legend(loc = 'lower right')\n",
    "plt.plot([0, 1], [0, 1],'r--')\n",
    "plt.xlim([0, 1])\n",
    "plt.ylim([0, 1])\n",
    "plt.ylabel('True Positive Rate')\n",
    "plt.xlabel('False Positive Rate')\n",
    "plt.show()\n",
    "\n",
    "data_summary[\"Exetrems_Model_Training_Dataset\"] = {}\n",
    "data_summary[\"Exetrems_Model_Training_Dataset\"][\"Accuracy\"] = accuracy_score(y_train, y_pred)\n",
    "data_summary[\"Exetrems_Model_Training_Dataset\"][\"Precision\"] = precision_score(y_train, y_pred)\n",
    "data_summary[\"Exetrems_Model_Training_Dataset\"][\"Recall\"] = recall_score(y_train, y_train)\n",
    "data_summary[\"Exetrems_Model_Training_Dataset\"][\"AUC\"] = auc(fpr, tpr)"
   ]
  },
  {
   "cell_type": "code",
   "execution_count": 124,
   "id": "4161b4d8",
   "metadata": {},
   "outputs": [],
   "source": [
    "df_python = pd.read_csv('within-python.csv')"
   ]
  },
  {
   "cell_type": "code",
   "execution_count": 128,
   "id": "76e4762c",
   "metadata": {},
   "outputs": [
    {
     "name": "stdout",
     "output_type": "stream",
     "text": [
      "Confusion Matrix: \n",
      "[[    0  5942]\n",
      " [    0 14058]]\n",
      "Accuracy: 0.7029\n",
      "Precision: 0.7029\n",
      "Recall: 1.0\n"
     ]
    },
    {
     "data": {
      "image/png": "[encoded data removed]",
      "text/plain": [
       "<Figure size 432x288 with 1 Axes>"
      ]
     },
     "metadata": {
      "needs_background": "light"
     },
     "output_type": "display_data"
    }
   ],
   "source": [
    "X_train, y_train = df_python[feature_names], df_python[\"Category\"]\n",
    "y_pred = [1 if i else 0 for i in lm_cluster_cost.predict(X_train)>0.5]\n",
    "print(f\"Confusion Matrix: \\n{confusion_matrix(y_train, y_pred)}\")\n",
    "print(f\"Accuracy: {accuracy_score(y_train, y_pred)}\")\n",
    "print(f\"Precision: {precision_score(y_train, y_pred)}\")\n",
    "print(f\"Recall: {recall_score(y_train, y_pred)}\")\n",
    "fpr, tpr, thresholds = roc_curve(y_train, lm_cluster_cost.predict(X_train), pos_label=1)\n",
    "roc_auc = auc(fpr, tpr)\n",
    "plt.title('Receiver Operating Characteristic')\n",
    "plt.plot(fpr, tpr, 'b', label = f'AUC(greater is better) = {round(roc_auc, 5)}')\n",
    "plt.legend(loc = 'lower right')\n",
    "plt.plot([0, 1], [0, 1],'r--')\n",
    "plt.xlim([0, 1])\n",
    "plt.ylim([0, 1])\n",
    "plt.ylabel('True Positive Rate')\n",
    "plt.xlabel('False Positive Rate')\n",
    "plt.show()\n",
    "\n",
    "\n",
    "data_summary[\"Exetrems_Model_Python_Dataset\"] = {}\n",
    "data_summary[\"Exetrems_Model_Python_Dataset\"][\"Accuracy\"] = accuracy_score(y_train, y_pred)\n",
    "data_summary[\"Exetrems_Model_Python_Dataset\"][\"Precision\"] = precision_score(y_train, y_pred)\n",
    "data_summary[\"Exetrems_Model_Python_Dataset\"][\"Recall\"] = recall_score(y_train, y_pred)\n",
    "data_summary[\"Exetrems_Model_Python_Dataset\"][\"AUC\"] = auc(fpr, tpr)"
   ]
  }
 ],
 "metadata": {
  "kernelspec": {
   "display_name": "Python 3",
   "language": "python",
   "name": "python3"
  },
  "language_info": {
   "codemirror_mode": {
    "name": "ipython",
    "version": 3
   },
   "file_extension": ".py",
   "mimetype": "text/x-python",
   "name": "python",
   "nbconvert_exporter": "python",
   "pygments_lexer": "ipython3",
   "version": "3.9.4"
  }
 },
 "nbformat": 4,
 "nbformat_minor": 5
}
