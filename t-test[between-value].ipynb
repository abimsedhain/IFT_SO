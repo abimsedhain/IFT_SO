{
 "cells": [
  {
   "cell_type": "code",
   "execution_count": 1,
   "id": "345b24d2",
   "metadata": {},
   "outputs": [],
   "source": [
    "import numpy as np\n",
    "import pandas as pd\n",
    "\n",
    "from statsmodels.stats.weightstats import ttest_ind"
   ]
  },
  {
   "cell_type": "markdown",
   "id": "90a9632b",
   "metadata": {},
   "source": [
    "## Between Value"
   ]
  },
  {
   "cell_type": "code",
   "execution_count": 2,
   "id": "d67dece7",
   "metadata": {},
   "outputs": [],
   "source": [
    "df_high = pd.read_csv(\"between_value_high.csv\")"
   ]
  },
  {
   "cell_type": "code",
   "execution_count": 3,
   "id": "281e884a",
   "metadata": {},
   "outputs": [],
   "source": [
    "df_low = pd.read_csv(\"between_value_low.csv\")"
   ]
  },
  {
   "cell_type": "code",
   "execution_count": 5,
   "id": "df67dec4",
   "metadata": {},
   "outputs": [
    {
     "data": {
      "text/html": [
       "<div>\n",
       "<style scoped>\n",
       "    .dataframe tbody tr th:only-of-type {\n",
       "        vertical-align: middle;\n",
       "    }\n",
       "\n",
       "    .dataframe tbody tr th {\n",
       "        vertical-align: top;\n",
       "    }\n",
       "\n",
       "    .dataframe thead th {\n",
       "        text-align: right;\n",
       "    }\n",
       "</style>\n",
       "<table border=\"1\" class=\"dataframe\">\n",
       "  <thead>\n",
       "    <tr style=\"text-align: right;\">\n",
       "      <th></th>\n",
       "      <th>Unnamed: 0</th>\n",
       "      <th>Score</th>\n",
       "      <th>AnswerCount</th>\n",
       "      <th>ViewCount</th>\n",
       "      <th>FavoriteCount</th>\n",
       "      <th>CommentCount</th>\n",
       "      <th>Auth_reputation</th>\n",
       "      <th>Editor_reputation</th>\n",
       "      <th>Words_in_Title</th>\n",
       "      <th>Words_in_Title_Description</th>\n",
       "      <th>Accepted_Ans</th>\n",
       "      <th>Tags_Count</th>\n",
       "      <th>title_tag_ratio</th>\n",
       "      <th>Creation_Days</th>\n",
       "      <th>Last_Edit_Days</th>\n",
       "      <th>Last_Activity_Days</th>\n",
       "      <th>Closed_Days</th>\n",
       "    </tr>\n",
       "  </thead>\n",
       "  <tbody>\n",
       "    <tr>\n",
       "      <th>count</th>\n",
       "      <td>2551.000000</td>\n",
       "      <td>2551.000000</td>\n",
       "      <td>2551.000000</td>\n",
       "      <td>2551.000000</td>\n",
       "      <td>2551.000000</td>\n",
       "      <td>2551.000000</td>\n",
       "      <td>2551.000000</td>\n",
       "      <td>2551.000000</td>\n",
       "      <td>2551.000000</td>\n",
       "      <td>2551.000000</td>\n",
       "      <td>2551.000000</td>\n",
       "      <td>2551.000000</td>\n",
       "      <td>2551.000000</td>\n",
       "      <td>2551.000000</td>\n",
       "      <td>2551.000000</td>\n",
       "      <td>2551.000000</td>\n",
       "      <td>2551.000000</td>\n",
       "    </tr>\n",
       "    <tr>\n",
       "      <th>mean</th>\n",
       "      <td>2493.185809</td>\n",
       "      <td>3.811446</td>\n",
       "      <td>2.198354</td>\n",
       "      <td>2057.810662</td>\n",
       "      <td>1.273226</td>\n",
       "      <td>2.800470</td>\n",
       "      <td>10682.412779</td>\n",
       "      <td>92717.280674</td>\n",
       "      <td>9.007448</td>\n",
       "      <td>144.180321</td>\n",
       "      <td>0.696590</td>\n",
       "      <td>2.675813</td>\n",
       "      <td>33.181446</td>\n",
       "      <td>2241.177185</td>\n",
       "      <td>2425.308114</td>\n",
       "      <td>2495.981576</td>\n",
       "      <td>2267.072913</td>\n",
       "    </tr>\n",
       "    <tr>\n",
       "      <th>std</th>\n",
       "      <td>1415.374333</td>\n",
       "      <td>59.184743</td>\n",
       "      <td>1.792100</td>\n",
       "      <td>13543.717068</td>\n",
       "      <td>20.950779</td>\n",
       "      <td>3.077779</td>\n",
       "      <td>34778.496793</td>\n",
       "      <td>158209.794170</td>\n",
       "      <td>3.789297</td>\n",
       "      <td>149.166714</td>\n",
       "      <td>0.459821</td>\n",
       "      <td>1.061796</td>\n",
       "      <td>13.650927</td>\n",
       "      <td>1041.427312</td>\n",
       "      <td>1046.999039</td>\n",
       "      <td>1052.211079</td>\n",
       "      <td>1040.253220</td>\n",
       "    </tr>\n",
       "    <tr>\n",
       "      <th>min</th>\n",
       "      <td>0.000000</td>\n",
       "      <td>-9.000000</td>\n",
       "      <td>0.000000</td>\n",
       "      <td>8.000000</td>\n",
       "      <td>0.000000</td>\n",
       "      <td>0.000000</td>\n",
       "      <td>1.000000</td>\n",
       "      <td>1.000000</td>\n",
       "      <td>2.000000</td>\n",
       "      <td>7.000000</td>\n",
       "      <td>0.000000</td>\n",
       "      <td>1.000000</td>\n",
       "      <td>4.600000</td>\n",
       "      <td>91.000000</td>\n",
       "      <td>102.000000</td>\n",
       "      <td>262.000000</td>\n",
       "      <td>15.000000</td>\n",
       "    </tr>\n",
       "    <tr>\n",
       "      <th>25%</th>\n",
       "      <td>1194.000000</td>\n",
       "      <td>0.000000</td>\n",
       "      <td>1.000000</td>\n",
       "      <td>72.000000</td>\n",
       "      <td>0.000000</td>\n",
       "      <td>0.000000</td>\n",
       "      <td>117.000000</td>\n",
       "      <td>10319.500000</td>\n",
       "      <td>6.000000</td>\n",
       "      <td>68.000000</td>\n",
       "      <td>0.000000</td>\n",
       "      <td>2.000000</td>\n",
       "      <td>23.260000</td>\n",
       "      <td>1436.000000</td>\n",
       "      <td>1577.000000</td>\n",
       "      <td>1653.000000</td>\n",
       "      <td>1494.500000</td>\n",
       "    </tr>\n",
       "    <tr>\n",
       "      <th>50%</th>\n",
       "      <td>2605.000000</td>\n",
       "      <td>1.000000</td>\n",
       "      <td>2.000000</td>\n",
       "      <td>190.000000</td>\n",
       "      <td>0.000000</td>\n",
       "      <td>2.000000</td>\n",
       "      <td>1761.000000</td>\n",
       "      <td>27029.000000</td>\n",
       "      <td>8.000000</td>\n",
       "      <td>107.000000</td>\n",
       "      <td>1.000000</td>\n",
       "      <td>2.000000</td>\n",
       "      <td>32.100000</td>\n",
       "      <td>2106.000000</td>\n",
       "      <td>2397.000000</td>\n",
       "      <td>2469.000000</td>\n",
       "      <td>2402.000000</td>\n",
       "    </tr>\n",
       "    <tr>\n",
       "      <th>75%</th>\n",
       "      <td>3716.000000</td>\n",
       "      <td>2.000000</td>\n",
       "      <td>3.000000</td>\n",
       "      <td>920.500000</td>\n",
       "      <td>0.000000</td>\n",
       "      <td>4.000000</td>\n",
       "      <td>7908.000000</td>\n",
       "      <td>81039.000000</td>\n",
       "      <td>11.000000</td>\n",
       "      <td>171.000000</td>\n",
       "      <td>1.000000</td>\n",
       "      <td>3.000000</td>\n",
       "      <td>41.410000</td>\n",
       "      <td>3004.000000</td>\n",
       "      <td>3220.000000</td>\n",
       "      <td>3345.000000</td>\n",
       "      <td>3077.000000</td>\n",
       "    </tr>\n",
       "    <tr>\n",
       "      <th>max</th>\n",
       "      <td>4867.000000</td>\n",
       "      <td>2917.000000</td>\n",
       "      <td>44.000000</td>\n",
       "      <td>396394.000000</td>\n",
       "      <td>1025.000000</td>\n",
       "      <td>28.000000</td>\n",
       "      <td>498845.000000</td>\n",
       "      <td>965131.000000</td>\n",
       "      <td>41.000000</td>\n",
       "      <td>3179.000000</td>\n",
       "      <td>1.000000</td>\n",
       "      <td>5.000000</td>\n",
       "      <td>89.360000</td>\n",
       "      <td>4512.000000</td>\n",
       "      <td>4512.000000</td>\n",
       "      <td>4512.000000</td>\n",
       "      <td>4436.000000</td>\n",
       "    </tr>\n",
       "  </tbody>\n",
       "</table>\n",
       "</div>"
      ],
      "text/plain": [
       "        Unnamed: 0        Score  AnswerCount      ViewCount  FavoriteCount  \\\n",
       "count  2551.000000  2551.000000  2551.000000    2551.000000    2551.000000   \n",
       "mean   2493.185809     3.811446     2.198354    2057.810662       1.273226   \n",
       "std    1415.374333    59.184743     1.792100   13543.717068      20.950779   \n",
       "min       0.000000    -9.000000     0.000000       8.000000       0.000000   \n",
       "25%    1194.000000     0.000000     1.000000      72.000000       0.000000   \n",
       "50%    2605.000000     1.000000     2.000000     190.000000       0.000000   \n",
       "75%    3716.000000     2.000000     3.000000     920.500000       0.000000   \n",
       "max    4867.000000  2917.000000    44.000000  396394.000000    1025.000000   \n",
       "\n",
       "       CommentCount  Auth_reputation  Editor_reputation  Words_in_Title  \\\n",
       "count   2551.000000      2551.000000        2551.000000     2551.000000   \n",
       "mean       2.800470     10682.412779       92717.280674        9.007448   \n",
       "std        3.077779     34778.496793      158209.794170        3.789297   \n",
       "min        0.000000         1.000000           1.000000        2.000000   \n",
       "25%        0.000000       117.000000       10319.500000        6.000000   \n",
       "50%        2.000000      1761.000000       27029.000000        8.000000   \n",
       "75%        4.000000      7908.000000       81039.000000       11.000000   \n",
       "max       28.000000    498845.000000      965131.000000       41.000000   \n",
       "\n",
       "       Words_in_Title_Description  Accepted_Ans   Tags_Count  title_tag_ratio  \\\n",
       "count                 2551.000000   2551.000000  2551.000000      2551.000000   \n",
       "mean                   144.180321      0.696590     2.675813        33.181446   \n",
       "std                    149.166714      0.459821     1.061796        13.650927   \n",
       "min                      7.000000      0.000000     1.000000         4.600000   \n",
       "25%                     68.000000      0.000000     2.000000        23.260000   \n",
       "50%                    107.000000      1.000000     2.000000        32.100000   \n",
       "75%                    171.000000      1.000000     3.000000        41.410000   \n",
       "max                   3179.000000      1.000000     5.000000        89.360000   \n",
       "\n",
       "       Creation_Days  Last_Edit_Days  Last_Activity_Days  Closed_Days  \n",
       "count    2551.000000     2551.000000         2551.000000  2551.000000  \n",
       "mean     2241.177185     2425.308114         2495.981576  2267.072913  \n",
       "std      1041.427312     1046.999039         1052.211079  1040.253220  \n",
       "min        91.000000      102.000000          262.000000    15.000000  \n",
       "25%      1436.000000     1577.000000         1653.000000  1494.500000  \n",
       "50%      2106.000000     2397.000000         2469.000000  2402.000000  \n",
       "75%      3004.000000     3220.000000         3345.000000  3077.000000  \n",
       "max      4512.000000     4512.000000         4512.000000  4436.000000  "
      ]
     },
     "execution_count": 5,
     "metadata": {},
     "output_type": "execute_result"
    }
   ],
   "source": [
    "df_low.describe()"
   ]
  },
  {
   "cell_type": "code",
   "execution_count": 6,
   "id": "5bb3c9ef",
   "metadata": {},
   "outputs": [
    {
     "data": {
      "text/html": [
       "<div>\n",
       "<style scoped>\n",
       "    .dataframe tbody tr th:only-of-type {\n",
       "        vertical-align: middle;\n",
       "    }\n",
       "\n",
       "    .dataframe tbody tr th {\n",
       "        vertical-align: top;\n",
       "    }\n",
       "\n",
       "    .dataframe thead th {\n",
       "        text-align: right;\n",
       "    }\n",
       "</style>\n",
       "<table border=\"1\" class=\"dataframe\">\n",
       "  <thead>\n",
       "    <tr style=\"text-align: right;\">\n",
       "      <th></th>\n",
       "      <th>Unnamed: 0</th>\n",
       "      <th>Score</th>\n",
       "      <th>AnswerCount</th>\n",
       "      <th>ViewCount</th>\n",
       "      <th>FavoriteCount</th>\n",
       "      <th>CommentCount</th>\n",
       "      <th>Auth_reputation</th>\n",
       "      <th>Editor_reputation</th>\n",
       "      <th>Words_in_Title</th>\n",
       "      <th>Words_in_Title_Description</th>\n",
       "      <th>Accepted_Ans</th>\n",
       "      <th>Tags_Count</th>\n",
       "      <th>title_tag_ratio</th>\n",
       "      <th>Creation_Days</th>\n",
       "      <th>Last_Edit_Days</th>\n",
       "      <th>Last_Activity_Days</th>\n",
       "      <th>Closed_Days</th>\n",
       "    </tr>\n",
       "  </thead>\n",
       "  <tbody>\n",
       "    <tr>\n",
       "      <th>count</th>\n",
       "      <td>2317.000000</td>\n",
       "      <td>2317.000000</td>\n",
       "      <td>2317.000000</td>\n",
       "      <td>2.317000e+03</td>\n",
       "      <td>2317.000000</td>\n",
       "      <td>2317.000000</td>\n",
       "      <td>2317.000000</td>\n",
       "      <td>2317.000000</td>\n",
       "      <td>2317.000000</td>\n",
       "      <td>2317.000000</td>\n",
       "      <td>2317.000000</td>\n",
       "      <td>2317.000000</td>\n",
       "      <td>2317.000000</td>\n",
       "      <td>2317.000000</td>\n",
       "      <td>2317.000000</td>\n",
       "      <td>2317.000000</td>\n",
       "      <td>2317.000000</td>\n",
       "    </tr>\n",
       "    <tr>\n",
       "      <th>mean</th>\n",
       "      <td>2367.786362</td>\n",
       "      <td>9.078981</td>\n",
       "      <td>2.170047</td>\n",
       "      <td>6.222947e+03</td>\n",
       "      <td>4.241692</td>\n",
       "      <td>3.426413</td>\n",
       "      <td>1544.654294</td>\n",
       "      <td>1763.552007</td>\n",
       "      <td>9.478636</td>\n",
       "      <td>179.297799</td>\n",
       "      <td>0.626241</td>\n",
       "      <td>2.788520</td>\n",
       "      <td>32.244359</td>\n",
       "      <td>2873.879586</td>\n",
       "      <td>3111.490721</td>\n",
       "      <td>3089.248597</td>\n",
       "      <td>1643.861027</td>\n",
       "    </tr>\n",
       "    <tr>\n",
       "      <th>std</th>\n",
       "      <td>1391.714004</td>\n",
       "      <td>169.943194</td>\n",
       "      <td>3.586761</td>\n",
       "      <td>5.929682e+04</td>\n",
       "      <td>121.677826</td>\n",
       "      <td>3.350348</td>\n",
       "      <td>15492.049442</td>\n",
       "      <td>5311.521558</td>\n",
       "      <td>4.041569</td>\n",
       "      <td>169.978857</td>\n",
       "      <td>0.483905</td>\n",
       "      <td>1.141987</td>\n",
       "      <td>13.301657</td>\n",
       "      <td>997.114380</td>\n",
       "      <td>885.278909</td>\n",
       "      <td>937.912699</td>\n",
       "      <td>990.184047</td>\n",
       "    </tr>\n",
       "    <tr>\n",
       "      <th>min</th>\n",
       "      <td>1.000000</td>\n",
       "      <td>-18.000000</td>\n",
       "      <td>0.000000</td>\n",
       "      <td>8.000000e+00</td>\n",
       "      <td>0.000000</td>\n",
       "      <td>0.000000</td>\n",
       "      <td>1.000000</td>\n",
       "      <td>1.000000</td>\n",
       "      <td>2.000000</td>\n",
       "      <td>12.000000</td>\n",
       "      <td>0.000000</td>\n",
       "      <td>1.000000</td>\n",
       "      <td>3.600000</td>\n",
       "      <td>54.000000</td>\n",
       "      <td>226.000000</td>\n",
       "      <td>280.000000</td>\n",
       "      <td>15.000000</td>\n",
       "    </tr>\n",
       "    <tr>\n",
       "      <th>25%</th>\n",
       "      <td>1243.000000</td>\n",
       "      <td>0.000000</td>\n",
       "      <td>1.000000</td>\n",
       "      <td>5.800000e+01</td>\n",
       "      <td>0.000000</td>\n",
       "      <td>1.000000</td>\n",
       "      <td>47.000000</td>\n",
       "      <td>43.000000</td>\n",
       "      <td>7.000000</td>\n",
       "      <td>82.000000</td>\n",
       "      <td>0.000000</td>\n",
       "      <td>2.000000</td>\n",
       "      <td>22.470000</td>\n",
       "      <td>2078.000000</td>\n",
       "      <td>2532.000000</td>\n",
       "      <td>2435.000000</td>\n",
       "      <td>853.000000</td>\n",
       "    </tr>\n",
       "    <tr>\n",
       "      <th>50%</th>\n",
       "      <td>2300.000000</td>\n",
       "      <td>0.000000</td>\n",
       "      <td>2.000000</td>\n",
       "      <td>1.220000e+02</td>\n",
       "      <td>0.000000</td>\n",
       "      <td>3.000000</td>\n",
       "      <td>263.000000</td>\n",
       "      <td>493.000000</td>\n",
       "      <td>9.000000</td>\n",
       "      <td>137.000000</td>\n",
       "      <td>1.000000</td>\n",
       "      <td>3.000000</td>\n",
       "      <td>31.170000</td>\n",
       "      <td>2933.000000</td>\n",
       "      <td>3220.000000</td>\n",
       "      <td>3158.000000</td>\n",
       "      <td>1578.000000</td>\n",
       "    </tr>\n",
       "    <tr>\n",
       "      <th>75%</th>\n",
       "      <td>3559.000000</td>\n",
       "      <td>2.000000</td>\n",
       "      <td>3.000000</td>\n",
       "      <td>5.960000e+02</td>\n",
       "      <td>0.000000</td>\n",
       "      <td>5.000000</td>\n",
       "      <td>986.000000</td>\n",
       "      <td>1917.000000</td>\n",
       "      <td>11.000000</td>\n",
       "      <td>219.000000</td>\n",
       "      <td>1.000000</td>\n",
       "      <td>4.000000</td>\n",
       "      <td>41.030000</td>\n",
       "      <td>3667.000000</td>\n",
       "      <td>3798.000000</td>\n",
       "      <td>3895.000000</td>\n",
       "      <td>2417.000000</td>\n",
       "    </tr>\n",
       "    <tr>\n",
       "      <th>max</th>\n",
       "      <td>4866.000000</td>\n",
       "      <td>7633.000000</td>\n",
       "      <td>97.000000</td>\n",
       "      <td>1.680785e+06</td>\n",
       "      <td>5799.000000</td>\n",
       "      <td>26.000000</td>\n",
       "      <td>498845.000000</td>\n",
       "      <td>133606.000000</td>\n",
       "      <td>30.000000</td>\n",
       "      <td>2476.000000</td>\n",
       "      <td>1.000000</td>\n",
       "      <td>5.000000</td>\n",
       "      <td>80.000000</td>\n",
       "      <td>4512.000000</td>\n",
       "      <td>4512.000000</td>\n",
       "      <td>4512.000000</td>\n",
       "      <td>4473.000000</td>\n",
       "    </tr>\n",
       "  </tbody>\n",
       "</table>\n",
       "</div>"
      ],
      "text/plain": [
       "        Unnamed: 0        Score  AnswerCount     ViewCount  FavoriteCount  \\\n",
       "count  2317.000000  2317.000000  2317.000000  2.317000e+03    2317.000000   \n",
       "mean   2367.786362     9.078981     2.170047  6.222947e+03       4.241692   \n",
       "std    1391.714004   169.943194     3.586761  5.929682e+04     121.677826   \n",
       "min       1.000000   -18.000000     0.000000  8.000000e+00       0.000000   \n",
       "25%    1243.000000     0.000000     1.000000  5.800000e+01       0.000000   \n",
       "50%    2300.000000     0.000000     2.000000  1.220000e+02       0.000000   \n",
       "75%    3559.000000     2.000000     3.000000  5.960000e+02       0.000000   \n",
       "max    4866.000000  7633.000000    97.000000  1.680785e+06    5799.000000   \n",
       "\n",
       "       CommentCount  Auth_reputation  Editor_reputation  Words_in_Title  \\\n",
       "count   2317.000000      2317.000000        2317.000000     2317.000000   \n",
       "mean       3.426413      1544.654294        1763.552007        9.478636   \n",
       "std        3.350348     15492.049442        5311.521558        4.041569   \n",
       "min        0.000000         1.000000           1.000000        2.000000   \n",
       "25%        1.000000        47.000000          43.000000        7.000000   \n",
       "50%        3.000000       263.000000         493.000000        9.000000   \n",
       "75%        5.000000       986.000000        1917.000000       11.000000   \n",
       "max       26.000000    498845.000000      133606.000000       30.000000   \n",
       "\n",
       "       Words_in_Title_Description  Accepted_Ans   Tags_Count  title_tag_ratio  \\\n",
       "count                 2317.000000   2317.000000  2317.000000      2317.000000   \n",
       "mean                   179.297799      0.626241     2.788520        32.244359   \n",
       "std                    169.978857      0.483905     1.141987        13.301657   \n",
       "min                     12.000000      0.000000     1.000000         3.600000   \n",
       "25%                     82.000000      0.000000     2.000000        22.470000   \n",
       "50%                    137.000000      1.000000     3.000000        31.170000   \n",
       "75%                    219.000000      1.000000     4.000000        41.030000   \n",
       "max                   2476.000000      1.000000     5.000000        80.000000   \n",
       "\n",
       "       Creation_Days  Last_Edit_Days  Last_Activity_Days  Closed_Days  \n",
       "count    2317.000000     2317.000000         2317.000000  2317.000000  \n",
       "mean     2873.879586     3111.490721         3089.248597  1643.861027  \n",
       "std       997.114380      885.278909          937.912699   990.184047  \n",
       "min        54.000000      226.000000          280.000000    15.000000  \n",
       "25%      2078.000000     2532.000000         2435.000000   853.000000  \n",
       "50%      2933.000000     3220.000000         3158.000000  1578.000000  \n",
       "75%      3667.000000     3798.000000         3895.000000  2417.000000  \n",
       "max      4512.000000     4512.000000         4512.000000  4473.000000  "
      ]
     },
     "execution_count": 6,
     "metadata": {},
     "output_type": "execute_result"
    }
   ],
   "source": [
    "df_high.describe()"
   ]
  },
  {
   "cell_type": "code",
   "execution_count": 16,
   "id": "6d7a7652",
   "metadata": {},
   "outputs": [
    {
     "data": {
      "text/plain": [
       "(1.4704316015855183, 0.14150955389894504, 4866.0)"
      ]
     },
     "execution_count": 16,
     "metadata": {},
     "output_type": "execute_result"
    }
   ],
   "source": [
    "high_score  = df_high[\"Score\"]\n",
    "low_score  = df_low[\"Score\"]\n",
    "\n",
    "ttest = ttest_ind(high_score,low_score)\n",
    "ttest"
   ]
  },
  {
   "cell_type": "code",
   "execution_count": 17,
   "id": "3fba5a66",
   "metadata": {},
   "outputs": [
    {
     "data": {
      "text/plain": [
       "(-0.3530248309807448, 0.7240851164737954, 4866.0)"
      ]
     },
     "execution_count": 17,
     "metadata": {},
     "output_type": "execute_result"
    }
   ],
   "source": [
    "high_score  = df_high[\"AnswerCount\"]\n",
    "low_score  = df_low[\"AnswerCount\"]\n",
    "\n",
    "ttest = ttest_ind(high_score,low_score)\n",
    "ttest"
   ]
  },
  {
   "cell_type": "code",
   "execution_count": 18,
   "id": "f2beb438",
   "metadata": {},
   "outputs": [
    {
     "data": {
      "text/plain": [
       "(3.450084410870172, 0.0005651719095948268, 4866.0)"
      ]
     },
     "execution_count": 18,
     "metadata": {},
     "output_type": "execute_result"
    }
   ],
   "source": [
    "high_score  = df_high[\"ViewCount\"]\n",
    "low_score  = df_low[\"ViewCount\"]\n",
    "\n",
    "ttest = ttest_ind(high_score,low_score)\n",
    "ttest"
   ]
  },
  {
   "cell_type": "code",
   "execution_count": 19,
   "id": "d920efb7",
   "metadata": {},
   "outputs": [
    {
     "data": {
      "text/plain": [
       "(1.2125660204437088, 0.22535465312026173, 4866.0)"
      ]
     },
     "execution_count": 19,
     "metadata": {},
     "output_type": "execute_result"
    }
   ],
   "source": [
    "high_score  = df_high[\"FavoriteCount\"]\n",
    "low_score  = df_low[\"FavoriteCount\"]\n",
    "\n",
    "ttest = ttest_ind(high_score,low_score)\n",
    "ttest"
   ]
  },
  {
   "cell_type": "code",
   "execution_count": 20,
   "id": "3655f4f9",
   "metadata": {},
   "outputs": [
    {
     "data": {
      "text/plain": [
       "(6.793899159443206, 1.2225422670842485e-11, 4866.0)"
      ]
     },
     "execution_count": 20,
     "metadata": {},
     "output_type": "execute_result"
    }
   ],
   "source": [
    "    high_score  = df_high[\"CommentCount\"]\n",
    "low_score  = df_low[\"CommentCount\"]\n",
    "\n",
    "ttest = ttest_ind(high_score,low_score)\n",
    "ttest"
   ]
  },
  {
   "cell_type": "code",
   "execution_count": 21,
   "id": "0049a4f4",
   "metadata": {},
   "outputs": [
    {
     "data": {
      "text/plain": [
       "(-11.641446699442088, 6.494968780604629e-31, 4866.0)"
      ]
     },
     "execution_count": 21,
     "metadata": {},
     "output_type": "execute_result"
    }
   ],
   "source": [
    "high_score  = df_high[\"Auth_reputation\"]\n",
    "low_score  = df_low[\"Auth_reputation\"]\n",
    "\n",
    "ttest = ttest_ind(high_score,low_score)\n",
    "ttest"
   ]
  },
  {
   "cell_type": "code",
   "execution_count": 22,
   "id": "86f53a1c",
   "metadata": {},
   "outputs": [
    {
     "data": {
      "text/plain": [
       "(-27.658198387972227, 1.6251430910920618e-156, 4866.0)"
      ]
     },
     "execution_count": 22,
     "metadata": {},
     "output_type": "execute_result"
    }
   ],
   "source": [
    "high_score  = df_high[\"Editor_reputation\"]\n",
    "low_score  = df_low[\"Editor_reputation\"]\n",
    "\n",
    "ttest = ttest_ind(high_score,low_score)\n",
    "ttest"
   ]
  },
  {
   "cell_type": "code",
   "execution_count": 23,
   "id": "df74d988",
   "metadata": {},
   "outputs": [
    {
     "data": {
      "text/plain": [
       "(4.197642214912497, 2.745204854240118e-05, 4866.0)"
      ]
     },
     "execution_count": 23,
     "metadata": {},
     "output_type": "execute_result"
    }
   ],
   "source": [
    "high_score  = df_high[\"Words_in_Title\"]\n",
    "low_score  = df_low[\"Words_in_Title\"]\n",
    "\n",
    "ttest = ttest_ind(high_score,low_score)\n",
    "ttest"
   ]
  },
  {
   "cell_type": "code",
   "execution_count": 24,
   "id": "11a8f781",
   "metadata": {},
   "outputs": [
    {
     "data": {
      "text/plain": [
       "(7.676201744378479, 1.967694493544003e-14, 4866.0)"
      ]
     },
     "execution_count": 24,
     "metadata": {},
     "output_type": "execute_result"
    }
   ],
   "source": [
    "high_score  = df_high[\"Words_in_Title_Description\"]\n",
    "low_score  = df_low[\"Words_in_Title_Description\"]\n",
    "\n",
    "ttest = ttest_ind(high_score,low_score)\n",
    "ttest"
   ]
  },
  {
   "cell_type": "code",
   "execution_count": 26,
   "id": "6cba528b",
   "metadata": {},
   "outputs": [
    {
     "data": {
      "text/plain": [
       "(-2.4212841893267787, 0.015502120073607665, 4866.0)"
      ]
     },
     "execution_count": 26,
     "metadata": {},
     "output_type": "execute_result"
    }
   ],
   "source": [
    "high_score  = df_high[\"title_tag_ratio\"]\n",
    "low_score  = df_low[\"title_tag_ratio\"]\n",
    "\n",
    "ttest = ttest_ind(high_score,low_score)\n",
    "ttest"
   ]
  },
  {
   "cell_type": "code",
   "execution_count": 27,
   "id": "ea32a2d4",
   "metadata": {},
   "outputs": [
    {
     "data": {
      "text/plain": [
       "(21.602149332685578, 6.653207488890173e-99, 4866.0)"
      ]
     },
     "execution_count": 27,
     "metadata": {},
     "output_type": "execute_result"
    }
   ],
   "source": [
    "high_score  = df_high[\"Creation_Days\"]\n",
    "low_score  = df_low[\"Creation_Days\"]\n",
    "\n",
    "ttest = ttest_ind(high_score,low_score)\n",
    "ttest"
   ]
  },
  {
   "cell_type": "code",
   "execution_count": 28,
   "id": "5a432071",
   "metadata": {},
   "outputs": [
    {
     "data": {
      "text/plain": [
       "(24.56396404444348, 1.0495773418483097e-125, 4866.0)"
      ]
     },
     "execution_count": 28,
     "metadata": {},
     "output_type": "execute_result"
    }
   ],
   "source": [
    "high_score  = df_high[\"Last_Edit_Days\"]\n",
    "low_score  = df_low[\"Last_Edit_Days\"]\n",
    "\n",
    "ttest = ttest_ind(high_score,low_score)\n",
    "ttest"
   ]
  },
  {
   "cell_type": "code",
   "execution_count": 29,
   "id": "2a61bed0",
   "metadata": {},
   "outputs": [
    {
     "data": {
      "text/plain": [
       "(20.684057909824315, 3.638018273999842e-91, 4866.0)"
      ]
     },
     "execution_count": 29,
     "metadata": {},
     "output_type": "execute_result"
    }
   ],
   "source": [
    "high_score  = df_high[\"Last_Activity_Days\"]\n",
    "low_score  = df_low[\"Last_Activity_Days\"]\n",
    "\n",
    "ttest = ttest_ind(high_score,low_score)\n",
    "ttest"
   ]
  },
  {
   "cell_type": "code",
   "execution_count": 30,
   "id": "a8943764",
   "metadata": {},
   "outputs": [
    {
     "data": {
      "text/plain": [
       "(-21.358611945461544, 7.991826081412619e-97, 4866.0)"
      ]
     },
     "execution_count": 30,
     "metadata": {},
     "output_type": "execute_result"
    }
   ],
   "source": [
    "high_score  = df_high[\"Closed_Days\"]\n",
    "low_score  = df_low[\"Closed_Days\"]\n",
    "\n",
    "ttest = ttest_ind(high_score,low_score)\n",
    "ttest"
   ]
  }
 ],
 "metadata": {
  "kernelspec": {
   "display_name": "Python 3",
   "language": "python",
   "name": "python3"
  },
  "language_info": {
   "codemirror_mode": {
    "name": "ipython",
    "version": 3
   },
   "file_extension": ".py",
   "mimetype": "text/x-python",
   "name": "python",
   "nbconvert_exporter": "python",
   "pygments_lexer": "ipython3",
   "version": "3.9.4"
  }
 },
 "nbformat": 4,
 "nbformat_minor": 5
}
