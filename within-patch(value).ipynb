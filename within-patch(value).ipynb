{
 "cells": [
  {
   "cell_type": "code",
   "execution_count": 1,
   "id": "7350c04d",
   "metadata": {},
   "outputs": [],
   "source": [
    "import numpy as np\n",
    "import pandas as pd\n",
    "import matplotlib.pyplot as plt\n",
    "import re\n",
    "from datetime import datetime, time\n",
    "import scipy.cluster.hierarchy as sch\n",
    "from sklearn.cluster import AgglomerativeClustering\n",
    "from sklearn.metrics import silhouette_score\n",
    "from difflib import SequenceMatcher\n",
    "from sklearn.preprocessing import normalize\n",
    "from sklearn.linear_model import LogisticRegression\n",
    "import seaborn as sns\n",
    "from sklearn.metrics import confusion_matrix\n",
    "from sklearn.metrics import accuracy_score\n",
    "from sklearn.metrics import recall_score\n",
    "from sklearn.metrics import precision_score\n",
    "from sklearn.preprocessing import MinMaxScaler\n",
    "import statsmodels.api as sm\n",
    "import statsmodels.formula.api as smf\n",
    "from sklearn.model_selection import train_test_split\n",
    "from sklearn.metrics import roc_curve\n",
    "from sklearn.metrics import auc\n",
    "from statsmodels.regression.linear_model import OLSResults\n",
    "import math"
   ]
  },
  {
   "cell_type": "code",
   "execution_count": 2,
   "id": "dd4a97ce",
   "metadata": {},
   "outputs": [],
   "source": [
    "df = pd.read_csv(\"within-patch.csv\")\n",
    "pd.set_option('display.max_columns', None)"
   ]
  },
  {
   "cell_type": "markdown",
   "id": "64c6f698",
   "metadata": {},
   "source": [
    "## Replacing Nan with 0"
   ]
  },
  {
   "cell_type": "code",
   "execution_count": 5,
   "id": "ab18d586",
   "metadata": {},
   "outputs": [],
   "source": [
    "df['AcceptedAnswerId'] = df['AcceptedAnswerId'].replace(np.nan, 0)\n",
    "df['Ans_lastEditDate'] = df['Ans_lastEditDate'].replace(np.nan, 0)"
   ]
  },
  {
   "cell_type": "code",
   "execution_count": 6,
   "id": "f434a637",
   "metadata": {},
   "outputs": [],
   "source": [
    "p = re.compile(r'<.*?>')\n",
    "\n",
    "for ind, row in df.iterrows():\n",
    "    title_count = p.sub('',  df.loc[ind, \"Ans_Body\"])\n",
    "    df.loc[ind, \"Words_in_Answer_Text\"] = len(re.findall(r'\\w+',title_count))"
   ]
  },
  {
   "cell_type": "code",
   "execution_count": 7,
   "id": "22441f9e",
   "metadata": {},
   "outputs": [],
   "source": [
    "for ind, row in df.iterrows():\n",
    "    if(df.loc[ind,\"AcceptedAnswerId\"]==df.loc[ind,\"Ans_Id\"]):\n",
    "        df.loc[ind, \"Accepted_Ans\"] = df.loc[ind, \"Ans_Score\"]*2\n",
    "    else:\n",
    "        df.loc[ind, \"Accepted_Ans\"] = df.loc[ind, \"Ans_Score\"]*1.5"
   ]
  },
  {
   "cell_type": "code",
   "execution_count": 8,
   "id": "9905ac55",
   "metadata": {},
   "outputs": [],
   "source": [
    "substring = \"<code>\"\n",
    "\n",
    "for ind, row in df.iterrows():\n",
    "    if(substring in df.loc[ind,\"Ans_Body\"]):\n",
    "        df.loc[ind, \"Code_Snippet\"] = 1\n",
    "    else:\n",
    "        df.loc[ind, \"Code_Snippet\"] = 0"
   ]
  },
  {
   "cell_type": "code",
   "execution_count": 12,
   "id": "181626e7",
   "metadata": {},
   "outputs": [],
   "source": [
    "p = re.compile(r'<.*?>')\n",
    "\n",
    "for ind, row in df.iterrows():\n",
    "    title_text = p.sub('',  df.loc[ind, \"Title_Body\"])\n",
    "    answer_text = p.sub('',  df.loc[ind, \"Ans_Body\"])\n",
    "    question = re.findall(r'\\w+',title_text)\n",
    "    answer = re.findall(r'\\w+',answer_text)\n",
    "    df.loc[ind, \"description_answer_ratio\"] = math.ceil(SequenceMatcher(None, title_text,answer_text).ratio())"
   ]
  },
  {
   "cell_type": "markdown",
   "id": "6732f0f1",
   "metadata": {},
   "source": [
    "## Text Similarity [Title and Answer Text]"
   ]
  },
  {
   "cell_type": "code",
   "execution_count": 13,
   "id": "0ed80982",
   "metadata": {},
   "outputs": [],
   "source": [
    "p = re.compile(r'<.*?>')\n",
    "\n",
    "for ind, row in df.iterrows():\n",
    "    title_text = p.sub('',  df.loc[ind, \"Title\"])\n",
    "    answer_text = p.sub('',  df.loc[ind, \"Ans_Body\"])\n",
    "    question = re.findall(r'\\w+',title_text)\n",
    "    answer = re.findall(r'\\w+',answer_text)\n",
    "    df.loc[ind, \"que_answer_ratio\"] = math.ceil(SequenceMatcher(None, title_text,answer_text).ratio()*100)"
   ]
  },
  {
   "cell_type": "markdown",
   "id": "be9f38a5",
   "metadata": {},
   "source": [
    "## Creation Days"
   ]
  },
  {
   "cell_type": "code",
   "execution_count": 14,
   "id": "5836d86c",
   "metadata": {},
   "outputs": [],
   "source": [
    "for ind, row in df.iterrows():\n",
    "    def date_diff_in_seconds(dt2, dt1):\n",
    "        timedelta = dt2 - dt1\n",
    "        return timedelta.days * 24 * 3600 + timedelta.seconds\n",
    "\n",
    "    def dhms_from_seconds(seconds):\n",
    "        minutes, seconds = divmod(seconds, 60)\n",
    "        hours, minutes = divmod(minutes, 60)\n",
    "        days, hours = divmod(hours, 24)\n",
    "        return (days)\n",
    "    \n",
    "    #Dates\n",
    "    creation_date = datetime.strptime(df.loc[ind,\"CreationDate\"], '%Y-%m-%dT%H:%M:%S')\n",
    "    answer_creation_date = datetime.strptime(df.loc[ind,\"Ans_creationDate\"], '%Y-%m-%dT%H:%M:%S')\n",
    "   \n",
    "\n",
    "    #Data dump date\n",
    "    dump_date = datetime.strptime('2020-12-21 01:00:00', '%Y-%m-%d %H:%M:%S')\n",
    "    \n",
    "    ##Difference\n",
    "    creation_days = dhms_from_seconds(date_diff_in_seconds(dump_date, creation_date))\n",
    "    answer_creation_days = dhms_from_seconds(date_diff_in_seconds(dump_date, answer_creation_date))\n",
    "    \n",
    "    ##New Colunmns\n",
    "    df.loc[ind,\"Answer_Creation_Days\"] = creation_days - answer_creation_days  \n"
   ]
  },
  {
   "cell_type": "markdown",
   "id": "8d315da2",
   "metadata": {},
   "source": [
    "## Answer Last Edit Days"
   ]
  },
  {
   "cell_type": "code",
   "execution_count": 15,
   "id": "fdc88caf",
   "metadata": {},
   "outputs": [],
   "source": [
    "for ind, row in df.iterrows():\n",
    "    def date_diff_in_seconds(dt2, dt1):\n",
    "        timedelta = dt2 - dt1\n",
    "        return timedelta.days * 24 * 3600 + timedelta.seconds\n",
    "\n",
    "    def dhms_from_seconds(seconds):\n",
    "        minutes, seconds = divmod(seconds, 60)\n",
    "        hours, minutes = divmod(minutes, 60)\n",
    "        days, hours = divmod(hours, 24)\n",
    "        return (days)\n",
    "    \n",
    "    answer_creation_date = datetime.strptime(df.loc[ind,\"Ans_creationDate\"], '%Y-%m-%dT%H:%M:%S')\n",
    "    answer_creation_date = datetime.strptime(df.loc[ind,\"Ans_creationDate\"], '%Y-%m-%dT%H:%M:%S')\n",
    "    \n",
    "    #Data dump date\n",
    "    dump_date = datetime.strptime('2020-12-21 01:00:00', '%Y-%m-%d %H:%M:%S')\n",
    "    ##Difference\n",
    "    creation_days = dhms_from_seconds(date_diff_in_seconds(dump_date, creation_date))\n",
    "    answer_creation_days = dhms_from_seconds(date_diff_in_seconds(dump_date, answer_creation_date))\n",
    "    \n",
    "    #Dates\n",
    "    if(df.loc[ind,\"Ans_lastEditDate\"]==0):\n",
    "        df.loc[ind,\"Answer_Last_Edit_Days\"] = answer_creation_days  \n",
    "        \n",
    "    else:\n",
    "        answer_last_edit_date = datetime.strptime(df.loc[ind,\"Ans_lastEditDate\"], '%Y-%m-%dT%H:%M:%S')\n",
    "        #Data dump date\n",
    "        dump_date = datetime.strptime('2020-12-21 01:00:00', '%Y-%m-%d %H:%M:%S')\n",
    "        ##Difference\n",
    "        answer_last_edit_days = dhms_from_seconds(date_diff_in_seconds(dump_date, answer_last_edit_date))\n",
    "        ##New Colunmns\n",
    "        df.loc[ind,\"Answer_Last_Edit_Days\"] = creation_days - answer_last_edit_days           "
   ]
  },
  {
   "cell_type": "code",
   "execution_count": 16,
   "id": "2f51e00f",
   "metadata": {},
   "outputs": [],
   "source": [
    "df['Words_in_Answer_Text'] = df['Words_in_Answer_Text'].astype(int)\n",
    "df['Accepted_Ans'] = df['Accepted_Ans'].astype(int)\n",
    "df['Code_Snippet'] = df['Code_Snippet'].astype(int)\n",
    "df['Answer_Creation_Days'] = df['Answer_Creation_Days'].astype(int)\n",
    "df['Answer_Last_Edit_Days'] = df['Answer_Last_Edit_Days'].astype(int)\n",
    "df['description_answer_ratio'] = df['description_answer_ratio'].astype(int)\n",
    "df['que_answer_ratio'] = df['que_answer_ratio'].astype(int)"
   ]
  },
  {
   "cell_type": "code",
   "execution_count": 17,
   "id": "9003c468",
   "metadata": {},
   "outputs": [],
   "source": [
    "df.drop(['Id', 'Score','Title', 'Title_Body', 'CreationDate','AcceptedAnswerId', 'Ans_Id','Ans_Body','Ans_creationDate', 'Ans_lastEditDate'], axis=1, inplace=True)"
   ]
  },
  {
   "cell_type": "code",
   "execution_count": 18,
   "id": "6f543fe9",
   "metadata": {},
   "outputs": [],
   "source": [
    "data_scaled = normalize(df)"
   ]
  },
  {
   "cell_type": "code",
   "execution_count": 19,
   "id": "bded833e",
   "metadata": {},
   "outputs": [
    {
     "data": {
      "text/plain": [
       "AgglomerativeClustering()"
      ]
     },
     "execution_count": 19,
     "metadata": {},
     "output_type": "execute_result"
    }
   ],
   "source": [
    "hc = AgglomerativeClustering(n_clusters=2,affinity=\"euclidean\",linkage=\"ward\")\n",
    "hc.fit(data_scaled)"
   ]
  },
  {
   "cell_type": "code",
   "execution_count": 20,
   "id": "4ced6d3a",
   "metadata": {},
   "outputs": [
    {
     "data": {
      "text/plain": [
       "array([0, 0, 1, ..., 0, 1, 0], dtype=int64)"
      ]
     },
     "execution_count": 20,
     "metadata": {},
     "output_type": "execute_result"
    }
   ],
   "source": [
    "membership = hc.labels_\n",
    "membership"
   ]
  },
  {
   "cell_type": "code",
   "execution_count": null,
   "id": "017f725b",
   "metadata": {},
   "outputs": [],
   "source": [
    "dendrogram = sch.dendrogram(sch.linkage(data_scaled,method='ward'))"
   ]
  },
  {
   "cell_type": "code",
   "execution_count": 21,
   "id": "627cb2c5",
   "metadata": {},
   "outputs": [],
   "source": [
    "df_0 = df[hc.labels_==0]"
   ]
  },
  {
   "cell_type": "code",
   "execution_count": 22,
   "id": "d934d172",
   "metadata": {},
   "outputs": [],
   "source": [
    "df_1 = df[hc.labels_==1]"
   ]
  },
  {
   "cell_type": "code",
   "execution_count": 24,
   "id": "cff0d713",
   "metadata": {},
   "outputs": [],
   "source": [
    "df_1.to_csv('within_value_high.csv')"
   ]
  },
  {
   "cell_type": "code",
   "execution_count": 23,
   "id": "787876ab",
   "metadata": {},
   "outputs": [],
   "source": [
    "df_0.to_csv('within_value_low.csv')"
   ]
  },
  {
   "cell_type": "code",
   "execution_count": 76,
   "id": "dab90e05",
   "metadata": {},
   "outputs": [
    {
     "data": {
      "text/plain": [
       "0.5053097082657437"
      ]
     },
     "execution_count": 76,
     "metadata": {},
     "output_type": "execute_result"
    }
   ],
   "source": [
    "silhouette_score(data_scaled,membership)"
   ]
  },
  {
   "cell_type": "code",
   "execution_count": 77,
   "id": "ea4d1f05",
   "metadata": {},
   "outputs": [],
   "source": [
    "df.loc[:,\"Category\"]=0\n",
    "df.loc[hc.labels_==1, \"Category\"] = 1"
   ]
  },
  {
   "cell_type": "code",
   "execution_count": 78,
   "id": "fda4bd05",
   "metadata": {},
   "outputs": [],
   "source": [
    "from sklearn.linear_model import LogisticRegression\n",
    "import matplotlib.pyplot as plt\n",
    "import seaborn as sns\n",
    "from sklearn.metrics import confusion_matrix\n",
    "from sklearn.metrics import accuracy_score\n",
    "from sklearn.metrics import recall_score\n",
    "from sklearn.metrics import precision_score\n",
    "from sklearn.preprocessing import MinMaxScaler\n",
    "import statsmodels.api as sm\n",
    "import statsmodels.formula.api as smf\n",
    "from sklearn.model_selection import train_test_split\n",
    "from sklearn.metrics import roc_curve\n",
    "from sklearn.metrics import auc\n",
    "from statsmodels.regression.linear_model import OLSResults"
   ]
  },
  {
   "cell_type": "code",
   "execution_count": 94,
   "id": "ddeb2ab4",
   "metadata": {},
   "outputs": [],
   "source": [
    "feature_names = ['Ans_Score','Ans_CommentCount','Words_in_Answer_Text','Accepted_Ans','Answer_Creation_Days','Answer_Last_Edit_Days']\n",
    "nrm_feature_names = [f\"Nrm_{i}\" for i in feature_names]"
   ]
  },
  {
   "cell_type": "code",
   "execution_count": 95,
   "id": "01c8615d",
   "metadata": {},
   "outputs": [],
   "source": [
    "scaler = MinMaxScaler()\n",
    "features = df[feature_names]\n",
    "nrm_feature_names = [f\"Nrm_{i}\" for i in feature_names]\n",
    "scaler.fit(features)\n",
    "for i in nrm_feature_names:\n",
    "    df[i] = 0\n",
    "df[nrm_feature_names] = scaler.transform(features)"
   ]
  },
  {
   "cell_type": "code",
   "execution_count": 99,
   "id": "ff92bab4",
   "metadata": {},
   "outputs": [],
   "source": [
    "X_train, X_test, y_train, y_test = train_test_split(df[nrm_feature_names], df[\"Category\"], test_size=0.3, random_state=62)"
   ]
  },
  {
   "cell_type": "code",
   "execution_count": 100,
   "id": "6deec16f",
   "metadata": {},
   "outputs": [
    {
     "name": "stdout",
     "output_type": "stream",
     "text": [
      "Optimization terminated successfully.\n",
      "         Current function value: 0.533088\n",
      "         Iterations 8\n"
     ]
    }
   ],
   "source": [
    "lm_cluster_value = sm.Logit(y_train, X_train).fit()"
   ]
  },
  {
   "cell_type": "code",
   "execution_count": 101,
   "id": "3c092da2",
   "metadata": {},
   "outputs": [
    {
     "name": "stdout",
     "output_type": "stream",
     "text": [
      "                           Logit Regression Results                           \n",
      "==============================================================================\n",
      "Dep. Variable:               Category   No. Observations:                 3033\n",
      "Model:                          Logit   Df Residuals:                     3027\n",
      "Method:                           MLE   Df Model:                            5\n",
      "Date:                Sun, 05 Dec 2021   Pseudo R-squ.:                  0.1534\n",
      "Time:                        15:09:25   Log-Likelihood:                -1616.9\n",
      "converged:                       True   LL-Null:                       -1909.8\n",
      "Covariance Type:            nonrobust   LLR p-value:                2.220e-124\n",
      "=============================================================================================\n",
      "                                coef    std err          z      P>|z|      [0.025      0.975]\n",
      "---------------------------------------------------------------------------------------------\n",
      "Nrm_Ans_Score                53.6032     20.647      2.596      0.009      13.137      94.070\n",
      "Nrm_Ans_CommentCount          3.9365      0.746      5.280      0.000       2.475       5.398\n",
      "Nrm_Words_in_Answer_Text      5.3104      0.924      5.749      0.000       3.500       7.121\n",
      "Nrm_Accepted_Ans            -50.9760     21.403     -2.382      0.017     -92.926      -9.026\n",
      "Nrm_Answer_Creation_Days     -2.9157      0.144    -20.190      0.000      -3.199      -2.633\n",
      "Nrm_Answer_Last_Edit_Days     0.1043      0.116      0.898      0.369      -0.123       0.332\n",
      "=============================================================================================\n"
     ]
    }
   ],
   "source": [
    "print(lm_cluster_value.summary())"
   ]
  },
  {
   "cell_type": "code",
   "execution_count": 102,
   "id": "19bdf290",
   "metadata": {},
   "outputs": [],
   "source": [
    "y_pred = [1 if i else 0 for i in lm_cluster_value.predict(X_test)>0.5]"
   ]
  },
  {
   "cell_type": "code",
   "execution_count": 103,
   "id": "91f7601c",
   "metadata": {},
   "outputs": [],
   "source": [
    "data_summary = {}"
   ]
  },
  {
   "cell_type": "code",
   "execution_count": 104,
   "id": "284e8eda",
   "metadata": {},
   "outputs": [
    {
     "name": "stdout",
     "output_type": "stream",
     "text": [
      "Confusion Matrix: \n",
      "[[833  67]\n",
      " [242 159]]\n",
      "Accuracy: 0.7624903920061491\n",
      "Precision: 0.7035398230088495\n",
      "Recall: 0.39650872817955113\n"
     ]
    },
    {
     "data": {
      "image/png": "[encoded data removed]",
      "text/plain": [
       "<Figure size 432x288 with 1 Axes>"
      ]
     },
     "metadata": {
      "needs_background": "light"
     },
     "output_type": "display_data"
    }
   ],
   "source": [
    "print(f\"Confusion Matrix: \\n{confusion_matrix(y_test, y_pred)}\")\n",
    "print(f\"Accuracy: {accuracy_score(y_test, y_pred)}\")\n",
    "print(f\"Precision: {precision_score(y_test, y_pred)}\")\n",
    "print(f\"Recall: {recall_score(y_test, y_pred)}\")\n",
    "fpr, tpr, thresholds = roc_curve(y_test, lm_cluster_value.predict(X_test), pos_label=1)\n",
    "roc_auc = auc(fpr, tpr)\n",
    "plt.title('Receiver Operating Characteristic')\n",
    "plt.plot(fpr, tpr, 'b', label = f'AUC(greater is better) = {round(roc_auc, 5)}')\n",
    "plt.legend(loc = 'lower right')\n",
    "plt.plot([0, 1], [0, 1],'r--')\n",
    "plt.xlim([0, 1])\n",
    "plt.ylim([0, 1])\n",
    "plt.ylabel('True Positive Rate')\n",
    "plt.xlabel('False Positive Rate')\n",
    "plt.show()\n",
    "\n",
    "data_summary[\"Exetrems_Model_Testing_Dataset\"] = {}\n",
    "data_summary[\"Exetrems_Model_Testing_Dataset\"][\"Accuracy\"] = accuracy_score(y_test, y_pred)\n",
    "data_summary[\"Exetrems_Model_Testing_Dataset\"][\"Precision\"] = precision_score(y_test, y_pred)\n",
    "data_summary[\"Exetrems_Model_Testing_Dataset\"][\"Recall\"] = recall_score(y_test, y_pred)\n",
    "data_summary[\"Exetrems_Model_Testing_Dataset\"][\"AUC\"] = auc(fpr, tpr)"
   ]
  },
  {
   "cell_type": "code",
   "execution_count": 105,
   "id": "2dc289c7",
   "metadata": {},
   "outputs": [
    {
     "name": "stdout",
     "output_type": "stream",
     "text": [
      "Confusion Matrix: \n",
      "[[1895  156]\n",
      " [ 584  398]]\n",
      "Accuracy: 0.7560171447411803\n",
      "Precision: 0.7184115523465704\n",
      "Recall: 0.40529531568228105\n"
     ]
    },
    {
     "data": {
      "image/png": "[encoded data removed]",
      "text/plain": [
       "<Figure size 432x288 with 1 Axes>"
      ]
     },
     "metadata": {
      "needs_background": "light"
     },
     "output_type": "display_data"
    }
   ],
   "source": [
    "y_pred = [1 if i else 0 for i in lm_cluster_value.predict(X_train)>0.5]\n",
    "print(f\"Confusion Matrix: \\n{confusion_matrix(y_train, y_pred)}\")\n",
    "print(f\"Accuracy: {accuracy_score(y_train, y_pred)}\")\n",
    "print(f\"Precision: {precision_score(y_train, y_pred)}\")\n",
    "print(f\"Recall: {recall_score(y_train, y_pred)}\")\n",
    "fpr, tpr, thresholds = roc_curve(y_train, lm_cluster_value.predict(X_train), pos_label=1)\n",
    "roc_auc = auc(fpr, tpr)\n",
    "plt.title('Receiver Operating Characteristic')\n",
    "plt.plot(fpr, tpr, 'b', label = f'AUC(greater is better) = {round(roc_auc, 5)}')\n",
    "plt.legend(loc = 'lower right')\n",
    "plt.plot([0, 1], [0, 1],'r--')\n",
    "plt.xlim([0, 1])\n",
    "plt.ylim([0, 1])\n",
    "plt.ylabel('True Positive Rate')\n",
    "plt.xlabel('False Positive Rate')\n",
    "plt.show()\n",
    "\n",
    "data_summary[\"Exetrems_Model_Training_Dataset\"] = {}\n",
    "data_summary[\"Exetrems_Model_Training_Dataset\"][\"Accuracy\"] = accuracy_score(y_train, y_pred)\n",
    "data_summary[\"Exetrems_Model_Training_Dataset\"][\"Precision\"] = precision_score(y_train, y_pred)\n",
    "data_summary[\"Exetrems_Model_Training_Dataset\"][\"Recall\"] = recall_score(y_train, y_train)\n",
    "data_summary[\"Exetrems_Model_Training_Dataset\"][\"AUC\"] = auc(fpr, tpr)"
   ]
  },
  {
   "cell_type": "code",
   "execution_count": 106,
   "id": "27f0dd7c",
   "metadata": {},
   "outputs": [],
   "source": [
    "df_python = pd.read_csv('within-python.csv')"
   ]
  },
  {
   "cell_type": "code",
   "execution_count": 111,
   "id": "1c431a01",
   "metadata": {},
   "outputs": [
    {
     "name": "stdout",
     "output_type": "stream",
     "text": [
      "Confusion Matrix: \n",
      "[[ 1725  4217]\n",
      " [  766 13292]]\n",
      "Accuracy: 0.75085\n",
      "Precision: 0.7591524358901136\n",
      "Recall: 0.945511452553706\n"
     ]
    },
    {
     "name": "stderr",
     "output_type": "stream",
     "text": [
      "c:\\users\\abim\\appdata\\local\\programs\\python\\python39\\lib\\site-packages\\statsmodels\\discrete\\discrete_model.py:1810: RuntimeWarning: overflow encountered in exp\n",
      "  return 1/(1+np.exp(-X))\n",
      "c:\\users\\abim\\appdata\\local\\programs\\python\\python39\\lib\\site-packages\\statsmodels\\discrete\\discrete_model.py:1810: RuntimeWarning: overflow encountered in exp\n",
      "  return 1/(1+np.exp(-X))\n"
     ]
    },
    {
     "data": {
      "image/png": "[encoded data removed]",
      "text/plain": [
       "<Figure size 432x288 with 1 Axes>"
      ]
     },
     "metadata": {
      "needs_background": "light"
     },
     "output_type": "display_data"
    }
   ],
   "source": [
    "X_train, y_train = df_python[feature_names], df_python[\"Category\"]\n",
    "y_pred = [1 if i else 0 for i in lm_cluster_value.predict(X_train)>0.5]\n",
    "print(f\"Confusion Matrix: \\n{confusion_matrix(y_train, y_pred)}\")\n",
    "print(f\"Accuracy: {accuracy_score(y_train, y_pred)}\")\n",
    "print(f\"Precision: {precision_score(y_train, y_pred)}\")\n",
    "print(f\"Recall: {recall_score(y_train, y_pred)}\")\n",
    "fpr, tpr, thresholds = roc_curve(y_train, lm_cluster_value.predict(X_train), pos_label=1)\n",
    "roc_auc = auc(fpr, tpr)\n",
    "plt.title('Receiver Operating Characteristic')\n",
    "plt.plot(fpr, tpr, 'b', label = f'AUC(greater is better) = {round(roc_auc, 5)}')\n",
    "plt.legend(loc = 'lower right')\n",
    "plt.plot([0, 1], [0, 1],'r--')\n",
    "plt.xlim([0, 1])\n",
    "plt.ylim([0, 1])\n",
    "plt.ylabel('True Positive Rate')\n",
    "plt.xlabel('False Positive Rate')\n",
    "plt.show()\n",
    "\n",
    "\n",
    "data_summary[\"Exetrems_Model_Python_Dataset\"] = {}\n",
    "data_summary[\"Exetrems_Model_Python_Dataset\"][\"Accuracy\"] = accuracy_score(y_train, y_pred)\n",
    "data_summary[\"Exetrems_Model_Python_Dataset\"][\"Precision\"] = precision_score(y_train, y_pred)\n",
    "data_summary[\"Exetrems_Model_Python_Dataset\"][\"Recall\"] = recall_score(y_train, y_pred)\n",
    "data_summary[\"Exetrems_Model_Python_Dataset\"][\"AUC\"] = auc(fpr, tpr)"
   ]
  }
 ],
 "metadata": {
  "kernelspec": {
   "display_name": "Python 3",
   "language": "python",
   "name": "python3"
  },
  "language_info": {
   "codemirror_mode": {
    "name": "ipython",
    "version": 3
   },
   "file_extension": ".py",
   "mimetype": "text/x-python",
   "name": "python",
   "nbconvert_exporter": "python",
   "pygments_lexer": "ipython3",
   "version": "3.9.4"
  }
 },
 "nbformat": 4,
 "nbformat_minor": 5
}
