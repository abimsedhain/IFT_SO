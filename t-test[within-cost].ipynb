{
 "cells": [
  {
   "cell_type": "code",
   "execution_count": 1,
   "id": "345b24d2",
   "metadata": {},
   "outputs": [],
   "source": [
    "import numpy as np\n",
    "import pandas as pd\n",
    "\n",
    "from statsmodels.stats.weightstats import ttest_ind"
   ]
  },
  {
   "cell_type": "markdown",
   "id": "ecf79c22",
   "metadata": {},
   "source": [
    "## Within Cost"
   ]
  },
  {
   "cell_type": "code",
   "execution_count": 15,
   "id": "6bc2a5dd",
   "metadata": {},
   "outputs": [],
   "source": [
    "df_cost_high = pd.read_csv(\"within_cost_high.csv\")\n",
    "df_cost_low = pd.read_csv(\"within_cost_low.csv\")"
   ]
  },
  {
   "cell_type": "code",
   "execution_count": 17,
   "id": "9d2e59fe",
   "metadata": {},
   "outputs": [
    {
     "data": {
      "text/html": [
       "<div>\n",
       "<style scoped>\n",
       "    .dataframe tbody tr th:only-of-type {\n",
       "        vertical-align: middle;\n",
       "    }\n",
       "\n",
       "    .dataframe tbody tr th {\n",
       "        vertical-align: top;\n",
       "    }\n",
       "\n",
       "    .dataframe thead th {\n",
       "        text-align: right;\n",
       "    }\n",
       "</style>\n",
       "<table border=\"1\" class=\"dataframe\">\n",
       "  <thead>\n",
       "    <tr style=\"text-align: right;\">\n",
       "      <th></th>\n",
       "      <th>Unnamed: 0</th>\n",
       "      <th>Ans_CommentCount</th>\n",
       "      <th>Words_in_Answer_Text</th>\n",
       "      <th>que_answer_ratio</th>\n",
       "    </tr>\n",
       "  </thead>\n",
       "  <tbody>\n",
       "    <tr>\n",
       "      <th>count</th>\n",
       "      <td>3701.000000</td>\n",
       "      <td>3701.000000</td>\n",
       "      <td>3701.000000</td>\n",
       "      <td>3701.000000</td>\n",
       "    </tr>\n",
       "    <tr>\n",
       "      <th>mean</th>\n",
       "      <td>2158.601189</td>\n",
       "      <td>1.714672</td>\n",
       "      <td>133.325317</td>\n",
       "      <td>3.125372</td>\n",
       "    </tr>\n",
       "    <tr>\n",
       "      <th>std</th>\n",
       "      <td>1243.481689</td>\n",
       "      <td>3.803863</td>\n",
       "      <td>174.231792</td>\n",
       "      <td>2.518892</td>\n",
       "    </tr>\n",
       "    <tr>\n",
       "      <th>min</th>\n",
       "      <td>0.000000</td>\n",
       "      <td>0.000000</td>\n",
       "      <td>17.000000</td>\n",
       "      <td>0.000000</td>\n",
       "    </tr>\n",
       "    <tr>\n",
       "      <th>25%</th>\n",
       "      <td>1087.000000</td>\n",
       "      <td>0.000000</td>\n",
       "      <td>52.000000</td>\n",
       "      <td>1.000000</td>\n",
       "    </tr>\n",
       "    <tr>\n",
       "      <th>50%</th>\n",
       "      <td>2168.000000</td>\n",
       "      <td>0.000000</td>\n",
       "      <td>83.000000</td>\n",
       "      <td>2.000000</td>\n",
       "    </tr>\n",
       "    <tr>\n",
       "      <th>75%</th>\n",
       "      <td>3224.000000</td>\n",
       "      <td>2.000000</td>\n",
       "      <td>145.000000</td>\n",
       "      <td>4.000000</td>\n",
       "    </tr>\n",
       "    <tr>\n",
       "      <th>max</th>\n",
       "      <td>4333.000000</td>\n",
       "      <td>44.000000</td>\n",
       "      <td>3362.000000</td>\n",
       "      <td>22.000000</td>\n",
       "    </tr>\n",
       "  </tbody>\n",
       "</table>\n",
       "</div>"
      ],
      "text/plain": [
       "        Unnamed: 0  Ans_CommentCount  Words_in_Answer_Text  que_answer_ratio\n",
       "count  3701.000000       3701.000000           3701.000000       3701.000000\n",
       "mean   2158.601189          1.714672            133.325317          3.125372\n",
       "std    1243.481689          3.803863            174.231792          2.518892\n",
       "min       0.000000          0.000000             17.000000          0.000000\n",
       "25%    1087.000000          0.000000             52.000000          1.000000\n",
       "50%    2168.000000          0.000000             83.000000          2.000000\n",
       "75%    3224.000000          2.000000            145.000000          4.000000\n",
       "max    4333.000000         44.000000           3362.000000         22.000000"
      ]
     },
     "execution_count": 17,
     "metadata": {},
     "output_type": "execute_result"
    }
   ],
   "source": [
    "df_cost_high.describe()"
   ]
  },
  {
   "cell_type": "code",
   "execution_count": 16,
   "id": "fcdcf589",
   "metadata": {},
   "outputs": [
    {
     "data": {
      "text/html": [
       "<div>\n",
       "<style scoped>\n",
       "    .dataframe tbody tr th:only-of-type {\n",
       "        vertical-align: middle;\n",
       "    }\n",
       "\n",
       "    .dataframe tbody tr th {\n",
       "        vertical-align: top;\n",
       "    }\n",
       "\n",
       "    .dataframe thead th {\n",
       "        text-align: right;\n",
       "    }\n",
       "</style>\n",
       "<table border=\"1\" class=\"dataframe\">\n",
       "  <thead>\n",
       "    <tr style=\"text-align: right;\">\n",
       "      <th></th>\n",
       "      <th>Unnamed: 0</th>\n",
       "      <th>Ans_CommentCount</th>\n",
       "      <th>Words_in_Answer_Text</th>\n",
       "      <th>que_answer_ratio</th>\n",
       "    </tr>\n",
       "  </thead>\n",
       "  <tbody>\n",
       "    <tr>\n",
       "      <th>count</th>\n",
       "      <td>633.000000</td>\n",
       "      <td>633.000000</td>\n",
       "      <td>633.000000</td>\n",
       "      <td>633.000000</td>\n",
       "    </tr>\n",
       "    <tr>\n",
       "      <th>mean</th>\n",
       "      <td>2212.682464</td>\n",
       "      <td>1.290679</td>\n",
       "      <td>21.227488</td>\n",
       "      <td>22.988942</td>\n",
       "    </tr>\n",
       "    <tr>\n",
       "      <th>std</th>\n",
       "      <td>1295.867415</td>\n",
       "      <td>2.082368</td>\n",
       "      <td>7.414197</td>\n",
       "      <td>6.544265</td>\n",
       "    </tr>\n",
       "    <tr>\n",
       "      <th>min</th>\n",
       "      <td>5.000000</td>\n",
       "      <td>0.000000</td>\n",
       "      <td>5.000000</td>\n",
       "      <td>9.000000</td>\n",
       "    </tr>\n",
       "    <tr>\n",
       "      <th>25%</th>\n",
       "      <td>1037.000000</td>\n",
       "      <td>0.000000</td>\n",
       "      <td>16.000000</td>\n",
       "      <td>18.000000</td>\n",
       "    </tr>\n",
       "    <tr>\n",
       "      <th>50%</th>\n",
       "      <td>2165.000000</td>\n",
       "      <td>0.000000</td>\n",
       "      <td>21.000000</td>\n",
       "      <td>23.000000</td>\n",
       "    </tr>\n",
       "    <tr>\n",
       "      <th>75%</th>\n",
       "      <td>3362.000000</td>\n",
       "      <td>2.000000</td>\n",
       "      <td>26.000000</td>\n",
       "      <td>27.000000</td>\n",
       "    </tr>\n",
       "    <tr>\n",
       "      <th>max</th>\n",
       "      <td>4330.000000</td>\n",
       "      <td>14.000000</td>\n",
       "      <td>47.000000</td>\n",
       "      <td>53.000000</td>\n",
       "    </tr>\n",
       "  </tbody>\n",
       "</table>\n",
       "</div>"
      ],
      "text/plain": [
       "        Unnamed: 0  Ans_CommentCount  Words_in_Answer_Text  que_answer_ratio\n",
       "count   633.000000        633.000000            633.000000        633.000000\n",
       "mean   2212.682464          1.290679             21.227488         22.988942\n",
       "std    1295.867415          2.082368              7.414197          6.544265\n",
       "min       5.000000          0.000000              5.000000          9.000000\n",
       "25%    1037.000000          0.000000             16.000000         18.000000\n",
       "50%    2165.000000          0.000000             21.000000         23.000000\n",
       "75%    3362.000000          2.000000             26.000000         27.000000\n",
       "max    4330.000000         14.000000             47.000000         53.000000"
      ]
     },
     "execution_count": 16,
     "metadata": {},
     "output_type": "execute_result"
    }
   ],
   "source": [
    "df_cost_low.describe()"
   ]
  },
  {
   "cell_type": "code",
   "execution_count": 52,
   "id": "4cb83c41",
   "metadata": {},
   "outputs": [
    {
     "data": {
      "text/plain": [
       "(2.734972555516067, 0.006263938265830667, 4332.0)"
      ]
     },
     "execution_count": 52,
     "metadata": {},
     "output_type": "execute_result"
    }
   ],
   "source": [
    "high_score  = df_cost_high[\"Ans_CommentCount\"]\n",
    "low_score  = df_cost_low[\"Ans_CommentCount\"]\n",
    "\n",
    "ttest = ttest_ind(high_score,low_score)\n",
    "ttest"
   ]
  },
  {
   "cell_type": "code",
   "execution_count": 53,
   "id": "38244020",
   "metadata": {},
   "outputs": [
    {
     "data": {
      "text/plain": [
       "(16.18314594030475, 3.06979948927643e-57, 4332.0)"
      ]
     },
     "execution_count": 53,
     "metadata": {},
     "output_type": "execute_result"
    }
   ],
   "source": [
    "high_score  = df_cost_high[\"Words_in_Answer_Text\"]\n",
    "low_score  = df_cost_low[\"Words_in_Answer_Text\"]\n",
    "\n",
    "ttest = ttest_ind(high_score,low_score)\n",
    "ttest"
   ]
  },
  {
   "cell_type": "code",
   "execution_count": 54,
   "id": "a2a4d34e",
   "metadata": {},
   "outputs": [
    {
     "data": {
      "text/plain": [
       "(-135.20384390757334, 0.0, 4332.0)"
      ]
     },
     "execution_count": 54,
     "metadata": {},
     "output_type": "execute_result"
    }
   ],
   "source": [
    "high_score  = df_cost_high[\"que_answer_ratio\"]\n",
    "low_score  = df_cost_low[\"que_answer_ratio\"]\n",
    "\n",
    "ttest = ttest_ind(high_score,low_score)\n",
    "ttest"
   ]
  }
 ],
 "metadata": {
  "kernelspec": {
   "display_name": "Python 3",
   "language": "python",
   "name": "python3"
  },
  "language_info": {
   "codemirror_mode": {
    "name": "ipython",
    "version": 3
   },
   "file_extension": ".py",
   "mimetype": "text/x-python",
   "name": "python",
   "nbconvert_exporter": "python",
   "pygments_lexer": "ipython3",
   "version": "3.9.4"
  }
 },
 "nbformat": 4,
 "nbformat_minor": 5
}
